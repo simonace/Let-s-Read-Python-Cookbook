{
 "cells": [
  {
   "cell_type": "markdown",
   "metadata": {},
   "source": [
    "[fractions doc](https://docs.python.org/3/library/fractions.html)"
   ]
  },
  {
   "cell_type": "code",
   "execution_count": 2,
   "metadata": {},
   "outputs": [
    {
     "name": "stdout",
     "output_type": "stream",
     "text": [
      "17/12\n",
      "True\n",
      "2\n",
      "3\n"
     ]
    }
   ],
   "source": [
    "from fractions import Fraction\n",
    "\n",
    "a = Fraction(2,3)\n",
    "b = Fraction(3,4)\n",
    "c = Fraction(4,6)\n",
    "\n",
    "print(a+b)\n",
    "print(a==c)\n",
    "print(c.numerator)\n",
    "print(c.denominator)"
   ]
  },
  {
   "cell_type": "markdown",
   "metadata": {},
   "source": [
    "[float.as_integer_ratio](https://docs.python.org/3/library/stdtypes.html#float.as_integer_ratio)"
   ]
  },
  {
   "cell_type": "code",
   "execution_count": 8,
   "metadata": {},
   "outputs": [
    {
     "name": "stdout",
     "output_type": "stream",
     "text": [
      "(3152519739159347, 4503599627370496)\n",
      "3152519739159347/4503599627370496\n",
      "7/10\n"
     ]
    }
   ],
   "source": [
    "# float is not accurate when stored in computer\n",
    "d = 0.7\n",
    "print(d.as_integer_ratio())\n",
    "print(Fraction(*d.as_integer_ratio()))\n",
    "\n",
    "# what if I want 7/10?\n",
    "df = Fraction(*d.as_integer_ratio())\n",
    "print(df.limit_denominator(100))"
   ]
  },
  {
   "cell_type": "code",
   "execution_count": null,
   "metadata": {},
   "outputs": [],
   "source": []
  }
 ],
 "metadata": {
  "kernelspec": {
   "display_name": "Python 3",
   "language": "python",
   "name": "python3"
  },
  "language_info": {
   "codemirror_mode": {
    "name": "ipython",
    "version": 3
   },
   "file_extension": ".py",
   "mimetype": "text/x-python",
   "name": "python",
   "nbconvert_exporter": "python",
   "pygments_lexer": "ipython3",
   "version": "3.6.4"
  }
 },
 "nbformat": 4,
 "nbformat_minor": 2
}
