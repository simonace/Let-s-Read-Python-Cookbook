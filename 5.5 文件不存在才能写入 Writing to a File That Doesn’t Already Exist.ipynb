{
 "cells": [
  {
   "cell_type": "markdown",
   "metadata": {},
   "source": [
    "> You want to write data to a file, but only if it doesn’t already exist on the filesystem.\n",
    "\n",
    "> This problem is easily solved by using the little-known ***x*** mode to ***open()*** instead of the\n",
    "usual ***w*** mode.\n",
    "\n",
    "[open() doc](https://docs.python.org/3/library/functions.html#open)"
   ]
  },
  {
   "cell_type": "markdown",
   "metadata": {},
   "source": [
    "> An alternative solution is to first test for the file\n",
    "\n",
    "[os.path.exists() doc](https://docs.python.org/3/library/os.path.html#os.path.exists)"
   ]
  },
  {
   "cell_type": "code",
   "execution_count": 1,
   "metadata": {},
   "outputs": [
    {
     "name": "stdout",
     "output_type": "stream",
     "text": [
      "Do the writing\n"
     ]
    }
   ],
   "source": [
    "import os\n",
    "if not os.path.exists(\"file.f\"):\n",
    "    print(\"Do the writing\")\n",
    "else:\n",
    "    print(\"File already exists\")"
   ]
  },
  {
   "cell_type": "markdown",
   "metadata": {},
   "source": [
    "> Clearly, using the x file mode is a lot more straightforward. It is important to note that\n",
    "the x mode is a **Python 3** specific extension to the ***open()*** function. In particular, no\n",
    "such mode exists in earlier Python versions or the underlying C libraries used in Python’s\n",
    "implementation."
   ]
  },
  {
   "cell_type": "code",
   "execution_count": null,
   "metadata": {},
   "outputs": [],
   "source": []
  }
 ],
 "metadata": {
  "kernelspec": {
   "display_name": "Python 3",
   "language": "python",
   "name": "python3"
  },
  "language_info": {
   "codemirror_mode": {
    "name": "ipython",
    "version": 3
   },
   "file_extension": ".py",
   "mimetype": "text/x-python",
   "name": "python",
   "nbconvert_exporter": "python",
   "pygments_lexer": "ipython3",
   "version": "3.6.5"
  }
 },
 "nbformat": 4,
 "nbformat_minor": 2
}
