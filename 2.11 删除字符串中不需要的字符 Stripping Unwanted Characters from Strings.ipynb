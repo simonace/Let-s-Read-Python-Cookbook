{
 "cells": [
  {
   "cell_type": "markdown",
   "metadata": {},
   "source": [
    "[strip() doc](https://docs.python.org/3/library/stdtypes.html#str.strip)\n",
    "\n",
    "[lstrip() doc](https://docs.python.org/3/library/stdtypes.html#str.lstrip)\n",
    "\n",
    "[rstrip() doc](https://docs.python.org/3/library/stdtypes.html#str.rstrip)\n",
    "\n",
    "thay are ***NOT*** in-place functions"
   ]
  },
  {
   "cell_type": "code",
   "execution_count": 8,
   "metadata": {},
   "outputs": [
    {
     "data": {
      "text/plain": [
       "'hello world'"
      ]
     },
     "execution_count": 8,
     "metadata": {},
     "output_type": "execute_result"
    }
   ],
   "source": [
    "s = 'hello world    '\n",
    "s.strip()"
   ]
  },
  {
   "cell_type": "code",
   "execution_count": 9,
   "metadata": {},
   "outputs": [
    {
     "name": "stdout",
     "output_type": "stream",
     "text": [
      "====s--s=s--s==s=s-s\n",
      "s--s=s--s==s=s-s--\n",
      "====s--s=s--s==s=s-s--\n",
      "s--s=s--s==s=s-s--\n",
      "====s--s=s--s==s=s-s\n",
      "====s--s=s--s==s=s-s--\n"
     ]
    }
   ],
   "source": [
    "ss = '====s--s=s--s==s=s-s--'\n",
    "# strip() strips both ends\n",
    "print(ss.strip('-'))\n",
    "print(ss.strip('='))\n",
    "# lstrip() strips from left side\n",
    "print(ss.lstrip('-'))\n",
    "print(ss.lstrip('='))\n",
    "# rstrip() strips from right side\n",
    "print(ss.rstrip('-'))\n",
    "print(ss.rstrip('='))"
   ]
  },
  {
   "cell_type": "markdown",
   "metadata": {},
   "source": [
    "> If you needed to do something to the inner space, you would need to use another technique,\n",
    "such as using the **replace()** method or **a regular expression substitution**.\n",
    "\n",
    "[replace() doc](https://docs.python.org/3/library/stdtypes.html#str.replace)\n",
    "\n",
    "[re.sub() doc](https://docs.python.org/3/library/re.html#re.sub)"
   ]
  },
  {
   "cell_type": "code",
   "execution_count": null,
   "metadata": {},
   "outputs": [],
   "source": []
  }
 ],
 "metadata": {
  "kernelspec": {
   "display_name": "Python 3",
   "language": "python",
   "name": "python3"
  },
  "language_info": {
   "codemirror_mode": {
    "name": "ipython",
    "version": 3
   },
   "file_extension": ".py",
   "mimetype": "text/x-python",
   "name": "python",
   "nbconvert_exporter": "python",
   "pygments_lexer": "ipython3",
   "version": "3.6.4"
  }
 },
 "nbformat": 4,
 "nbformat_minor": 2
}
