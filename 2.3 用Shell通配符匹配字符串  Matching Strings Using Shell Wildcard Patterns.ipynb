{
 "cells": [
  {
   "cell_type": "markdown",
   "metadata": {},
   "source": [
    "[fnmatch doc](https://docs.python.org/3/library/fnmatch.html)"
   ]
  },
  {
   "cell_type": "code",
   "execution_count": 3,
   "metadata": {
    "collapsed": true
   },
   "outputs": [],
   "source": [
    "import os\n",
    "import fnmatch"
   ]
  },
  {
   "cell_type": "markdown",
   "metadata": {},
   "source": [
    "### use fnmatch\n",
    "\n",
    "> Normally, fnmatch() matches patterns using the same case-sensitivity rules as the sys‐\n",
    "tem’s underlying filesystem (which varies based on operating system).\n",
    "\n",
    "in Windows, the suffix is not case sensitive"
   ]
  },
  {
   "cell_type": "code",
   "execution_count": 4,
   "metadata": {},
   "outputs": [
    {
     "name": "stdout",
     "output_type": "stream",
     "text": [
      "1.1 解压序列赋值给多个变量 Unpacking a Sequence into Separate Variables.ipynb\n",
      "1.10 删除序列相同元素并保持顺序 Removing Duplicates from a Sequence while Maintaining Order.ipynb\n",
      "1.11 命名切片 Naming a Slice.ipynb\n",
      "1.12 序列中出现次数最多的元素 Determining the Most Frequently Occurring Items in a Sequence.ipynb\n",
      "1.13 通过某个关键字排序一个字典列表 Sorting a List of Dictionaries by a Common Key.ipynb\n",
      "1.14 排序不支持原生比较的对象 Sorting Objects Without Native Comparison Support.ipynb\n",
      "1.15 通过某个字段将记录分组 Grouping Records Together Based on a Field.ipynb\n",
      "1.16 过滤序列元 Filtering Sequence Elements.ipynb\n",
      "1.17 从字典中提取子集 Extracting a Subset of a Dictionary.ipynb\n",
      "1.18 映射名称到序列元素 Mapping Names to Sequence Elements.ipynb\n",
      "1.19 转换并同时计算数据  Transforming and Reducing Data at the Same Time.ipynb\n",
      "1.2 解压可迭代对象赋值给多个变量 Unpacking Elements from Iterables of Arbitrary.ipynb\n",
      "1.20 合并多个字典或映射 Combining Multiple Mappings into a Single Mapping.ipynb\n",
      "1.3 保留最后 N 个元素 Keeping the Last N Items.ipynb\n",
      "1.4 查找最大或最小的 N 个元素 Finding the Largest or Smallest N Items.ipynb\n",
      "1.5 实现一个优先级队列 Implementing a Priority Queue.ipynb\n",
      "1.6 字典中的键映射多个值 Mapping Keys to Multiple Values in a Dictionary.ipynb\n",
      "1.7 字典排序 Keeping Dictionaries in Order.ipynb\n",
      "1.8 字典的运算 Calculating with Dictionaries.ipynb\n",
      "1.9 查找两字典的相同点 Finding Commonalities in Two Dictionaries.ipynb\n",
      "2.1 使用多个界定符分割字符串 Splitting Strings on Any of Multiple Delimiters.ipynb\n",
      "2.2 字符串开头或结尾匹配 Matching Text at the Start or End of a String.ipynb\n",
      "2.3 用Shell通配符匹配字符串  Matching Strings Using Shell Wildcard Patterns.ipynb\n"
     ]
    }
   ],
   "source": [
    "for name in os.listdir('.'):\n",
    "    if fnmatch.fnmatch(name, '*.IPYNB'):\n",
    "        print(name)"
   ]
  },
  {
   "cell_type": "markdown",
   "metadata": {},
   "source": [
    "### use fnmatchcase\n",
    "\n",
    "to make sure it's case sensitive regardless of the OS, use ***fnmatchcase()***"
   ]
  },
  {
   "cell_type": "code",
   "execution_count": 6,
   "metadata": {},
   "outputs": [
    {
     "name": "stdout",
     "output_type": "stream",
     "text": [
      "not match\n",
      "not match\n",
      "not match\n",
      "not match\n",
      "not match\n",
      "not match\n",
      "not match\n",
      "not match\n",
      "not match\n",
      "not match\n",
      "not match\n",
      "not match\n",
      "not match\n",
      "not match\n",
      "not match\n",
      "not match\n",
      "not match\n",
      "not match\n",
      "not match\n",
      "not match\n",
      "not match\n",
      "not match\n",
      "not match\n",
      "not match\n",
      "not match\n"
     ]
    }
   ],
   "source": [
    "for name in os.listdir('.'):\n",
    "    if fnmatch.fnmatchcase(name, '*.IPYNB'):\n",
    "        print(name)\n",
    "    else:\n",
    "        print(\"not match\")"
   ]
  },
  {
   "cell_type": "markdown",
   "metadata": {},
   "source": [
    "> If you’re actually trying to write code that matches filenames, use the ***glob*** module\n",
    "instead. See ___Recipe 5.13___."
   ]
  },
  {
   "cell_type": "code",
   "execution_count": null,
   "metadata": {
    "collapsed": true
   },
   "outputs": [],
   "source": []
  }
 ],
 "metadata": {
  "kernelspec": {
   "display_name": "Python 3",
   "language": "python",
   "name": "python3"
  },
  "language_info": {
   "codemirror_mode": {
    "name": "ipython",
    "version": 3
   },
   "file_extension": ".py",
   "mimetype": "text/x-python",
   "name": "python",
   "nbconvert_exporter": "python",
   "pygments_lexer": "ipython3",
   "version": "3.6.3"
  }
 },
 "nbformat": 4,
 "nbformat_minor": 2
}
