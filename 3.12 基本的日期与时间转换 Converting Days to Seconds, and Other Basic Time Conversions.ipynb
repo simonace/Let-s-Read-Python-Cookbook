{
 "cells": [
  {
   "cell_type": "markdown",
   "metadata": {},
   "source": [
    "[datetime doc](https://docs.python.org/3/library/datetime.html)"
   ]
  },
  {
   "cell_type": "code",
   "execution_count": 1,
   "metadata": {},
   "outputs": [
    {
     "name": "stdout",
     "output_type": "stream",
     "text": [
      "2018\n",
      "7\n",
      "20\n",
      "23\n",
      "15\n",
      "9\n",
      "<class 'datetime.timedelta'>\n",
      "169 days, 23:15:09.037401\n"
     ]
    }
   ],
   "source": [
    "import datetime\n",
    "\n",
    "today = datetime.datetime.today()\n",
    "one_day = datetime.datetime(year=2018,month=2,day=1)\n",
    "print(today.year)\n",
    "print(today.month)\n",
    "print(today.day)\n",
    "print(today.hour)\n",
    "print(today.minute)\n",
    "print(today.second)\n",
    "delta_time = today - one_day\n",
    "print(type(delta_time))\n",
    "print(delta_time)"
   ]
  },
  {
   "cell_type": "markdown",
   "metadata": {},
   "source": [
    "> For most basic date and time manipulation problems, the datetime module will suffice.\n",
    "If you need to perform more complex date manipulations, such as dealing with time\n",
    "zones, fuzzy time ranges, calculating the dates of holidays, and so forth, look at the\n",
    "***dateutil*** module."
   ]
  },
  {
   "cell_type": "code",
   "execution_count": null,
   "metadata": {
    "collapsed": true
   },
   "outputs": [],
   "source": []
  }
 ],
 "metadata": {
  "kernelspec": {
   "display_name": "Python 3",
   "language": "python",
   "name": "python3"
  },
  "language_info": {
   "codemirror_mode": {
    "name": "ipython",
    "version": 3
   },
   "file_extension": ".py",
   "mimetype": "text/x-python",
   "name": "python",
   "nbconvert_exporter": "python",
   "pygments_lexer": "ipython3",
   "version": "3.6.3"
  }
 },
 "nbformat": 4,
 "nbformat_minor": 2
}
