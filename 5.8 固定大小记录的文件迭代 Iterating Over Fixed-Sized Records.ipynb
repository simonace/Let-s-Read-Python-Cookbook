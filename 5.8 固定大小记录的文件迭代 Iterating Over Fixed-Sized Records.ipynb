{
 "cells": [
  {
   "cell_type": "markdown",
   "metadata": {},
   "source": [
    "[iter() doc](https://docs.python.org/3/library/functions.html#iter)\n",
    "\n",
    "[functools.partial() doc](https://docs.python.org/3/library/functools.html#functools.partial)"
   ]
  },
  {
   "cell_type": "code",
   "execution_count": 20,
   "metadata": {},
   "outputs": [
    {
     "name": "stdout",
     "output_type": "stream",
     "text": [
      "a\n",
      "b\n",
      "c\n",
      "d\n",
      "e\n",
      "f\n",
      "g\n",
      "h\n",
      "j\n"
     ]
    }
   ],
   "source": [
    "import io\n",
    "import functools\n",
    "\n",
    "s = io.StringIO()\n",
    "s.write(\"abcdefghj\\nabc\")\n",
    "s.seek(0)\n",
    "\n",
    "\n",
    "# here must give iter() the second argument\n",
    "for c in iter(functools.partial(s.read, 1), '\\n'):\n",
    "    print(c)"
   ]
  },
  {
   "cell_type": "markdown",
   "metadata": {},
   "source": [
    "from iter() doc\n",
    "\n",
    "> The first argument is interpreted very differently depending on the presence of the second argument.\n",
    "\n",
    "> Without a second argument, the first argument must be a collection object which supports the iteration protocol.\n",
    "\n",
    "> If the second argument is given, then the first argument must be a callable object. The iterator created in this case will call the first argument with no arguments for each call to its ***\\_\\_next\\_\\_()*** method; if the value returned is equal to the second argument, **StopIteration** will be raised, otherwise the value will be returned."
   ]
  },
  {
   "cell_type": "code",
   "execution_count": null,
   "metadata": {},
   "outputs": [],
   "source": []
  }
 ],
 "metadata": {
  "kernelspec": {
   "display_name": "Python 3",
   "language": "python",
   "name": "python3"
  },
  "language_info": {
   "codemirror_mode": {
    "name": "ipython",
    "version": 3
   },
   "file_extension": ".py",
   "mimetype": "text/x-python",
   "name": "python",
   "nbconvert_exporter": "python",
   "pygments_lexer": "ipython3",
   "version": "3.6.5"
  }
 },
 "nbformat": 4,
 "nbformat_minor": 2
}
