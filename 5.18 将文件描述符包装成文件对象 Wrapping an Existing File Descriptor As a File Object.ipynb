{
 "cells": [
  {
   "cell_type": "markdown",
   "metadata": {},
   "source": [
    "[file descriptor](https://en.wikipedia.org/wiki/File_descriptor)\n",
    "\n",
    "> A file descriptor is different than a normal open file in that it is simply an integer handle\n",
    "assigned by the operating system to refer to some kind of system I/O channel. If you\n",
    "happen to have such a file descriptor, you can wrap a Python file object around it using\n",
    "the **open()** function. However, you simply supply the integer file descriptor as the first\n",
    "argument instead of the filename."
   ]
  },
  {
   "cell_type": "code",
   "execution_count": 29,
   "metadata": {},
   "outputs": [
    {
     "name": "stdout",
     "output_type": "stream",
     "text": [
      "52\n"
     ]
    },
    {
     "data": {
      "text/plain": [
       "int"
      ]
     },
     "execution_count": 29,
     "metadata": {},
     "output_type": "execute_result"
    }
   ],
   "source": [
    "import os\n",
    "fd = os.open('somefile.txt', os.O_WRONLY | os.O_CREAT)\n",
    "\n",
    "print(fd)\n",
    "type(fd)"
   ]
  },
  {
   "cell_type": "markdown",
   "metadata": {},
   "source": [
    "> When the high-level file object is closed or destroyed, the underlying file descriptor will\n",
    "also be closed. If this is not desired, supply the optional ***closefd=False*** argument to\n",
    "**open()**."
   ]
  },
  {
   "cell_type": "code",
   "execution_count": 30,
   "metadata": {},
   "outputs": [],
   "source": [
    "f = open(fd, 'wt', closefd=False)\n",
    "f.write('hello world\\n')\n",
    "f.close()"
   ]
  },
  {
   "cell_type": "code",
   "execution_count": 32,
   "metadata": {},
   "outputs": [],
   "source": [
    "fi = open(fd, 'wt', closefd=False)\n",
    "fi.write(\"bye\")\n",
    "fi.flush()\n",
    "\n",
    "fo = open(fd, 'rt', closefd=False)"
   ]
  },
  {
   "cell_type": "markdown",
   "metadata": {},
   "source": [
    "> Although it’s possible to wrap an existing file descriptor as a proper file, be aware that\n",
    "not all file modes may be supported and that certain kinds of file descriptors may have\n",
    "funny side effects (especially with respect to error handling, end-of-file conditions, etc.).\n",
    "The behavior can also vary according to operating system. In particular, none of the\n",
    "examples are likely to work on non-Unix systems. The bottom line is that you’ll need\n",
    "to thoroughly test your implementation to make sure it works as expected."
   ]
  },
  {
   "cell_type": "code",
   "execution_count": null,
   "metadata": {},
   "outputs": [],
   "source": []
  }
 ],
 "metadata": {
  "kernelspec": {
   "display_name": "Python 3",
   "language": "python",
   "name": "python3"
  },
  "language_info": {
   "codemirror_mode": {
    "name": "ipython",
    "version": 3
   },
   "file_extension": ".py",
   "mimetype": "text/x-python",
   "name": "python",
   "nbconvert_exporter": "python",
   "pygments_lexer": "ipython3",
   "version": "3.6.5"
  }
 },
 "nbformat": 4,
 "nbformat_minor": 2
}
