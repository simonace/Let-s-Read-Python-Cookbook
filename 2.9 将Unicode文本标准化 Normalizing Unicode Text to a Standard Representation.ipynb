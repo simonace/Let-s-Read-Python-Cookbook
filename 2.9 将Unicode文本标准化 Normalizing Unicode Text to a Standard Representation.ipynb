{
 "cells": [
  {
   "cell_type": "markdown",
   "metadata": {},
   "source": [
    "[unicodedata doc](https://docs.python.org/3/library/unicodedata.html)\n",
    "\n",
    "> For unicodedata.normalize(), valid values for form are ***‘NFC’***, ***‘NFKC’***, ***‘NFD’***, and ***‘NFKD’***.\n",
    "\n",
    "Since I cannot give an example, the example in the cookbook is used here."
   ]
  },
  {
   "cell_type": "code",
   "execution_count": 1,
   "metadata": {},
   "outputs": [
    {
     "name": "stdout",
     "output_type": "stream",
     "text": [
      "'Spicy Jalape\\xf1o'\n",
      "'Spicy Jalapen\\u0303o'\n",
      "'Spicy Jalape\\xf1o'\n",
      "'Spicy Jalape\\xf1o'\n",
      "True\n",
      "'Spicy Jalapen\\u0303o'\n",
      "'Spicy Jalapen\\u0303o'\n",
      "True\n"
     ]
    }
   ],
   "source": [
    "import unicodedata\n",
    "\n",
    "s1 = 'Spicy Jalape\\u00f1o'\n",
    "s2 = 'Spicy Jalapen\\u0303o'\n",
    "\n",
    "print(ascii(s1))\n",
    "print(ascii(s2))\n",
    "\n",
    "s1_nfc = unicodedata.normalize('NFC', s1)\n",
    "s2_nfc = unicodedata.normalize('NFC', s2)\n",
    "print(ascii(s1_nfc))\n",
    "print(ascii(s2_nfc))\n",
    "print(s1_nfc==s2_nfc)\n",
    "\n",
    "s1_nfd = unicodedata.normalize('NFD', s1)\n",
    "s2_nfd = unicodedata.normalize('NFD', s2)\n",
    "print(ascii(s1_nfd))\n",
    "print(ascii(s2_nfd))\n",
    "print(s1_nfd==s2_nfd)"
   ]
  },
  {
   "cell_type": "markdown",
   "metadata": {},
   "source": [
    "> The [combining()](https://docs.python.org/3/library/unicodedata.html#unicodedata.combining) function tests a character to see if it is a combining character."
   ]
  },
  {
   "cell_type": "code",
   "execution_count": 13,
   "metadata": {},
   "outputs": [
    {
     "name": "stdout",
     "output_type": "stream",
     "text": [
      "b'\\xcc\\x83'\n",
      "230\n"
     ]
    }
   ],
   "source": [
    "for c in s2:\n",
    "    if unicodedata.combining(c):\n",
    "        print(c.encode('utf-8'))\n",
    "        print(unicodedata.combining(c))"
   ]
  },
  {
   "cell_type": "code",
   "execution_count": null,
   "metadata": {},
   "outputs": [],
   "source": []
  }
 ],
 "metadata": {
  "kernelspec": {
   "display_name": "Python 3",
   "language": "python",
   "name": "python3"
  },
  "language_info": {
   "codemirror_mode": {
    "name": "ipython",
    "version": 3
   },
   "file_extension": ".py",
   "mimetype": "text/x-python",
   "name": "python",
   "nbconvert_exporter": "python",
   "pygments_lexer": "ipython3",
   "version": "3.6.4"
  }
 },
 "nbformat": 4,
 "nbformat_minor": 2
}
