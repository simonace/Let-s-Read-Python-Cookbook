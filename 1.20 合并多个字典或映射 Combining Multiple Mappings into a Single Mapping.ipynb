{
 "cells": [
  {
   "cell_type": "markdown",
   "metadata": {},
   "source": [
    "[ChainMap doc](https://docs.python.org/3/library/collections.html#collections.ChainMap)\n",
    "\n",
    "> If there are duplicate keys, the values from the first mapping get used."
   ]
  },
  {
   "cell_type": "code",
   "execution_count": 1,
   "metadata": {},
   "outputs": [
    {
     "name": "stdout",
     "output_type": "stream",
     "text": [
      "1\n",
      "2\n",
      "4\n"
     ]
    }
   ],
   "source": [
    "a = {'x':1, 'y':2}\n",
    "b = {'y':3, 'z':4}\n",
    "\n",
    "from collections import ChainMap\n",
    "c = ChainMap(a,b)\n",
    "\n",
    "print(c['x'])\n",
    "print(c['y'])\n",
    "print(c['z'])"
   ]
  },
  {
   "cell_type": "markdown",
   "metadata": {},
   "source": [
    "> As an alternative to ChainMap, you might consider merging dictionaries together using\n",
    "the update() method.\n",
    "\n",
    "\n",
    "ChainMap uses the oringinal dicts, while update() creates new dict\n",
    "\n",
    "#### update()"
   ]
  },
  {
   "cell_type": "code",
   "execution_count": 2,
   "metadata": {},
   "outputs": [
    {
     "name": "stdout",
     "output_type": "stream",
     "text": [
      "{'y': 2, 'z': 4, 'x': 1}\n",
      "1\n"
     ]
    }
   ],
   "source": [
    "a = {'x':1, 'y':2}\n",
    "b = {'y':3, 'z':4}\n",
    "\n",
    "c= dict(b)\n",
    "c.update(a)\n",
    "\n",
    "print(c)\n",
    "\n",
    "a['x'] = 5\n",
    "print(c['x'])"
   ]
  },
  {
   "cell_type": "markdown",
   "metadata": {},
   "source": [
    "#### ChainMap"
   ]
  },
  {
   "cell_type": "code",
   "execution_count": 3,
   "metadata": {},
   "outputs": [
    {
     "name": "stdout",
     "output_type": "stream",
     "text": [
      "ChainMap({'x': 1, 'y': 2}, {'y': 3, 'z': 4})\n",
      "5\n"
     ]
    }
   ],
   "source": [
    "a = {'x':1, 'y':2}\n",
    "b = {'y':3, 'z':4}\n",
    "\n",
    "c = ChainMap(a, b)\n",
    "\n",
    "print(c)\n",
    "\n",
    "a['x'] = 5\n",
    "print(c['x'])"
   ]
  },
  {
   "cell_type": "code",
   "execution_count": null,
   "metadata": {
    "collapsed": true
   },
   "outputs": [],
   "source": []
  }
 ],
 "metadata": {
  "kernelspec": {
   "display_name": "Python 3",
   "language": "python",
   "name": "python3"
  },
  "language_info": {
   "codemirror_mode": {
    "name": "ipython",
    "version": 3
   },
   "file_extension": ".py",
   "mimetype": "text/x-python",
   "name": "python",
   "nbconvert_exporter": "python",
   "pygments_lexer": "ipython3",
   "version": "3.6.3"
  }
 },
 "nbformat": 4,
 "nbformat_minor": 2
}
