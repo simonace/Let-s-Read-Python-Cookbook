{
 "cells": [
  {
   "cell_type": "code",
   "execution_count": 4,
   "metadata": {},
   "outputs": [
    {
     "name": "stdout",
     "output_type": "stream",
     "text": [
      "4\n",
      "3\n",
      "2\n",
      "1\n",
      "<class 'list_reverseiterator'>\n"
     ]
    }
   ],
   "source": [
    "my_list = [1,2,3,4]\n",
    "for i in reversed(my_list):\n",
    "    print(i)\n",
    "\n",
    "print(type(reversed(my_list)))"
   ]
  },
  {
   "cell_type": "markdown",
   "metadata": {},
   "source": [
    "> Many programmers don’t realize that reversed iteration can be customized on userdefined\n",
    "classes if they implement the **\\_\\_reversed\\_\\_()** method."
   ]
  },
  {
   "cell_type": "code",
   "execution_count": 9,
   "metadata": {},
   "outputs": [],
   "source": [
    "class EvenNum():\n",
    "    def __init__(self, until=100):\n",
    "        self.until = until\n",
    "    \n",
    "    def __iter__(self):\n",
    "        i=0\n",
    "        while i<=self.until:\n",
    "            yield i\n",
    "            i = i +2\n",
    "    \n",
    "    def __reversed__(self):\n",
    "        i = self.until - self.until%2\n",
    "        while i>= 0:\n",
    "            yield i\n",
    "            i = i - 2"
   ]
  },
  {
   "cell_type": "code",
   "execution_count": 10,
   "metadata": {},
   "outputs": [
    {
     "name": "stdout",
     "output_type": "stream",
     "text": [
      "0\n",
      "2\n",
      "4\n",
      "6\n",
      "8\n",
      "10\n",
      "12\n",
      "14\n",
      "16\n",
      "18\n",
      "20\n"
     ]
    }
   ],
   "source": [
    "even1 = EvenNum(20)\n",
    "for x in even1:\n",
    "    print(x)"
   ]
  },
  {
   "cell_type": "code",
   "execution_count": 11,
   "metadata": {},
   "outputs": [
    {
     "name": "stdout",
     "output_type": "stream",
     "text": [
      "18\n",
      "16\n",
      "14\n",
      "12\n",
      "10\n",
      "8\n",
      "6\n",
      "4\n",
      "2\n",
      "0\n"
     ]
    }
   ],
   "source": [
    "even2 = EvenNum(19)\n",
    "for y in reversed(even2):\n",
    "    print(y)"
   ]
  },
  {
   "cell_type": "code",
   "execution_count": null,
   "metadata": {},
   "outputs": [],
   "source": []
  }
 ],
 "metadata": {
  "kernelspec": {
   "display_name": "Python 3",
   "language": "python",
   "name": "python3"
  },
  "language_info": {
   "codemirror_mode": {
    "name": "ipython",
    "version": 3
   },
   "file_extension": ".py",
   "mimetype": "text/x-python",
   "name": "python",
   "nbconvert_exporter": "python",
   "pygments_lexer": "ipython3",
   "version": "3.6.4"
  }
 },
 "nbformat": 4,
 "nbformat_minor": 2
}
