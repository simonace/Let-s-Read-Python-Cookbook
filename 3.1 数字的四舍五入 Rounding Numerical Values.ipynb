{
 "cells": [
  {
   "cell_type": "markdown",
   "metadata": {},
   "source": [
    "[round() doc](https://docs.python.org/3/library/functions.html#round)"
   ]
  },
  {
   "cell_type": "code",
   "execution_count": 5,
   "metadata": {},
   "outputs": [
    {
     "name": "stdout",
     "output_type": "stream",
     "text": [
      "3.142\n",
      "2.71828\n"
     ]
    }
   ],
   "source": [
    "import math\n",
    "\n",
    "print(round(math.pi,3))\n",
    "\n",
    "print(round(math.e,5))"
   ]
  },
  {
   "cell_type": "markdown",
   "metadata": {},
   "source": [
    "> The number of digits given to round() can be negative, in which case rounding takes\n",
    "place for tens, hundreds, thousands, and so on."
   ]
  },
  {
   "cell_type": "code",
   "execution_count": 9,
   "metadata": {},
   "outputs": [
    {
     "name": "stdout",
     "output_type": "stream",
     "text": [
      "65536\n",
      "65540\n",
      "65500\n"
     ]
    }
   ],
   "source": [
    "two_to_16 = pow(2,16)\n",
    "\n",
    "print(two_to_16)\n",
    "print(round(two_to_16, -1))\n",
    "print(round(two_to_16, -2))"
   ]
  },
  {
   "cell_type": "markdown",
   "metadata": {},
   "source": [
    "> Don’t confuse rounding with formatting a value for output. If your goal is simply to\n",
    "output a numerical value with a certain number of decimal places, you don’t typically\n",
    "need to use round(). Instead, just specify the desired precision when formatting."
   ]
  },
  {
   "cell_type": "code",
   "execution_count": 10,
   "metadata": {},
   "outputs": [
    {
     "name": "stdout",
     "output_type": "stream",
     "text": [
      "pi is 3.14\n"
     ]
    }
   ],
   "source": [
    "f = \"pi is {:.2f}\".format(math.pi)\n",
    "print(f)"
   ]
  },
  {
   "cell_type": "code",
   "execution_count": null,
   "metadata": {},
   "outputs": [],
   "source": []
  }
 ],
 "metadata": {
  "kernelspec": {
   "display_name": "Python 3",
   "language": "python",
   "name": "python3"
  },
  "language_info": {
   "codemirror_mode": {
    "name": "ipython",
    "version": 3
   },
   "file_extension": ".py",
   "mimetype": "text/x-python",
   "name": "python",
   "nbconvert_exporter": "python",
   "pygments_lexer": "ipython3",
   "version": "3.6.4"
  }
 },
 "nbformat": 4,
 "nbformat_minor": 2
}
