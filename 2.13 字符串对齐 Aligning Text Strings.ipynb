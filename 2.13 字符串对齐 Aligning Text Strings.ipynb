{
 "cells": [
  {
   "cell_type": "markdown",
   "metadata": {},
   "source": [
    "### using ***str.ljust() str.rjust() str.center()***\n",
    "\n",
    "[str.ljust()](https://docs.python.org/3/library/stdtypes.html#str.ljust)\n",
    "\n",
    "[str.rjust()](https://docs.python.org/3/library/stdtypes.html#str.rjust)\n",
    "\n",
    "[str.center()](https://docs.python.org/3/library/stdtypes.html#str.center)\n",
    "\n",
    "original string is returned if len(s) is less than or equal to the length of original string"
   ]
  },
  {
   "cell_type": "code",
   "execution_count": 1,
   "metadata": {},
   "outputs": [
    {
     "name": "stdout",
     "output_type": "stream",
     "text": [
      "          I am Simon          \n",
      "I am Simon                    \n",
      "                    I am Simon\n"
     ]
    }
   ],
   "source": [
    "s = \"I am Simon\"\n",
    "\n",
    "print(s.center(30))\n",
    "print(s.ljust(30))\n",
    "print(s.rjust(30))"
   ]
  },
  {
   "cell_type": "markdown",
   "metadata": {},
   "source": [
    "> All of these methods accept an optional fill character as well."
   ]
  },
  {
   "cell_type": "code",
   "execution_count": 2,
   "metadata": {},
   "outputs": [
    {
     "name": "stdout",
     "output_type": "stream",
     "text": [
      "==========I am Simon==========\n",
      "I am Simon--------------------\n",
      "********************I am Simon\n"
     ]
    }
   ],
   "source": [
    "print(s.center(30,'='))\n",
    "print(s.ljust(30,'-'))\n",
    "print(s.rjust(30,'*'))"
   ]
  },
  {
   "cell_type": "markdown",
   "metadata": {},
   "source": [
    "### using ***format()***\n",
    "\n",
    "[format() doc](https://docs.python.org/3/library/functions.html#format)\n",
    "\n",
    "> All you need to do is usethe <, >, or ^ characters along with a desired width."
   ]
  },
  {
   "cell_type": "code",
   "execution_count": 3,
   "metadata": {},
   "outputs": [
    {
     "name": "stdout",
     "output_type": "stream",
     "text": [
      "==========I am Simon==========\n",
      "I am Simon--------------------\n",
      "********************I am Simon\n"
     ]
    }
   ],
   "source": [
    "print(format(s, '=^30'))\n",
    "print(format(s, '-<30'))\n",
    "print(format(s, '*>30'))"
   ]
  },
  {
   "cell_type": "markdown",
   "metadata": {},
   "source": [
    "#### more advanced usages of ***format()***"
   ]
  },
  {
   "cell_type": "code",
   "execution_count": 7,
   "metadata": {},
   "outputs": [
    {
     "name": "stdout",
     "output_type": "stream",
     "text": [
      "a,b-c\n",
      "c,d-3.14159\n",
      "  Simon   \n",
      "Simonnnnnn\n",
      "*****Simon\n",
      "3.142\n",
      "10\n",
      "1010\n",
      "12\n",
      "a\n",
      "1,234,567,890\n"
     ]
    }
   ],
   "source": [
    "s1 = \"{},{}-{}\".format('a','b','c')\n",
    "print(s1)\n",
    "\n",
    "s2 = \"{c},{d}-{e}\".format(c='c', d='d', e=3.14159)\n",
    "print(s2)\n",
    "\n",
    "# alignment\n",
    "print('{:^10}'.format('Simon'))\n",
    "print('{:n<10}'.format('Simon'))\n",
    "print('{:*>10}'.format('Simon'))\n",
    "\n",
    "# for float accuracy\n",
    "print('{:.3f}'.format(3.1415926))\n",
    "\n",
    "# cast type\n",
    "print('{:d}'.format(10))\n",
    "print('{:b}'.format(10))\n",
    "print('{:o}'.format(10))\n",
    "print('{:x}'.format(10))\n",
    "\n",
    "# comma to seperate hundreds, thousands, millions etc\n",
    "print('{:,}'.format(1234567890))"
   ]
  },
  {
   "cell_type": "code",
   "execution_count": null,
   "metadata": {},
   "outputs": [],
   "source": []
  }
 ],
 "metadata": {
  "kernelspec": {
   "display_name": "Python 3",
   "language": "python",
   "name": "python3"
  },
  "language_info": {
   "codemirror_mode": {
    "name": "ipython",
    "version": 3
   },
   "file_extension": ".py",
   "mimetype": "text/x-python",
   "name": "python",
   "nbconvert_exporter": "python",
   "pygments_lexer": "ipython3",
   "version": "3.6.4"
  }
 },
 "nbformat": 4,
 "nbformat_minor": 2
}
