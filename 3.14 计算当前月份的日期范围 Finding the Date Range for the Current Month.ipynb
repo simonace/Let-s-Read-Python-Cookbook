{
 "cells": [
  {
   "cell_type": "markdown",
   "metadata": {},
   "source": [
    "[calendar doc](https://docs.python.org/3/library/calendar.html)\n",
    "\n",
    "maybe use itermonthdates(year, month) in calendar lib is a easier way than the way in the cookbook\n",
    "\n",
    "all days before the start of the month or after the end of the month that are required to get a complete week are also returned in this method"
   ]
  },
  {
   "cell_type": "code",
   "execution_count": 4,
   "metadata": {},
   "outputs": [
    {
     "name": "stdout",
     "output_type": "stream",
     "text": [
      "2012-08-01\n",
      "2012-08-02\n",
      "2012-08-03\n",
      "2012-08-04\n",
      "2012-08-05\n",
      "2012-08-06\n",
      "2012-08-07\n",
      "2012-08-08\n",
      "2012-08-09\n",
      "2012-08-10\n",
      "2012-08-11\n",
      "2012-08-12\n",
      "2012-08-13\n",
      "2012-08-14\n",
      "2012-08-15\n",
      "2012-08-16\n",
      "2012-08-17\n",
      "2012-08-18\n",
      "2012-08-19\n",
      "2012-08-20\n",
      "2012-08-21\n",
      "2012-08-22\n",
      "2012-08-23\n",
      "2012-08-24\n",
      "2012-08-25\n",
      "2012-08-26\n",
      "2012-08-27\n",
      "2012-08-28\n",
      "2012-08-29\n",
      "2012-08-30\n",
      "2012-08-31\n"
     ]
    }
   ],
   "source": [
    "import calendar\n",
    "\n",
    "c = calendar.Calendar()\n",
    "\n",
    "for d in c.itermonthdates(2012,8):\n",
    "    if d.month == 8:\n",
    "        print(d)"
   ]
  },
  {
   "cell_type": "code",
   "execution_count": null,
   "metadata": {
    "collapsed": true
   },
   "outputs": [],
   "source": []
  }
 ],
 "metadata": {
  "kernelspec": {
   "display_name": "Python 3",
   "language": "python",
   "name": "python3"
  },
  "language_info": {
   "codemirror_mode": {
    "name": "ipython",
    "version": 3
   },
   "file_extension": ".py",
   "mimetype": "text/x-python",
   "name": "python",
   "nbconvert_exporter": "python",
   "pygments_lexer": "ipython3",
   "version": "3.6.3"
  }
 },
 "nbformat": 4,
 "nbformat_minor": 2
}
