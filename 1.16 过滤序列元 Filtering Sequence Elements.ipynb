{
 "cells": [
  {
   "cell_type": "code",
   "execution_count": 3,
   "metadata": {
    "collapsed": true
   },
   "outputs": [],
   "source": [
    "mylist = [1, 4, -5, 10, -7, 2, 3, -1]"
   ]
  },
  {
   "cell_type": "markdown",
   "metadata": {},
   "source": [
    "### list comprehension( use []) vs generater( use ())"
   ]
  },
  {
   "cell_type": "code",
   "execution_count": 4,
   "metadata": {},
   "outputs": [
    {
     "name": "stdout",
     "output_type": "stream",
     "text": [
      "[1, 4, 10, 2, 3]\n",
      "<generator object <genexpr> at 0x00000000078F4F10>\n",
      "[1, 4, 10, 2, 3]\n"
     ]
    }
   ],
   "source": [
    "pos_in_my_list = [x for x in mylist if x>0]\n",
    "print(pos_in_my_list)\n",
    "pos_gen_my_list = (x for x in mylist if x>0)\n",
    "print(pos_gen_my_list)\n",
    "print([x for x in pos_gen_my_list])"
   ]
  },
  {
   "cell_type": "markdown",
   "metadata": {},
   "source": [
    "### using filter() or itertools.compress()\n",
    "\n",
    "[filter() doc](https://docs.python.org/3/library/functions.html#filter)\n",
    "\n",
    "[compress() doc](https://docs.python.org/3/library/itertools.html#itertools.compress)\n",
    "\n",
    "* filter takes a rule to return True or False, and a list to filter, filter returns a generater\n",
    "\n",
    "* compress takes the list to compress and a mask, returns a generater"
   ]
  },
  {
   "cell_type": "code",
   "execution_count": 8,
   "metadata": {},
   "outputs": [
    {
     "name": "stdout",
     "output_type": "stream",
     "text": [
      "[4, 5]\n",
      "[4, 5]\n",
      "[4, 5]\n"
     ]
    }
   ],
   "source": [
    "l = [1,2,3,4,5]\n",
    "def rule_larger_than_3(val):\n",
    "    return True if val > 3 else False\n",
    "\n",
    "filtered_l = list(filter(rule_larger_than_3, l))\n",
    "filtered_l_lambda = list(filter(lambda x: True if x>3 else False, l))\n",
    "\n",
    "from itertools import compress\n",
    "\n",
    "mask = [x>3 for x in l]\n",
    "compressed_l = list(compress(l, mask))\n",
    "\n",
    "print(filtered_l)\n",
    "print(filtered_l_lambda)\n",
    "print(compressed_l)"
   ]
  },
  {
   "cell_type": "code",
   "execution_count": null,
   "metadata": {
    "collapsed": true
   },
   "outputs": [],
   "source": []
  }
 ],
 "metadata": {
  "kernelspec": {
   "display_name": "Python 3",
   "language": "python",
   "name": "python3"
  },
  "language_info": {
   "codemirror_mode": {
    "name": "ipython",
    "version": 3
   },
   "file_extension": ".py",
   "mimetype": "text/x-python",
   "name": "python",
   "nbconvert_exporter": "python",
   "pygments_lexer": "ipython3",
   "version": "3.6.3"
  }
 },
 "nbformat": 4,
 "nbformat_minor": 2
}
