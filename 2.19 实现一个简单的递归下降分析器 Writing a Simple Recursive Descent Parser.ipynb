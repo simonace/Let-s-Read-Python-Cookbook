{
 "cells": [
  {
   "cell_type": "markdown",
   "metadata": {},
   "source": [
    "## Here I made a very simple decent parser to parse boolean logic expressions\n",
    "\n",
    "here are the wiki links for the two forms mentioned in the cookbook\n",
    "\n",
    "[BNF](https://en.wikipedia.org/wiki/Backus%E2%80%93Naur_form)\n",
    "\n",
    "[EBNF](https://en.wikipedia.org/wiki/Extended_Backus%E2%80%93Naur_form)"
   ]
  },
  {
   "cell_type": "code",
   "execution_count": 1,
   "metadata": {
    "collapsed": true
   },
   "outputs": [],
   "source": [
    "from collections import namedtuple\n",
    "\n",
    "Token = namedtuple('Token', ['type', 'value'])\n",
    "\n",
    "def token_generator(logic):\n",
    "    import re\n",
    "\n",
    "    AND = r'(?P<AND>[Aa][Nn][Dd])'\n",
    "    OR = r'(?P<OR>[Oo][Rr])'\n",
    "    NOT = r'(?P<NOT>[Nn][Oo][Tt])'\n",
    "    VAR = r'(?P<VAR>[a-zA-Z_][a-zA-Z_0-9]*)'\n",
    "    LP = r'(?P<LP>\\()'\n",
    "    RP = r'(?P<RP>\\))'\n",
    "    WS = r'(?P<WS>\\s+)'\n",
    "\n",
    "    pat = re.compile('|'.join([AND,OR,NOT,VAR,LP,RP,WS]))\n",
    "    for mo in re.finditer(pat, logic):\n",
    "        token_type = mo.lastgroup\n",
    "        token_value = mo.group()\n",
    "        if token_type != \"WS\":\n",
    "            token = Token(token_type, token_value)\n",
    "            yield token"
   ]
  },
  {
   "cell_type": "code",
   "execution_count": 2,
   "metadata": {
    "collapsed": true
   },
   "outputs": [],
   "source": [
    "class LogicParser(object):\n",
    "    def parse(self, logic_expression):\n",
    "        self.token_generator = token_generator(logic_expression)\n",
    "        self.this_token = None\n",
    "        self.next_token = None\n",
    "        self.pending_lp = 0\n",
    "        self._advance()\n",
    "        print(self.next_token)\n",
    "        self.expr()\n",
    "        \n",
    "    def _advance(self):\n",
    "        self.this_token, self.next_token = self.next_token, next(self.token_generator, None)\n",
    "        \n",
    "    def _accept(self, token_type):\n",
    "        if self.next_token and self.next_token.type == token_type:\n",
    "            if token_type == \"LP\":\n",
    "                self.pending_lp = self.pending_lp + 1\n",
    "            elif token_type == \"RP\":\n",
    "                self.pending_lp = self.pending_lp - 1\n",
    "            self._advance()\n",
    "            return True\n",
    "        else:\n",
    "            return False\n",
    "        \n",
    "    def _expect(self, token_type):\n",
    "        if not self._accept(token_type):\n",
    "            raise SyntaxError('Expected ' + toktype)\n",
    "            \n",
    "    def expr(self):\n",
    "        if self._accept(\"VAR\"):\n",
    "            print(\"VAR :\" + self.this_token.value)\n",
    "            self.op()\n",
    "        elif self._accept(\"LP\"):\n",
    "            print('(')\n",
    "            self.pend_lp = self.pending_lp + 1\n",
    "            self.expr()\n",
    "            self._accept(\"RP\")\n",
    "            print(')')\n",
    "            self.op()\n",
    "        elif self._accept(\"NOT\"):\n",
    "            print(\"NOT\")\n",
    "            self.expr()\n",
    "        else:\n",
    "            raise SyntaxError(\"Expecting a var or ( or NOT\")\n",
    "            \n",
    "    def op(self):\n",
    "        if self._accept(\"AND\"):\n",
    "            print(\"AND\")\n",
    "            self.expr()\n",
    "        elif self._accept(\"OR\"):\n",
    "            print(\"OR\")\n",
    "            self.expr()\n",
    "        else:\n",
    "            if not self.next_token:\n",
    "                print(\"End\")\n",
    "            else:\n",
    "                if self.next_token.type == \"RP\" and self.pending_lp == 0:\n",
    "                    raise SyntaxError(\"No pending left parenthesis for this unexpected right parenthesis!\")\n",
    "                elif self.next_token.type != \"RP\":\n",
    "                    raise SyntaxError(\"There must be AND or OR between vars or expressions!\")\n",
    "            \n"
   ]
  },
  {
   "cell_type": "code",
   "execution_count": 3,
   "metadata": {},
   "outputs": [
    {
     "name": "stdout",
     "output_type": "stream",
     "text": [
      "Token(type='VAR', value='a')\n",
      "VAR :a\n",
      "AND\n",
      "VAR :b\n",
      "OR\n",
      "(\n",
      "NOT\n",
      "VAR :c\n",
      ")\n",
      "AND\n",
      "(\n",
      "VAR :d\n",
      ")\n",
      "OR\n",
      "(\n",
      "VAR :a\n",
      "AND\n",
      "(\n",
      "NOT\n",
      "VAR :b\n",
      ")\n",
      ")\n",
      "End\n"
     ]
    }
   ],
   "source": [
    "p = LogicParser()\n",
    "p.parse(\"a and b or (not c) and (d) or (a and (not b))\")"
   ]
  },
  {
   "cell_type": "code",
   "execution_count": null,
   "metadata": {
    "collapsed": true
   },
   "outputs": [],
   "source": []
  }
 ],
 "metadata": {
  "kernelspec": {
   "display_name": "Python 3",
   "language": "python",
   "name": "python3"
  },
  "language_info": {
   "codemirror_mode": {
    "name": "ipython",
    "version": 3
   },
   "file_extension": ".py",
   "mimetype": "text/x-python",
   "name": "python",
   "nbconvert_exporter": "python",
   "pygments_lexer": "ipython3",
   "version": "3.6.3"
  }
 },
 "nbformat": 4,
 "nbformat_minor": 2
}
