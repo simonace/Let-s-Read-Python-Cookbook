{
 "cells": [
  {
   "cell_type": "markdown",
   "metadata": {},
   "source": [
    "[str.replace() doc](https://docs.python.org/3/library/stdtypes.html#str.replace)\n",
    "\n",
    "[re.sub() doc](https://docs.python.org/3/library/re.html#re.sub)\n",
    "\n",
    "### use re.sub()"
   ]
  },
  {
   "cell_type": "code",
   "execution_count": 1,
   "metadata": {},
   "outputs": [
    {
     "name": "stdout",
     "output_type": "stream",
     "text": [
      "Simon is clever. Simon is humorous. Simon is handsome.\n"
     ]
    }
   ],
   "source": [
    "import re\n",
    "\n",
    "we_all_good = \"Alice is clever. Betty is humorous. Charlie is handsome.\"\n",
    "\n",
    "only_simon = re.sub(r'\\w+(\\sis\\s\\w+)', r'Simon\\1', we_all_good)\n",
    "print(only_simon)"
   ]
  },
  {
   "cell_type": "markdown",
   "metadata": {},
   "source": [
    "### can also use compiled pattern to use sub()"
   ]
  },
  {
   "cell_type": "code",
   "execution_count": 2,
   "metadata": {},
   "outputs": [
    {
     "name": "stdout",
     "output_type": "stream",
     "text": [
      "Simon is strong.\n",
      "Simon is generous.\n",
      "Simon is ingenious.\n"
     ]
    }
   ],
   "source": [
    "dave = \"Dave is strong.\"\n",
    "edison = \"Edison is generous.\"\n",
    "felix = \"Felix is ingenious.\"\n",
    "\n",
    "only_simon_pattern = re.compile(r'\\w+(\\sis\\s\\w+)')\n",
    "for s in [dave, edison, felix]:\n",
    "    print(only_simon_pattern.sub(r'Simon\\1', s))"
   ]
  },
  {
   "cell_type": "markdown",
   "metadata": {},
   "source": [
    "> For more complicated substitutions, it’s possible to specify a substitution callback function instead."
   ]
  },
  {
   "cell_type": "code",
   "execution_count": 15,
   "metadata": {},
   "outputs": [
    {
     "name": "stdout",
     "output_type": "stream",
     "text": [
      "Today is Tuesday. Let's play football.\n"
     ]
    }
   ],
   "source": [
    "day_of_week = ['Sunday', 'Monday', 'Tuesday', 'Wednesday', 'Thursday', 'Friday', 'Saturday']\n",
    "blabla = \"Today is the 3rd day of the week. Let's play football.\"\n",
    "match_pattern = re.compile(r'the (\\d)\\w\\w day of the week')\n",
    "\n",
    "def sub_callback(m):\n",
    "    return day_of_week[int(m.group(1))-1]\n",
    "\n",
    "print(match_pattern.sub(sub_callback, blabla))"
   ]
  },
  {
   "cell_type": "code",
   "execution_count": null,
   "metadata": {},
   "outputs": [],
   "source": []
  }
 ],
 "metadata": {
  "kernelspec": {
   "display_name": "Python 3",
   "language": "python",
   "name": "python3"
  },
  "language_info": {
   "codemirror_mode": {
    "name": "ipython",
    "version": 3
   },
   "file_extension": ".py",
   "mimetype": "text/x-python",
   "name": "python",
   "nbconvert_exporter": "python",
   "pygments_lexer": "ipython3",
   "version": "3.6.4"
  }
 },
 "nbformat": 4,
 "nbformat_minor": 2
}
