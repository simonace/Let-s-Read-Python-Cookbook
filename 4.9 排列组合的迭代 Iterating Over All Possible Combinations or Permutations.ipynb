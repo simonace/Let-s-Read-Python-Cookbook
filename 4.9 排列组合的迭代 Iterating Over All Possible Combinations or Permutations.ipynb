{
 "cells": [
  {
   "cell_type": "markdown",
   "metadata": {},
   "source": [
    "[permutations() doc](https://docs.python.org/3/library/itertools.html#itertools.permutations)\n",
    "\n",
    "[combinations() doc](https://docs.python.org/3/library/itertools.html#itertools.combinations)\n",
    "\n",
    "[combinations_with_replacement() doc](https://docs.python.org/3/library/itertools.html#itertools.combinations_with_replacement)"
   ]
  },
  {
   "cell_type": "code",
   "execution_count": 3,
   "metadata": {},
   "outputs": [],
   "source": [
    "from itertools import permutations, combinations, combinations_with_replacement\n",
    "\n",
    "three_musketeers = [\"Mickey\", \"Donald\", \"Goofy\"]"
   ]
  },
  {
   "cell_type": "markdown",
   "metadata": {},
   "source": [
    "### permutaitons"
   ]
  },
  {
   "cell_type": "code",
   "execution_count": 5,
   "metadata": {},
   "outputs": [
    {
     "name": "stdout",
     "output_type": "stream",
     "text": [
      "('Mickey', 'Donald', 'Goofy')\n",
      "('Mickey', 'Goofy', 'Donald')\n",
      "('Donald', 'Mickey', 'Goofy')\n",
      "('Donald', 'Goofy', 'Mickey')\n",
      "('Goofy', 'Mickey', 'Donald')\n",
      "('Goofy', 'Donald', 'Mickey')\n",
      "------------------------\n",
      "('Mickey', 'Donald')\n",
      "('Mickey', 'Goofy')\n",
      "('Donald', 'Mickey')\n",
      "('Donald', 'Goofy')\n",
      "('Goofy', 'Mickey')\n",
      "('Goofy', 'Donald')\n"
     ]
    }
   ],
   "source": [
    "for p in permutations(three_musketeers):\n",
    "    print(p)\n",
    "    \n",
    "print(\"------------------------\")\n",
    "\n",
    "for p in permutations(three_musketeers,2):\n",
    "    print(p)"
   ]
  },
  {
   "cell_type": "markdown",
   "metadata": {},
   "source": [
    "### combinations"
   ]
  },
  {
   "cell_type": "code",
   "execution_count": 4,
   "metadata": {},
   "outputs": [
    {
     "name": "stdout",
     "output_type": "stream",
     "text": [
      "('Mickey', 'Donald', 'Goofy')\n",
      "------------------------\n",
      "('Mickey', 'Donald')\n",
      "('Mickey', 'Goofy')\n",
      "('Donald', 'Goofy')\n"
     ]
    }
   ],
   "source": [
    "for p in combinations(three_musketeers,3):\n",
    "    print(p)\n",
    "\n",
    "print(\"------------------------\")\n",
    "\n",
    "for p in combinations(three_musketeers,2):\n",
    "    print(p)"
   ]
  },
  {
   "cell_type": "markdown",
   "metadata": {},
   "source": [
    "### combinations_with_replacement\n",
    "\n",
    "> The itertools.combinations_with_replacement() allows the same item to be chosen more than once."
   ]
  },
  {
   "cell_type": "code",
   "execution_count": 6,
   "metadata": {},
   "outputs": [
    {
     "name": "stdout",
     "output_type": "stream",
     "text": [
      "('Mickey', 'Mickey', 'Mickey')\n",
      "('Mickey', 'Mickey', 'Donald')\n",
      "('Mickey', 'Mickey', 'Goofy')\n",
      "('Mickey', 'Donald', 'Donald')\n",
      "('Mickey', 'Donald', 'Goofy')\n",
      "('Mickey', 'Goofy', 'Goofy')\n",
      "('Donald', 'Donald', 'Donald')\n",
      "('Donald', 'Donald', 'Goofy')\n",
      "('Donald', 'Goofy', 'Goofy')\n",
      "('Goofy', 'Goofy', 'Goofy')\n",
      "------------------------\n",
      "('Mickey', 'Mickey')\n",
      "('Mickey', 'Donald')\n",
      "('Mickey', 'Goofy')\n",
      "('Donald', 'Donald')\n",
      "('Donald', 'Goofy')\n",
      "('Goofy', 'Goofy')\n"
     ]
    }
   ],
   "source": [
    "for p in combinations_with_replacement(three_musketeers,3):\n",
    "    print(p)\n",
    "\n",
    "print(\"------------------------\")\n",
    "\n",
    "for p in combinations_with_replacement(three_musketeers,2):\n",
    "    print(p)"
   ]
  },
  {
   "cell_type": "code",
   "execution_count": null,
   "metadata": {},
   "outputs": [],
   "source": []
  }
 ],
 "metadata": {
  "kernelspec": {
   "display_name": "Python 3",
   "language": "python",
   "name": "python3"
  },
  "language_info": {
   "codemirror_mode": {
    "name": "ipython",
    "version": 3
   },
   "file_extension": ".py",
   "mimetype": "text/x-python",
   "name": "python",
   "nbconvert_exporter": "python",
   "pygments_lexer": "ipython3",
   "version": "3.6.4"
  }
 },
 "nbformat": 4,
 "nbformat_minor": 2
}
