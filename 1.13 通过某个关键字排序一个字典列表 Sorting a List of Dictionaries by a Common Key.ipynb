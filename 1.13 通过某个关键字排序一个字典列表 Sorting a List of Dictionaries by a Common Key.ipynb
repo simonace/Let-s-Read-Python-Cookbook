{
 "cells": [
  {
   "cell_type": "markdown",
   "metadata": {},
   "source": [
    "[itemgetter doc](https://docs.python.org/3/library/operator.html#operator.itemgetter)\n",
    "\n",
    "[func sorted doc](https://docs.python.org/3/library/functions.html#sorted)"
   ]
  },
  {
   "cell_type": "code",
   "execution_count": 1,
   "metadata": {
    "collapsed": true
   },
   "outputs": [],
   "source": [
    "from operator import itemgetter\n",
    "\n",
    "countries = [\n",
    "    {'name': 'China', 'continent': 'Asia', 'capital': 'Beijing'},\n",
    "    {'name': 'Germany', 'continent': 'Europe', 'capital': 'Berlin'},\n",
    "    {'name': 'Australia', 'continent': 'Oceania', 'capital': 'Canberra'},\n",
    "    {'name': 'Japan', 'continent': 'Asia', 'capital': 'Tokyo'},\n",
    "    {'name': 'Thailand', 'continent': 'Asia', 'capital': 'Bangkok'},\n",
    "    {'name': 'France', 'continent': 'Europe', 'capital': 'Paris'},\n",
    "    {'name': 'Spain', 'continent': 'Europe', 'capital': 'Madrid'},\n",
    "    {'name': 'USA', 'continent': 'North America', 'capital': 'Wachington'}\n",
    "    ]"
   ]
  },
  {
   "cell_type": "markdown",
   "metadata": {},
   "source": [
    "### sorted doesn't support dict without a specified key parameter\n",
    "#### an error will be poped if sorted(dict_inst)\n",
    "#### to sort a dict, use itemgetter to specify a key"
   ]
  },
  {
   "cell_type": "code",
   "execution_count": 2,
   "metadata": {},
   "outputs": [
    {
     "name": "stdout",
     "output_type": "stream",
     "text": [
      "[{'name': 'Australia', 'continent': 'Oceania', 'capital': 'Canberra'}, {'name': 'China', 'continent': 'Asia', 'capital': 'Beijing'}, {'name': 'France', 'continent': 'Europe', 'capital': 'Paris'}, {'name': 'Germany', 'continent': 'Europe', 'capital': 'Berlin'}, {'name': 'Japan', 'continent': 'Asia', 'capital': 'Tokyo'}, {'name': 'Spain', 'continent': 'Europe', 'capital': 'Madrid'}, {'name': 'Thailand', 'continent': 'Asia', 'capital': 'Bangkok'}, {'name': 'USA', 'continent': 'North America', 'capital': 'Wachington'}]\n"
     ]
    }
   ],
   "source": [
    "countries_by_name = sorted(countries, key=itemgetter('name'))\n",
    "print(countries_by_name)"
   ]
  },
  {
   "cell_type": "markdown",
   "metadata": {},
   "source": [
    "#### also more than one key is also supported"
   ]
  },
  {
   "cell_type": "code",
   "execution_count": 3,
   "metadata": {},
   "outputs": [
    {
     "name": "stdout",
     "output_type": "stream",
     "text": [
      "[{'name': 'China', 'continent': 'Asia', 'capital': 'Beijing'}, {'name': 'Japan', 'continent': 'Asia', 'capital': 'Tokyo'}, {'name': 'Thailand', 'continent': 'Asia', 'capital': 'Bangkok'}, {'name': 'France', 'continent': 'Europe', 'capital': 'Paris'}, {'name': 'Germany', 'continent': 'Europe', 'capital': 'Berlin'}, {'name': 'Spain', 'continent': 'Europe', 'capital': 'Madrid'}, {'name': 'USA', 'continent': 'North America', 'capital': 'Wachington'}, {'name': 'Australia', 'continent': 'Oceania', 'capital': 'Canberra'}]\n"
     ]
    }
   ],
   "source": [
    "countries_by_continent_and_name = sorted(countries, key=itemgetter('continent', 'name'))\n",
    "print(countries_by_continent_and_name)"
   ]
  },
  {
   "cell_type": "markdown",
   "metadata": {},
   "source": [
    "#### itemgetter() can be sometimes replaced by lambda func\n",
    "\n",
    "> However, the solution involving itemgetter() typically runs a bit faster."
   ]
  },
  {
   "cell_type": "code",
   "execution_count": 4,
   "metadata": {},
   "outputs": [
    {
     "name": "stdout",
     "output_type": "stream",
     "text": [
      "[{'name': 'Australia', 'continent': 'Oceania', 'capital': 'Canberra'}, {'name': 'China', 'continent': 'Asia', 'capital': 'Beijing'}, {'name': 'France', 'continent': 'Europe', 'capital': 'Paris'}, {'name': 'Germany', 'continent': 'Europe', 'capital': 'Berlin'}, {'name': 'Japan', 'continent': 'Asia', 'capital': 'Tokyo'}, {'name': 'Spain', 'continent': 'Europe', 'capital': 'Madrid'}, {'name': 'Thailand', 'continent': 'Asia', 'capital': 'Bangkok'}, {'name': 'USA', 'continent': 'North America', 'capital': 'Wachington'}]\n"
     ]
    }
   ],
   "source": [
    "coutries_by_name = sorted(countries, key=lambda x: x['name'])\n",
    "print(coutries_by_name)"
   ]
  },
  {
   "cell_type": "code",
   "execution_count": 9,
   "metadata": {},
   "outputs": [
    {
     "name": "stdout",
     "output_type": "stream",
     "text": [
      "1.58 µs ± 12.1 ns per loop (mean ± std. dev. of 7 runs, 1000000 loops each)\n"
     ]
    }
   ],
   "source": [
    "%%timeit\n",
    "coutries_by_name_lambda = sorted(countries, key=lambda x: x['name'])"
   ]
  },
  {
   "cell_type": "code",
   "execution_count": 8,
   "metadata": {},
   "outputs": [
    {
     "name": "stdout",
     "output_type": "stream",
     "text": [
      "1.29 µs ± 7.06 ns per loop (mean ± std. dev. of 7 runs, 1000000 loops each)\n"
     ]
    }
   ],
   "source": [
    "%%timeit\n",
    "countries_by_name_itemgetter = sorted(countries, key=itemgetter('name'))"
   ]
  },
  {
   "cell_type": "code",
   "execution_count": null,
   "metadata": {
    "collapsed": true
   },
   "outputs": [],
   "source": []
  }
 ],
 "metadata": {
  "kernelspec": {
   "display_name": "Python 3",
   "language": "python",
   "name": "python3"
  },
  "language_info": {
   "codemirror_mode": {
    "name": "ipython",
    "version": 3
   },
   "file_extension": ".py",
   "mimetype": "text/x-python",
   "name": "python",
   "nbconvert_exporter": "python",
   "pygments_lexer": "ipython3",
   "version": "3.6.3"
  }
 },
 "nbformat": 4,
 "nbformat_minor": 2
}
