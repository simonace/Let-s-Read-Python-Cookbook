{
 "cells": [
  {
   "cell_type": "markdown",
   "metadata": {},
   "source": [
    "[os doc](https://docs.python.org/3/library/os.html#module-os)\n",
    "\n",
    "[os.listdir() doc](https://docs.python.org/3/library/os.html#os.listdir)"
   ]
  },
  {
   "cell_type": "code",
   "execution_count": 1,
   "metadata": {},
   "outputs": [
    {
     "data": {
      "text/plain": [
       "['.git',\n",
       " '.ipynb_checkpoints',\n",
       " '1.1 解压序列赋值给多个变量 Unpacking a Sequence into Separate Variables.ipynb',\n",
       " '1.10 删除序列相同元素并保持顺序 Removing Duplicates from a Sequence while Maintaining Order.ipynb',\n",
       " '1.11 命名切片 Naming a Slice.ipynb',\n",
       " '1.12 序列中出现次数最多的元素 Determining the Most Frequently Occurring Items in a Sequence.ipynb',\n",
       " '1.13 通过某个关键字排序一个字典列表 Sorting a List of Dictionaries by a Common Key.ipynb',\n",
       " '1.14 排序不支持原生比较的对象 Sorting Objects Without Native Comparison Support.ipynb',\n",
       " '1.15 通过某个字段将记录分组 Grouping Records Together Based on a Field.ipynb',\n",
       " '1.16 过滤序列元 Filtering Sequence Elements.ipynb',\n",
       " '1.17 从字典中提取子集 Extracting a Subset of a Dictionary.ipynb',\n",
       " '1.18 映射名称到序列元素 Mapping Names to Sequence Elements.ipynb',\n",
       " '1.19 转换并同时计算数据  Transforming and Reducing Data at the Same Time.ipynb',\n",
       " '1.2 解压可迭代对象赋值给多个变量 Unpacking Elements from Iterables of Arbitrary.ipynb',\n",
       " '1.20 合并多个字典或映射 Combining Multiple Mappings into a Single Mapping.ipynb',\n",
       " '1.3 保留最后 N 个元素 Keeping the Last N Items.ipynb',\n",
       " '1.4 查找最大或最小的 N 个元素 Finding the Largest or Smallest N Items.ipynb',\n",
       " '1.5 实现一个优先级队列 Implementing a Priority Queue.ipynb',\n",
       " '1.6 字典中的键映射多个值 Mapping Keys to Multiple Values in a Dictionary.ipynb',\n",
       " '1.7 字典排序 Keeping Dictionaries in Order.ipynb',\n",
       " '1.8 字典的运算 Calculating with Dictionaries.ipynb',\n",
       " '1.9 查找两字典的相同点 Finding Commonalities in Two Dictionaries.ipynb',\n",
       " '2.1 使用多个界定符分割字符串 Splitting Strings on Any of Multiple Delimiters.ipynb',\n",
       " '2.10 在正则式中使用Unicode Working with Unicode Characters in Regular Expressions.ipynb',\n",
       " '2.11 删除字符串中不需要的字符 Stripping Unwanted Characters from Strings.ipynb',\n",
       " '2.12 审查清理文本字符串 Sanitizing and Cleaning Up Text.ipynb',\n",
       " '2.13 字符串对齐 Aligning Text Strings.ipynb',\n",
       " '2.14 合并拼接字符串 Combining and Concatenating Strings.ipynb',\n",
       " '2.15 字符串中插入变量 Interpolating Variables in Strings.ipynb',\n",
       " '2.16 以指定列宽格式化字符串 Reformatting Text to a Fixed Number of Columns.ipynb',\n",
       " '2.17 在字符串中处理html和xml Handling HTML and XML Entities in Text.ipynb',\n",
       " '2.18 字符串令牌解析 Tokenizing Text.ipynb',\n",
       " '2.19 实现一个简单的递归下降分析器 Writing a Simple Recursive Descent Parser.ipynb',\n",
       " '2.2 字符串开头或结尾匹配 Matching Text at the Start or End of a String.ipynb',\n",
       " '2.20 字节字符串上的字符串操作 Performing Text Operations on Byte Strings.ipynb',\n",
       " '2.3 用Shell通配符匹配字符串  Matching Strings Using Shell Wildcard Patterns.ipynb',\n",
       " '2.4 字符串匹配和搜索 Matching and Searching for Text Patterns.ipynb',\n",
       " '2.5 字符串搜索和替换 Searching and Replacing Text.ipynb',\n",
       " '2.6 字符串忽略大小写的搜索替换 Searching and Replacing Case-Insensitive Text.ipynb',\n",
       " '2.7 最短匹配模式 Specifying a Regular Expression for the Shortest Match.ipynb',\n",
       " '2.8 多行匹配模式 Writing a Regular Expression for Multiline Patterns.ipynb',\n",
       " '2.9 将Unicode文本标准化 Normalizing Unicode Text to a Standard Representation.ipynb',\n",
       " '3.1 数字的四舍五入 Rounding Numerical Values.ipynb',\n",
       " '3.10 矩阵与线性代数运算 Performing Matrix and Linear Algebra Calculations.ipynb',\n",
       " '3.11 随机选择 Picking Things at Random.ipynb',\n",
       " '3.12 基本的日期与时间转换 Converting Days to Seconds, and Other Basic Time Conversions.ipynb',\n",
       " '3.13 计算最后一个周五的日期 Determining Last Friday’s Date.ipynb',\n",
       " '3.14 计算当前月份的日期范围 Finding the Date Range for the Current Month.ipynb',\n",
       " '3.15 字符串转换为日期 Converting Strings into Datetimes.ipynb',\n",
       " '3.16 结合时区的日期操作 Manipulating Dates Involving Time Zone.ipynb',\n",
       " '3.2 执行精确的浮点数运算 Performing Accurate Decimal Calculations.ipynb',\n",
       " '3.3 数字的格式化输出 Formatting Numbers for Output.ipynb',\n",
       " '3.4 二八十六进制整数 Working with Binary, Octal, and Hexadecimal Integers.ipynb',\n",
       " '3.5 字节到大整数的打包与解包 Packing and Unpacking Large Integers from Bytes.ipynb',\n",
       " '3.6 复数的数学运算 Performing Complex-Valued Math.ipynb',\n",
       " '3.7 无穷大与NaN Working with Infinity and NaNs.ipynb',\n",
       " '3.8 分数运算 Calculating with Fractions.ipynb',\n",
       " '3.9 大型数组运算 Calculating with Large Numerical Arrays.ipynb',\n",
       " '4.1 手动遍历迭代器 Manually Consuming an Iterator.ipynb',\n",
       " '4.10 序列上索引值迭代 Iterating Over the Index-Value Pairs of a Sequence.ipynb',\n",
       " '4.11 同时迭代多个序列 Iterating Over Multiple Sequences Simultaneously.ipynb',\n",
       " '4.12 不同集合上元素的迭代 Iterating on Items in Separate Containers.ipynb',\n",
       " '4.13 创建数据处理管道 Creating Data Processing Pipelines.ipynb',\n",
       " '4.14 展开嵌套的序列 Flattening a Nested Sequence.ipynb',\n",
       " '4.15 顺序迭代合并后的排序迭代对象 Iterating in Sorted Order Over Merged Sorted Iterables.ipynb',\n",
       " '4.16 迭代器代替while无限循环 Replacing Infinite while Loops with an Iterator.ipynb',\n",
       " '4.2 代理迭代 Delegating Iteration.ipynb',\n",
       " '4.3 使用生成器创建新的迭代模式 Creating New Iteration Patterns with Generators.ipynb',\n",
       " '4.4 实现迭代器协议 Implementing the Iterator Protocol.ipynb',\n",
       " '4.5 反向迭代 Iterating in Reverse.ipynb',\n",
       " '4.6 带有外部状态的生成器函数 Defining Generator Functions with Extra State.ipynb',\n",
       " '4.7 迭代器切片 Taking a Slice of an Iterator.ipynb',\n",
       " '4.8 跳过可迭代对象的开始部分 Skipping the First Part of an Iterable.ipynb',\n",
       " '4.9 排列组合的迭代 Iterating Over All Possible Combinations or Permutations.ipynb',\n",
       " '5.1 读写文本数据 Reading and Writing Text Data.ipynb',\n",
       " '5.10 内存映射的二进制文件 Memory Mapping Binary Files.ipynb',\n",
       " '5.11 文件路径名的操作 Manipulating Pathnames.ipynb',\n",
       " '5.12 测试文件是否存在 Testing for the Existence of a File.ipynb',\n",
       " '5.13 获取文件夹中的文件列表 Getting a Directory Listing.ipynb',\n",
       " '5.14 忽略文件名编码 Bypassing Filename Encoding.ipynb',\n",
       " '5.2 打印输出至文件中 Printing to a File.ipynb',\n",
       " '5.3 使用其他分隔符或行终止符打印 Printing with a Different Separator or Line Ending.ipynb',\n",
       " '5.4 读写字节数据 Reading and Writing Binary Data.ipynb',\n",
       " '5.5 文件不存在才能写入 Writing to a File That Doesn’t Already Exist.ipynb',\n",
       " '5.6 字符串的IO操作 Performing IO Operations on a String.ipynb',\n",
       " '5.7 读写压缩文件 Reading and Writing Compressed Datafiles.ipynb',\n",
       " '5.8 固定大小记录的文件迭代 Iterating Over Fixed-Sized Records.ipynb',\n",
       " '5.9 读取二进制数据到可变缓冲区中 Reading Binary Data into a Mutable Buffer.ipynb']"
      ]
     },
     "execution_count": 1,
     "metadata": {},
     "output_type": "execute_result"
    }
   ],
   "source": [
    "import os\n",
    "\n",
    "os.listdir('.')"
   ]
  },
  {
   "cell_type": "code",
   "execution_count": 2,
   "metadata": {},
   "outputs": [
    {
     "name": "stdout",
     "output_type": "stream",
     "text": [
      "['5.1 读写文本数据 Reading and Writing Text Data.ipynb', '5.10 内存映射的二进制文件 Memory Mapping Binary Files.ipynb', '5.11 文件路径名的操作 Manipulating Pathnames.ipynb', '5.12 测试文件是否存在 Testing for the Existence of a File.ipynb', '5.13 获取文件夹中的文件列表 Getting a Directory Listing.ipynb', '5.14 忽略文件名编码 Bypassing Filename Encoding.ipynb', '5.2 打印输出至文件中 Printing to a File.ipynb', '5.3 使用其他分隔符或行终止符打印 Printing with a Different Separator or Line Ending.ipynb', '5.4 读写字节数据 Reading and Writing Binary Data.ipynb', '5.5 文件不存在才能写入 Writing to a File That Doesn’t Already Exist.ipynb', '5.6 字符串的IO操作 Performing IO Operations on a String.ipynb', '5.7 读写压缩文件 Reading and Writing Compressed Datafiles.ipynb', '5.8 固定大小记录的文件迭代 Iterating Over Fixed-Sized Records.ipynb', '5.9 读取二进制数据到可变缓冲区中 Reading Binary Data into a Mutable Buffer.ipynb']\n"
     ]
    }
   ],
   "source": [
    "files_start_with_5 = [name for name in os.listdir('.') if (os.path.isfile(name) and name.startswith('5'))]\n",
    "print(files_start_with_5)"
   ]
  },
  {
   "cell_type": "code",
   "execution_count": 3,
   "metadata": {},
   "outputs": [
    {
     "name": "stdout",
     "output_type": "stream",
     "text": [
      "['.git', '.ipynb_checkpoints']\n"
     ]
    }
   ],
   "source": [
    "dirs = [name for name in os.listdir('.') if os.path.isdir(name)]\n",
    "print(dirs)"
   ]
  },
  {
   "cell_type": "markdown",
   "metadata": {},
   "source": [
    "> Getting a directory listing is easy, but it only gives you the names of entries in the\n",
    "directory. If you want to get additional metadata, such as file sizes, modification dates,\n",
    "and so forth, you either need to use additional functions in the ***os.path*** module or use\n",
    "the ***os.stat()*** function.\n",
    "\n",
    "[python glob doc](https://docs.python.org/3/library/glob.html)"
   ]
  },
  {
   "cell_type": "code",
   "execution_count": 4,
   "metadata": {},
   "outputs": [
    {
     "name": "stdout",
     "output_type": "stream",
     "text": [
      "os.stat_result(st_mode=33206, st_ino=25051272927549393, st_dev=172185706, st_nlink=1, st_uid=0, st_gid=0, st_size=1695, st_atime=1533808495, st_mtime=1533808495, st_ctime=1533808495)\n",
      "os.stat_result(st_mode=33206, st_ino=62487444830047402, st_dev=172185706, st_nlink=1, st_uid=0, st_gid=0, st_size=3550, st_atime=1534424767, st_mtime=1534424767, st_ctime=1534424767)\n",
      "os.stat_result(st_mode=33206, st_ino=399694466929406660, st_dev=172185706, st_nlink=1, st_uid=0, st_gid=0, st_size=1811, st_atime=1535030546, st_mtime=1535030547, st_ctime=1535030546)\n",
      "os.stat_result(st_mode=33206, st_ino=82190693199786686, st_dev=172185706, st_nlink=1, st_uid=0, st_gid=0, st_size=1968, st_atime=1535030545, st_mtime=1535030545, st_ctime=1535030545)\n",
      "os.stat_result(st_mode=33206, st_ino=17451448556528643, st_dev=172185706, st_nlink=1, st_uid=0, st_gid=0, st_size=3048, st_atime=1536161583, st_mtime=1536161583, st_ctime=1536161583)\n",
      "os.stat_result(st_mode=33206, st_ino=4503599627838472, st_dev=172185706, st_nlink=1, st_uid=0, st_gid=0, st_size=4198, st_atime=1536161584, st_mtime=1536161584, st_ctime=1536161584)\n",
      "os.stat_result(st_mode=33206, st_ino=8444249301707844, st_dev=172185706, st_nlink=1, st_uid=0, st_gid=0, st_size=761, st_atime=1533808497, st_mtime=1533808670, st_ctime=1533808497)\n",
      "os.stat_result(st_mode=33206, st_ino=43910096367158725, st_dev=172185706, st_nlink=1, st_uid=0, st_gid=0, st_size=3944, st_atime=1533808500, st_mtime=1533808500, st_ctime=1533808500)\n",
      "os.stat_result(st_mode=33206, st_ino=5629499534602116, st_dev=172185706, st_nlink=1, st_uid=0, st_gid=0, st_size=2338, st_atime=1533808501, st_mtime=1533808501, st_ctime=1533808501)\n",
      "os.stat_result(st_mode=33206, st_ino=41658296553491439, st_dev=172185706, st_nlink=1, st_uid=0, st_gid=0, st_size=2007, st_atime=1533907633, st_mtime=1533907633, st_ctime=1533907633)\n",
      "os.stat_result(st_mode=33206, st_ino=25614222880984060, st_dev=172185706, st_nlink=1, st_uid=0, st_gid=0, st_size=1822, st_atime=1533907635, st_mtime=1533907635, st_ctime=1533907635)\n",
      "os.stat_result(st_mode=33206, st_ino=4503599627732372, st_dev=172185706, st_nlink=1, st_uid=0, st_gid=0, st_size=977, st_atime=1533907745, st_mtime=1533907745, st_ctime=1533907745)\n",
      "os.stat_result(st_mode=33206, st_ino=38562071809720175, st_dev=172185706, st_nlink=1, st_uid=0, st_gid=0, st_size=2154, st_atime=1533907746, st_mtime=1533907747, st_ctime=1533907746)\n",
      "os.stat_result(st_mode=33206, st_ino=44191571343855464, st_dev=172185706, st_nlink=1, st_uid=0, st_gid=0, st_size=1885, st_atime=1534424765, st_mtime=1534424766, st_ctime=1534424765)\n"
     ]
    }
   ],
   "source": [
    "for file in files_start_with_5:\n",
    "    print(os.stat(file))"
   ]
  },
  {
   "cell_type": "code",
   "execution_count": null,
   "metadata": {
    "collapsed": true
   },
   "outputs": [],
   "source": []
  }
 ],
 "metadata": {
  "kernelspec": {
   "display_name": "Python 3",
   "language": "python",
   "name": "python3"
  },
  "language_info": {
   "codemirror_mode": {
    "name": "ipython",
    "version": 3
   },
   "file_extension": ".py",
   "mimetype": "text/x-python",
   "name": "python",
   "nbconvert_exporter": "python",
   "pygments_lexer": "ipython3",
   "version": "3.6.3"
  }
 },
 "nbformat": 4,
 "nbformat_minor": 2
}
