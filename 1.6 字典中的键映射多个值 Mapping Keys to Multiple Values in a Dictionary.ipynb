{
 "cells": [
  {
   "cell_type": "markdown",
   "metadata": {},
   "source": [
    "## refs\n",
    "\n",
    "https://docs.python.org/3.6/library/collections.html#collections.defaultdict"
   ]
  },
  {
   "cell_type": "code",
   "execution_count": 2,
   "metadata": {},
   "outputs": [],
   "source": [
    "from collections import defaultdict\n",
    "\n",
    "d = defaultdict(list)"
   ]
  },
  {
   "cell_type": "code",
   "execution_count": 4,
   "metadata": {},
   "outputs": [
    {
     "name": "stdout",
     "output_type": "stream",
     "text": [
      "f: [0, 1, 8, 17, 21, 29, 31, 32, 37, 40, 42, 51, 56, 64, 65, 68, 77, 79, 80, 83, 88, 99]\n",
      "b: [2, 22, 43, 47, 60, 81, 89]\n",
      "c: [3, 11, 24, 33, 66, 67, 69, 70, 72, 75, 78, 82, 92, 96, 98]\n",
      "g: [4, 13, 14, 26, 27, 38, 41, 49, 53, 59, 86, 90, 91, 93, 97]\n",
      "e: [5, 6, 20, 25, 35, 39, 45, 55, 61, 73, 85, 87, 94]\n",
      "a: [7, 9, 10, 12, 16, 18, 19, 28, 30, 44, 46, 48, 50, 52, 54, 58, 62, 63, 71, 74, 76, 95]\n",
      "d: [15, 23, 34, 36, 57, 84]\n"
     ]
    }
   ],
   "source": [
    "import random\n",
    "\n",
    "seq = \"abcdefg\"\n",
    "for i in range(100):\n",
    "    d[random.choice(seq)].append(i)\n",
    "for key, value in d.items():\n",
    "    print(key + \": \" + str(value))"
   ]
  },
  {
   "cell_type": "code",
   "execution_count": null,
   "metadata": {},
   "outputs": [],
   "source": []
  }
 ],
 "metadata": {
  "kernelspec": {
   "display_name": "Python 3",
   "language": "python",
   "name": "python3"
  },
  "language_info": {
   "codemirror_mode": {
    "name": "ipython",
    "version": 3
   },
   "file_extension": ".py",
   "mimetype": "text/x-python",
   "name": "python",
   "nbconvert_exporter": "python",
   "pygments_lexer": "ipython3",
   "version": "3.6.4"
  }
 },
 "nbformat": 4,
 "nbformat_minor": 2
}
