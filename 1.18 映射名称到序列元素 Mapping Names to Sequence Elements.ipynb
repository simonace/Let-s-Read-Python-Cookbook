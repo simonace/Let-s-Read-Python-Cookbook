{
 "cells": [
  {
   "cell_type": "markdown",
   "metadata": {},
   "source": [
    "[namedtuple doc](https://docs.python.org/3/library/collections.html#collections.namedtuple)"
   ]
  },
  {
   "cell_type": "code",
   "execution_count": 4,
   "metadata": {},
   "outputs": [
    {
     "name": "stdout",
     "output_type": "stream",
     "text": [
      "Country(name='China', continent='Asia')\n",
      "China\n",
      "Asia\n"
     ]
    }
   ],
   "source": [
    "from collections import namedtuple\n",
    "\n",
    "Country = namedtuple('Country', ['name', 'continent'])\n",
    "\n",
    "china = Country(name=\"China\", continent=\"Asia\")\n",
    "\n",
    "print(china)\n",
    "print(china.name)\n",
    "print(china.continent)"
   ]
  },
  {
   "cell_type": "markdown",
   "metadata": {},
   "source": [
    "> Although an instance of a namedtuple looks like a normal class instance, it is inter-\n",
    "changeable with a tuple and supports all of the usual tuple operations such as indexing\n",
    "and unpacking."
   ]
  },
  {
   "cell_type": "code",
   "execution_count": 5,
   "metadata": {},
   "outputs": [
    {
     "name": "stdout",
     "output_type": "stream",
     "text": [
      "China\n",
      "Asia\n"
     ]
    }
   ],
   "source": [
    "china_name, china_continent = china\n",
    "print(china_name)\n",
    "print(china_continent)"
   ]
  },
  {
   "cell_type": "markdown",
   "metadata": {},
   "source": [
    "> One possible use of a namedtuple is as a replacement for a dictionary, which requires\n",
    "more space to store. Thus, if you are building large data structures involving dictionaries,\n",
    "use of a namedtuple will be more efficient. However, be aware that unlike a dictionary,\n",
    "a namedtuple is ***immutable***. \n",
    "\n",
    "> If you need to change any of the attributes, it can be done using the _replace() method\n",
    "of a namedtuple instance"
   ]
  },
  {
   "cell_type": "code",
   "execution_count": 9,
   "metadata": {},
   "outputs": [
    {
     "name": "stdout",
     "output_type": "stream",
     "text": [
      "Country(name='Germany', continent='Europe')\n",
      "Country(name='China', continent='Asia')\n"
     ]
    }
   ],
   "source": [
    "germany = china._replace(name='Germany', continent='Europe')\n",
    "\n",
    "print(germany)\n",
    "# china is still there because a tuple is immutable\n",
    "print(china)"
   ]
  },
  {
   "cell_type": "markdown",
   "metadata": {},
   "source": [
    "#### _replace() can convert dict with some empty entries to namedtuple\n",
    "\n",
    "[keyword-only parameter/var](https://docs.python.org/3/glossary.html#keyword-only-parameter)"
   ]
  },
  {
   "cell_type": "code",
   "execution_count": 11,
   "metadata": {},
   "outputs": [
    {
     "name": "stdout",
     "output_type": "stream",
     "text": [
      "Country(name='', continent='Antarctica')\n",
      "Country(name='Russia', continent='')\n",
      "Country(name='France', continent='Europe')\n"
     ]
    }
   ],
   "source": [
    "country_template = Country(\"\",\"\")\n",
    "def country_dict_to_tuple(d):\n",
    "    return country_template._replace(**d)\n",
    "\n",
    "antarctica_dict = {'continent':'Antarctica'}\n",
    "russia_dict = {'name':'Russia'}\n",
    "france_dict = {'name':'France', 'continent':'Europe'}\n",
    "\n",
    "antarctica = country_dict_to_tuple(antarctica_dict)\n",
    "russia = country_dict_to_tuple(russia_dict)\n",
    "france = country_dict_to_tuple(france_dict)\n",
    "\n",
    "print(antarctica)\n",
    "print(russia)\n",
    "print(france)"
   ]
  },
  {
   "cell_type": "markdown",
   "metadata": {},
   "source": [
    "> Last, but not least, it should be noted that if your goal is to define an efficient data\n",
    "structure where you will be changing various instance attributes, using namedtuple is\n",
    "***not*** your best choice."
   ]
  },
  {
   "cell_type": "code",
   "execution_count": null,
   "metadata": {
    "collapsed": true
   },
   "outputs": [],
   "source": []
  }
 ],
 "metadata": {
  "kernelspec": {
   "display_name": "Python 3",
   "language": "python",
   "name": "python3"
  },
  "language_info": {
   "codemirror_mode": {
    "name": "ipython",
    "version": 3
   },
   "file_extension": ".py",
   "mimetype": "text/x-python",
   "name": "python",
   "nbconvert_exporter": "python",
   "pygments_lexer": "ipython3",
   "version": "3.6.3"
  }
 },
 "nbformat": 4,
 "nbformat_minor": 2
}
