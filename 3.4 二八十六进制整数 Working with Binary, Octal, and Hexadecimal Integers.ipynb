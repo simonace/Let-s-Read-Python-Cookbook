{
 "cells": [
  {
   "cell_type": "code",
   "execution_count": 2,
   "metadata": {},
   "outputs": [
    {
     "name": "stdout",
     "output_type": "stream",
     "text": [
      "0b1000111010111\n",
      "0o10727\n",
      "0x11d7\n",
      "-0b1000111010111\n",
      "-0o10727\n",
      "-0x11d7\n"
     ]
    }
   ],
   "source": [
    "yeah = 4567\n",
    "\n",
    "print(bin(yeah))\n",
    "print(oct(yeah))\n",
    "print(hex(yeah))\n",
    "\n",
    "neg_yeah = -4567\n",
    "\n",
    "print(bin(neg_yeah))\n",
    "print(oct(neg_yeah))\n",
    "print(hex(neg_yeah))"
   ]
  },
  {
   "cell_type": "markdown",
   "metadata": {},
   "source": [
    "> Alternatively, you can use the format() function if you don’t want the 0b, 0o, or 0x\n",
    "prefixes to appear."
   ]
  },
  {
   "cell_type": "code",
   "execution_count": 5,
   "metadata": {},
   "outputs": [
    {
     "name": "stdout",
     "output_type": "stream",
     "text": [
      "1000111010111\n",
      "10727\n",
      "11d7\n",
      "-1000111010111\n",
      "-10727\n",
      "-11d7\n"
     ]
    }
   ],
   "source": [
    "print(format(yeah,'b'))\n",
    "print(format(yeah,'o'))\n",
    "print(format(yeah,'x'))\n",
    "print(format(neg_yeah,'b'))\n",
    "print(format(neg_yeah,'o'))\n",
    "print(format(neg_yeah,'x'))"
   ]
  },
  {
   "cell_type": "markdown",
   "metadata": {},
   "source": [
    "> To convert integer strings in different bases, simply use the int() function with an\n",
    "appropriate base."
   ]
  },
  {
   "cell_type": "code",
   "execution_count": 6,
   "metadata": {},
   "outputs": [
    {
     "name": "stdout",
     "output_type": "stream",
     "text": [
      "12245998\n",
      "42705\n",
      "657\n"
     ]
    }
   ],
   "source": [
    "print(int('badbee',16))\n",
    "print(int('123321',8))\n",
    "print(int('1010010001',2))"
   ]
  },
  {
   "cell_type": "code",
   "execution_count": null,
   "metadata": {},
   "outputs": [],
   "source": []
  }
 ],
 "metadata": {
  "kernelspec": {
   "display_name": "Python 3",
   "language": "python",
   "name": "python3"
  },
  "language_info": {
   "codemirror_mode": {
    "name": "ipython",
    "version": 3
   },
   "file_extension": ".py",
   "mimetype": "text/x-python",
   "name": "python",
   "nbconvert_exporter": "python",
   "pygments_lexer": "ipython3",
   "version": "3.6.4"
  }
 },
 "nbformat": 4,
 "nbformat_minor": 2
}
