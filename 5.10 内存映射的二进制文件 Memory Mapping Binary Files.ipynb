{
 "cells": [
  {
   "cell_type": "markdown",
   "metadata": {},
   "source": [
    "[mmap doc](https://docs.python.org/3/library/mmap.html)"
   ]
  },
  {
   "cell_type": "markdown",
   "metadata": {},
   "source": [
    "#### Here is an example of how you could initially create a file and expand it to a desired size"
   ]
  },
  {
   "cell_type": "code",
   "execution_count": 1,
   "metadata": {},
   "outputs": [],
   "source": [
    "size = 100\n",
    "with open(\"temp\", 'wb') as f:\n",
    "    f.seek(size-1)\n",
    "    f.write(b'\\x00')"
   ]
  },
  {
   "cell_type": "code",
   "execution_count": 2,
   "metadata": {},
   "outputs": [
    {
     "data": {
      "text/plain": [
       "100"
      ]
     },
     "execution_count": 2,
     "metadata": {},
     "output_type": "execute_result"
    }
   ],
   "source": [
    "import os\n",
    "\n",
    "os.path.getsize('./temp')"
   ]
  },
  {
   "cell_type": "markdown",
   "metadata": {},
   "source": [
    "#### you must provide a file descriptor for a file opened for update (use os.open())"
   ]
  },
  {
   "cell_type": "code",
   "execution_count": 14,
   "metadata": {},
   "outputs": [
    {
     "name": "stdout",
     "output_type": "stream",
     "text": [
      "b'hello\\x00\\x00\\x00\\x00\\x00\\x00\\x00\\x00\\x00\\x00\\x00\\x00\\x00\\x00\\x00\\x00\\x00\\x00\\x00\\x00\\x00\\x00\\x00\\x00\\x00\\x00\\x00\\x00\\x00\\x00\\x00\\x00\\x00\\x00\\x00\\x00\\x00\\x00\\x00\\x00\\x00\\x00\\x00\\x00\\x00\\x00\\x00\\x00\\x00\\x00\\x00\\x00\\x00\\x00\\x00\\x00\\x00\\x00\\x00\\x00\\x00\\x00\\x00\\x00\\x00\\x00\\x00\\x00\\x00\\x00\\x00\\x00\\x00\\x00\\x00\\x00\\x00\\x00\\x00\\x00\\x00\\x00\\x00\\x00\\x00\\x00\\x00\\x00\\x00\\x00\\x00\\x00\\x00\\x00\\x00'\n"
     ]
    }
   ],
   "source": [
    "import mmap\n",
    "\n",
    "fd = os.open('./temp', os.O_RDWR)\n",
    "m = mmap.mmap(fd, 100, access=mmap.ACCESS_WRITE)\n",
    "\n",
    "m[0:5] = b'hello'\n",
    "m.close()\n",
    "\n",
    "with open(\"temp\",'rb') as f:\n",
    "    print(f.read())"
   ]
  },
  {
   "cell_type": "markdown",
   "metadata": {},
   "source": [
    "> Using **mmap** to map files into memory can be an efficient and elegant means for randomly\n",
    "accessing the contents of a file.\n",
    "\n",
    "> It should be emphasized that memory mapping a file does not cause the entire file to be\n",
    "read into memory. That is, it’s not copied into some kind of memory buffer or array.\n",
    "Instead, the operating system merely reserves a section of virtual memory for the file\n",
    "contents. As you access different regions, those portions of the file will be read and\n",
    "mapped into the memory region as needed. However, parts of the file that are never\n",
    "accessed simply stay on disk. This all happens transparently, behind the scenes.\n",
    "\n",
    "> If more than one Python interpreter memory maps the same file, the resulting **mmap**\n",
    "object can be used to exchange data between interpreters."
   ]
  },
  {
   "cell_type": "code",
   "execution_count": null,
   "metadata": {},
   "outputs": [],
   "source": []
  }
 ],
 "metadata": {
  "kernelspec": {
   "display_name": "Python 3",
   "language": "python",
   "name": "python3"
  },
  "language_info": {
   "codemirror_mode": {
    "name": "ipython",
    "version": 3
   },
   "file_extension": ".py",
   "mimetype": "text/x-python",
   "name": "python",
   "nbconvert_exporter": "python",
   "pygments_lexer": "ipython3",
   "version": "3.6.5"
  }
 },
 "nbformat": 4,
 "nbformat_minor": 2
}
