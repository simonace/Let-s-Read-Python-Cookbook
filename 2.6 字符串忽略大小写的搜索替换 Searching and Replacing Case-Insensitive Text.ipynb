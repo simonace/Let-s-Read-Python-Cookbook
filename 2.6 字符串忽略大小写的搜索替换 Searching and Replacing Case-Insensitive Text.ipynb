{
 "cells": [
  {
   "cell_type": "markdown",
   "metadata": {},
   "source": [
    "[IGNORECASE](https://docs.python.org/3/library/re.html#re.IGNORECASE)"
   ]
  },
  {
   "cell_type": "code",
   "execution_count": 4,
   "metadata": {},
   "outputs": [
    {
     "name": "stdout",
     "output_type": "stream",
     "text": [
      "Football is an interesting game. I am a table-tennis fan.\n",
      "table-tennis is an interesting game. I am a table-tennis fan.\n"
     ]
    }
   ],
   "source": [
    "import re\n",
    "\n",
    "s = \"Football is an interesting game. I am a football fan.\"\n",
    "# case sensitive\n",
    "print(re.sub('football', 'table-tennis', s))\n",
    "# case insensitive\n",
    "print(re.sub('football', 'table-tennis', s,flags=re.IGNORECASE))"
   ]
  },
  {
   "cell_type": "markdown",
   "metadata": {},
   "source": [
    "#### There is a limitation that replacing text won’t match the case of the matched text. Need additional def to fix this inperfection.\n",
    "\n",
    "but I am not going to do it here :-P"
   ]
  },
  {
   "cell_type": "markdown",
   "metadata": {},
   "source": [
    "> For simple cases, simply providing the re.IGNORECASE is enough to perform caseinsensitive\n",
    "matching. However, be aware that this may not be enough for certain kinds\n",
    "of ***Unicode*** matching involving case folding."
   ]
  },
  {
   "cell_type": "code",
   "execution_count": null,
   "metadata": {
    "collapsed": true
   },
   "outputs": [],
   "source": []
  }
 ],
 "metadata": {
  "kernelspec": {
   "display_name": "Python 3",
   "language": "python",
   "name": "python3"
  },
  "language_info": {
   "codemirror_mode": {
    "name": "ipython",
    "version": 3
   },
   "file_extension": ".py",
   "mimetype": "text/x-python",
   "name": "python",
   "nbconvert_exporter": "python",
   "pygments_lexer": "ipython3",
   "version": "3.6.3"
  }
 },
 "nbformat": 4,
 "nbformat_minor": 2
}
