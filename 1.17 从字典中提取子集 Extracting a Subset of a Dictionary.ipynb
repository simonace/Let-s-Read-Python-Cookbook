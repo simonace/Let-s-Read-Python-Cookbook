{
 "cells": [
  {
   "cell_type": "markdown",
   "metadata": {},
   "source": [
    "> This is easily accomplished using a dictionary comprehension.\n",
    "\n",
    "#### make a list of keys in subset, and use a dict comprehension"
   ]
  },
  {
   "cell_type": "code",
   "execution_count": 1,
   "metadata": {},
   "outputs": [
    {
     "name": "stdout",
     "output_type": "stream",
     "text": [
      "{'a': 'Alpha', 'b': 'Bravo', 'c': 'Charlie'}\n"
     ]
    }
   ],
   "source": [
    "my_dict = {'a': 'Alpha',\n",
    "           'b': 'Bravo',\n",
    "           'c': 'Charlie',\n",
    "           'd': 'Delta',\n",
    "           'e': 'Echo'}\n",
    "\n",
    "sub_keys = ['a', 'b', 'c']\n",
    "\n",
    "sub_dict = {key: value for key, value in my_dict.items() if key in sub_keys}\n",
    "print(sub_dict)"
   ]
  },
  {
   "cell_type": "markdown",
   "metadata": {},
   "source": [
    "#### also can be done by using dict()"
   ]
  },
  {
   "cell_type": "code",
   "execution_count": 2,
   "metadata": {},
   "outputs": [
    {
     "name": "stdout",
     "output_type": "stream",
     "text": [
      "{'a': 'Alpha', 'b': 'Bravo', 'c': 'Charlie'}\n"
     ]
    }
   ],
   "source": [
    "sub_dict2 = dict((k, v) for k, v in my_dict.items() if k in sub_keys)\n",
    "print(sub_dict2)"
   ]
  },
  {
   "cell_type": "markdown",
   "metadata": {},
   "source": [
    "> However, the dictionary comprehension solution is a bit clearer and actually runs quite a bit faster"
   ]
  },
  {
   "cell_type": "code",
   "execution_count": 3,
   "metadata": {},
   "outputs": [
    {
     "name": "stdout",
     "output_type": "stream",
     "text": [
      "747 ns ± 1.24 ns per loop (mean ± std. dev. of 7 runs, 1000000 loops each)\n"
     ]
    }
   ],
   "source": [
    "%%timeit\n",
    "sub_dict = {key: value for key, value in my_dict.items() if key in sub_keys}"
   ]
  },
  {
   "cell_type": "code",
   "execution_count": 4,
   "metadata": {},
   "outputs": [
    {
     "name": "stdout",
     "output_type": "stream",
     "text": [
      "1.44 µs ± 2.05 ns per loop (mean ± std. dev. of 7 runs, 1000000 loops each)\n"
     ]
    }
   ],
   "source": [
    "%%timeit\n",
    "sub_dict2 = dict((k, v) for k, v in my_dict.items() if k in sub_keys)"
   ]
  },
  {
   "cell_type": "code",
   "execution_count": null,
   "metadata": {
    "collapsed": true
   },
   "outputs": [],
   "source": []
  }
 ],
 "metadata": {
  "kernelspec": {
   "display_name": "Python 3",
   "language": "python",
   "name": "python3"
  },
  "language_info": {
   "codemirror_mode": {
    "name": "ipython",
    "version": 3
   },
   "file_extension": ".py",
   "mimetype": "text/x-python",
   "name": "python",
   "nbconvert_exporter": "python",
   "pygments_lexer": "ipython3",
   "version": "3.6.3"
  }
 },
 "nbformat": 4,
 "nbformat_minor": 2
}
