{
 "cells": [
  {
   "cell_type": "markdown",
   "metadata": {},
   "source": [
    "> The ***StringIO*** and ***BytesIO*** classes are most useful in scenarios where you need to mimic\n",
    "a normal file for some reason.\n",
    "\n",
    "[class StringIO doc](https://docs.python.org/3/library/io.html#io.StringIO)\n",
    "\n",
    "[class BytesIO doc](https://docs.python.org/3/library/io.html#io.BytesIO)"
   ]
  },
  {
   "cell_type": "code",
   "execution_count": 1,
   "metadata": {},
   "outputs": [
    {
     "data": {
      "text/plain": [
       "'hello\\nworld\\n'"
      ]
     },
     "execution_count": 1,
     "metadata": {},
     "output_type": "execute_result"
    }
   ],
   "source": [
    "import io\n",
    "\n",
    "s = io.StringIO()\n",
    "s.write(\"hello\\n\")\n",
    "print(\"world\", file=s)\n",
    "\n",
    "s.getvalue()"
   ]
  },
  {
   "cell_type": "markdown",
   "metadata": {},
   "source": [
    "> Be aware that ***StringIO*** and ***BytesIO*** instances don’t have a proper integer filedescriptor.\n",
    "Thus, they do not work with code that requires the use of a real system-level\n",
    "file such as a file, pipe, or socket.\n",
    "\n",
    "[file discriptor wiki](https://en.wikipedia.org/wiki/File_descriptor)"
   ]
  },
  {
   "cell_type": "code",
   "execution_count": null,
   "metadata": {},
   "outputs": [],
   "source": []
  }
 ],
 "metadata": {
  "kernelspec": {
   "display_name": "Python 3",
   "language": "python",
   "name": "python3"
  },
  "language_info": {
   "codemirror_mode": {
    "name": "ipython",
    "version": 3
   },
   "file_extension": ".py",
   "mimetype": "text/x-python",
   "name": "python",
   "nbconvert_exporter": "python",
   "pygments_lexer": "ipython3",
   "version": "3.6.5"
  }
 },
 "nbformat": 4,
 "nbformat_minor": 2
}
