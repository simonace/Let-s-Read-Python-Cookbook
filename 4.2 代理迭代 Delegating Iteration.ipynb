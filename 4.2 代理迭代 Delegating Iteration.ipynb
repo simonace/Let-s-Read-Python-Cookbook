{
 "cells": [
  {
   "cell_type": "markdown",
   "metadata": {},
   "source": [
    "> Python’s iterator protocol requires **\\_\\_iter\\_\\_()** to return a special iterator object that\n",
    "implements a **\\_\\_next\\_\\_()** method to carry out the actual iteration."
   ]
  },
  {
   "cell_type": "code",
   "execution_count": 19,
   "metadata": {
    "collapsed": true
   },
   "outputs": [],
   "source": [
    "class Country(object):\n",
    "    def __init__(self, name, continent, capital):\n",
    "        self.data = {}\n",
    "        self.data['name'] = name\n",
    "        self.data['continent'] = continent\n",
    "        self.data['capital'] = capital\n",
    "        \n",
    "    def __iter__(self):\n",
    "        return iter(self.data.items())"
   ]
  },
  {
   "cell_type": "code",
   "execution_count": 22,
   "metadata": {},
   "outputs": [
    {
     "name": "stdout",
     "output_type": "stream",
     "text": [
      "('name', 'China')\n",
      "('continent', 'Asia')\n",
      "('capital', 'Beijing')\n",
      "('name', 'Germany')\n",
      "('continent', 'Europe')\n",
      "('capital', 'Berlin')\n"
     ]
    }
   ],
   "source": [
    "china = Country('China','Asia','Beijing')\n",
    "germany = Country('Germany','Europe','Berlin')\n",
    "\n",
    "for x in china:\n",
    "    print(x)\n",
    "    \n",
    "for x in germany:\n",
    "    print(x)"
   ]
  },
  {
   "cell_type": "code",
   "execution_count": null,
   "metadata": {
    "collapsed": true
   },
   "outputs": [],
   "source": []
  }
 ],
 "metadata": {
  "kernelspec": {
   "display_name": "Python 3",
   "language": "python",
   "name": "python3"
  },
  "language_info": {
   "codemirror_mode": {
    "name": "ipython",
    "version": 3
   },
   "file_extension": ".py",
   "mimetype": "text/x-python",
   "name": "python",
   "nbconvert_exporter": "python",
   "pygments_lexer": "ipython3",
   "version": "3.6.3"
  }
 },
 "nbformat": 4,
 "nbformat_minor": 2
}
