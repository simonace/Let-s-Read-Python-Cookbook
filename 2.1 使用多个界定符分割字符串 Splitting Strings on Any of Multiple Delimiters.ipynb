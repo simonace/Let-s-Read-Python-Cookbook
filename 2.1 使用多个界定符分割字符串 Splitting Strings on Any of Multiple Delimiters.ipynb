{
 "cells": [
  {
   "cell_type": "markdown",
   "metadata": {},
   "source": [
    "[re doc](https://docs.python.org/3/library/re.html)\n",
    "\n",
    "[str.split()](https://docs.python.org/3/library/stdtypes.html#str.split)"
   ]
  },
  {
   "cell_type": "code",
   "execution_count": 8,
   "metadata": {},
   "outputs": [
    {
     "name": "stdout",
     "output_type": "stream",
     "text": [
      "['winter', 'is', 'coming']\n",
      "['winter', 'is', 'coming']\n",
      "['fire', 'and', 'blood', '']\n",
      "['fire,', 'and;', 'blood']\n"
     ]
    }
   ],
   "source": [
    "import re\n",
    "\n",
    "stark = \"winter   is     coming\"\n",
    "\n",
    "targaryen = \"fire,   and;    blood   \"\n",
    "\n",
    "stark_split = re.split(r'\\s+', stark)\n",
    "print(stark_split)\n",
    "\n",
    "print(stark.split())\n",
    "\n",
    "targaryen_split = re.split(r'[,;\\s]\\s*',targaryen)\n",
    "print(targaryen_split)\n",
    "\n",
    "print(targaryen.split())"
   ]
  },
  {
   "cell_type": "markdown",
   "metadata": {},
   "source": [
    "### a capture group enclosed in parentheses as the split pattern will also be included in the result\n",
    "\n",
    ">If capture groups are used,\n",
    "then the matched text is also included in the result. "
   ]
  },
  {
   "cell_type": "code",
   "execution_count": 10,
   "metadata": {},
   "outputs": [
    {
     "name": "stdout",
     "output_type": "stream",
     "text": [
      "['winter', 'coming']\n",
      "['winter', 'is', 'coming']\n"
     ]
    }
   ],
   "source": [
    "# without parentheses (none-capture)\n",
    "print(re.split(r'\\s*is\\s*',stark))\n",
    "# with parentheses(capture)\n",
    "print(re.split(r'\\s*(is)\\s*',stark))"
   ]
  },
  {
   "cell_type": "markdown",
   "metadata": {},
   "source": [
    "> If you don’t want the separator characters in the result, but still need to use parentheses\n",
    "to group parts of the regular expression pattern, make sure you use a noncapture group,\n",
    "specified as ***(?:...)***.\n",
    "\n",
    "from [re doc](https://docs.python.org/3/library/re.html)\n",
    "\n",
    "> (?:...)\n",
    "\n",
    "> A non-capturing version of regular parentheses. Matches whatever regular expression is inside the parentheses, but the substring matched   by the group cannot be retrieved after performing a match or referenced later in the pattern."
   ]
  },
  {
   "cell_type": "code",
   "execution_count": null,
   "metadata": {
    "collapsed": true
   },
   "outputs": [],
   "source": []
  }
 ],
 "metadata": {
  "kernelspec": {
   "display_name": "Python 3",
   "language": "python",
   "name": "python3"
  },
  "language_info": {
   "codemirror_mode": {
    "name": "ipython",
    "version": 3
   },
   "file_extension": ".py",
   "mimetype": "text/x-python",
   "name": "python",
   "nbconvert_exporter": "python",
   "pygments_lexer": "ipython3",
   "version": "3.6.3"
  }
 },
 "nbformat": 4,
 "nbformat_minor": 2
}
