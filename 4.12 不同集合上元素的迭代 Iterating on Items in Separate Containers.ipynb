{
 "cells": [
  {
   "cell_type": "markdown",
   "metadata": {},
   "source": [
    "[itertools.chain() doc](https://docs.python.org/3/library/itertools.html#itertools.chain)\n",
    "\n",
    "> itertools.chain() accepts one or more iterables as arguments. It then works by creating\n",
    "an iterator that successively consumes and returns the items produced by each of\n",
    "the supplied iterables you provided. It’s a subtle distinction, but chain() is more efficient\n",
    "than first combining the sequences and iterating.\n",
    "\n",
    "chain() also accepts different types of iterable"
   ]
  },
  {
   "cell_type": "code",
   "execution_count": 10,
   "metadata": {},
   "outputs": [],
   "source": [
    "from itertools import chain\n",
    "\n",
    "asia = ['China', 'Japan', 'India']\n",
    "europe = ['Germany', 'France', 'Iceland']\n",
    "north_america =set(['USA', 'Canada', 'Mexico'])\n",
    "africa = ('Egypt', 'Kenya', 'Nigeria')"
   ]
  },
  {
   "cell_type": "code",
   "execution_count": 11,
   "metadata": {},
   "outputs": [
    {
     "name": "stdout",
     "output_type": "stream",
     "text": [
      "China\n",
      "Japan\n",
      "India\n",
      "Germany\n",
      "France\n",
      "Iceland\n",
      "USA\n",
      "Canada\n",
      "Mexico\n",
      "Egypt\n",
      "Kenya\n",
      "Nigeria\n"
     ]
    }
   ],
   "source": [
    "for country in chain(asia, europe, north_america, africa):\n",
    "    print(country)"
   ]
  },
  {
   "cell_type": "code",
   "execution_count": null,
   "metadata": {},
   "outputs": [],
   "source": []
  }
 ],
 "metadata": {
  "kernelspec": {
   "display_name": "Python 3",
   "language": "python",
   "name": "python3"
  },
  "language_info": {
   "codemirror_mode": {
    "name": "ipython",
    "version": 3
   },
   "file_extension": ".py",
   "mimetype": "text/x-python",
   "name": "python",
   "nbconvert_exporter": "python",
   "pygments_lexer": "ipython3",
   "version": "3.6.4"
  }
 },
 "nbformat": 4,
 "nbformat_minor": 2
}
