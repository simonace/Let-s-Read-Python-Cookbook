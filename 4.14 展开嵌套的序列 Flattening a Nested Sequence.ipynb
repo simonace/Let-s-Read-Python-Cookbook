{
 "cells": [
  {
   "cell_type": "markdown",
   "metadata": {},
   "source": [
    "[isinstance() doc](https://docs.python.org/3/library/functions.html#isinstance)"
   ]
  },
  {
   "cell_type": "code",
   "execution_count": 22,
   "metadata": {
    "collapsed": true
   },
   "outputs": [],
   "source": [
    "my_list = [1, [2,3], 4, '5', [6,7,8], (9,10), (11,12), set([13,14,15]), 16, {17:'17', '18':18}]"
   ]
  },
  {
   "cell_type": "code",
   "execution_count": 23,
   "metadata": {
    "collapsed": true
   },
   "outputs": [],
   "source": [
    "from collections import Iterable\n",
    "\n",
    "def my_flattening(l):\n",
    "    for element in l:\n",
    "        if isinstance(element, Iterable) and not isinstance(element, (str, bytes)):\n",
    "            yield from my_flattening(element)\n",
    "        else:\n",
    "            yield element"
   ]
  },
  {
   "cell_type": "code",
   "execution_count": 24,
   "metadata": {},
   "outputs": [
    {
     "name": "stdout",
     "output_type": "stream",
     "text": [
      "1\n",
      "2\n",
      "3\n",
      "4\n",
      "5\n",
      "6\n",
      "7\n",
      "8\n",
      "9\n",
      "10\n",
      "11\n",
      "12\n",
      "13\n",
      "14\n",
      "15\n",
      "16\n",
      "17\n",
      "18\n"
     ]
    }
   ],
   "source": [
    "for x in my_flattening(my_list):\n",
    "    print(x)"
   ]
  },
  {
   "cell_type": "markdown",
   "metadata": {},
   "source": [
    "> The ***yield from*** statement is a nice shortcut to use if you ever want to write generators\n",
    "that call other generators as subroutines.\n",
    "\n",
    "> As noted, the extra check for strings and bytes is there to prevent the expansion of those\n",
    "types into individual characters.\n",
    "\n",
    "without this extra check may cause ifinite recursion"
   ]
  },
  {
   "cell_type": "code",
   "execution_count": null,
   "metadata": {
    "collapsed": true
   },
   "outputs": [],
   "source": []
  }
 ],
 "metadata": {
  "kernelspec": {
   "display_name": "Python 3",
   "language": "python",
   "name": "python3"
  },
  "language_info": {
   "codemirror_mode": {
    "name": "ipython",
    "version": 3
   },
   "file_extension": ".py",
   "mimetype": "text/x-python",
   "name": "python",
   "nbconvert_exporter": "python",
   "pygments_lexer": "ipython3",
   "version": "3.6.3"
  }
 },
 "nbformat": 4,
 "nbformat_minor": 2
}
