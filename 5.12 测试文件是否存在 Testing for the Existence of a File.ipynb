{
 "cells": [
  {
   "cell_type": "markdown",
   "metadata": {},
   "source": [
    "[os doc](https://docs.python.org/3/library/os.html#module-os)"
   ]
  },
  {
   "cell_type": "code",
   "execution_count": 14,
   "metadata": {},
   "outputs": [
    {
     "name": "stdout",
     "output_type": "stream",
     "text": [
      "False\n",
      "False\n",
      "False\n",
      "False\n",
      "-----------------\n",
      "True\n",
      "False\n",
      "True\n",
      "4096\n",
      "Tue Aug 21 02:41:23 2018\n"
     ]
    }
   ],
   "source": [
    "import os\n",
    "\n",
    "#These tests return False if the file in question doesn’t exist\n",
    "print(os.path.exists('hello.txt'))\n",
    "print(os.path.isfile('hello.txt'))\n",
    "print(os.path.isdir('hello.txt'))\n",
    "print(os.path.islink('hello.txt'))\n",
    "\n",
    "print('-----------------')\n",
    "\n",
    "print(os.path.exists(os.getcwd()))\n",
    "print(os.path.isfile(os.getcwd()))\n",
    "print(os.path.isdir(os.getcwd()))\n",
    "\n",
    "print(os.path.getsize(os.getcwd()))\n",
    "import time\n",
    "print(time.ctime(os.path.getmtime(os.getcwd())))"
   ]
  },
  {
   "cell_type": "markdown",
   "metadata": {},
   "source": [
    "> File testing is a straightforward operation using ***os.path***. Probably the only thing to be\n",
    "aware of when writing scripts is that you might need to worry about permissions"
   ]
  },
  {
   "cell_type": "code",
   "execution_count": null,
   "metadata": {},
   "outputs": [],
   "source": []
  }
 ],
 "metadata": {
  "kernelspec": {
   "display_name": "Python 3",
   "language": "python",
   "name": "python3"
  },
  "language_info": {
   "codemirror_mode": {
    "name": "ipython",
    "version": 3
   },
   "file_extension": ".py",
   "mimetype": "text/x-python",
   "name": "python",
   "nbconvert_exporter": "python",
   "pygments_lexer": "ipython3",
   "version": "3.6.5"
  }
 },
 "nbformat": 4,
 "nbformat_minor": 2
}
