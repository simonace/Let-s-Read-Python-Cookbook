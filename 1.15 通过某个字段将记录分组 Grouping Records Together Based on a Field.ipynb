{
 "cells": [
  {
   "cell_type": "markdown",
   "metadata": {},
   "source": [
    "[groupby doc](https://docs.python.org/3/library/itertools.html#itertools.groupby)"
   ]
  },
  {
   "cell_type": "code",
   "execution_count": 1,
   "metadata": {
    "collapsed": true
   },
   "outputs": [],
   "source": [
    "from operator import itemgetter\n",
    "from itertools import groupby\n",
    "\n",
    "countries = [\n",
    "    {'name': 'China', 'continent': 'Asia', 'capital': 'Beijing'},\n",
    "    {'name': 'Germany', 'continent': 'Europe', 'capital': 'Berlin'},\n",
    "    {'name': 'Australia', 'continent': 'Oceania', 'capital': 'Canberra'},\n",
    "    {'name': 'Japan', 'continent': 'Asia', 'capital': 'Tokyo'},\n",
    "    {'name': 'Thailand', 'continent': 'Asia', 'capital': 'Bangkok'},\n",
    "    {'name': 'France', 'continent': 'Europe', 'capital': 'Paris'},\n",
    "    {'name': 'Spain', 'continent': 'Europe', 'capital': 'Madrid'},\n",
    "    {'name': 'USA', 'continent': 'North America', 'capital': 'Wachington'}\n",
    "    ]"
   ]
  },
  {
   "cell_type": "markdown",
   "metadata": {},
   "source": [
    "## groupby() scans a sequence in its order and finds identical sequential values\n",
    "\n",
    "#### without sorting by same key first"
   ]
  },
  {
   "cell_type": "code",
   "execution_count": 2,
   "metadata": {},
   "outputs": [
    {
     "name": "stdout",
     "output_type": "stream",
     "text": [
      "Asia\n",
      "{'name': 'China', 'continent': 'Asia', 'capital': 'Beijing'}\n",
      "Europe\n",
      "{'name': 'Germany', 'continent': 'Europe', 'capital': 'Berlin'}\n",
      "Oceania\n",
      "{'name': 'Australia', 'continent': 'Oceania', 'capital': 'Canberra'}\n",
      "Asia\n",
      "{'name': 'Japan', 'continent': 'Asia', 'capital': 'Tokyo'}\n",
      "{'name': 'Thailand', 'continent': 'Asia', 'capital': 'Bangkok'}\n",
      "Europe\n",
      "{'name': 'France', 'continent': 'Europe', 'capital': 'Paris'}\n",
      "{'name': 'Spain', 'continent': 'Europe', 'capital': 'Madrid'}\n",
      "North America\n",
      "{'name': 'USA', 'continent': 'North America', 'capital': 'Wachington'}\n"
     ]
    }
   ],
   "source": [
    "for continent, cties in groupby(countries, key=itemgetter('continent')):\n",
    "    print(continent)\n",
    "    for c in cties:\n",
    "        print(c)"
   ]
  },
  {
   "cell_type": "markdown",
   "metadata": {},
   "source": [
    "#### grouping after sorting with same key  (so items in same group will be together)"
   ]
  },
  {
   "cell_type": "code",
   "execution_count": 3,
   "metadata": {},
   "outputs": [
    {
     "name": "stdout",
     "output_type": "stream",
     "text": [
      "Asia\n",
      "{'name': 'China', 'continent': 'Asia', 'capital': 'Beijing'}\n",
      "{'name': 'Japan', 'continent': 'Asia', 'capital': 'Tokyo'}\n",
      "{'name': 'Thailand', 'continent': 'Asia', 'capital': 'Bangkok'}\n",
      "Europe\n",
      "{'name': 'Germany', 'continent': 'Europe', 'capital': 'Berlin'}\n",
      "{'name': 'France', 'continent': 'Europe', 'capital': 'Paris'}\n",
      "{'name': 'Spain', 'continent': 'Europe', 'capital': 'Madrid'}\n",
      "North America\n",
      "{'name': 'USA', 'continent': 'North America', 'capital': 'Wachington'}\n",
      "Oceania\n",
      "{'name': 'Australia', 'continent': 'Oceania', 'capital': 'Canberra'}\n"
     ]
    }
   ],
   "source": [
    "countries.sort(key=itemgetter('continent'))\n",
    "for continent, cties in groupby(countries, key=itemgetter('continent')):\n",
    "    print(continent)\n",
    "    for c in cties:\n",
    "        print(c)"
   ]
  },
  {
   "cell_type": "markdown",
   "metadata": {},
   "source": [
    "## grouping without using groupby(), adding to a bigger database"
   ]
  },
  {
   "cell_type": "code",
   "execution_count": 4,
   "metadata": {},
   "outputs": [
    {
     "name": "stdout",
     "output_type": "stream",
     "text": [
      "Asia\n",
      "{'name': 'China', 'continent': 'Asia', 'capital': 'Beijing'}\n",
      "{'name': 'Japan', 'continent': 'Asia', 'capital': 'Tokyo'}\n",
      "{'name': 'Thailand', 'continent': 'Asia', 'capital': 'Bangkok'}\n",
      "Europe\n",
      "{'name': 'Germany', 'continent': 'Europe', 'capital': 'Berlin'}\n",
      "{'name': 'France', 'continent': 'Europe', 'capital': 'Paris'}\n",
      "{'name': 'Spain', 'continent': 'Europe', 'capital': 'Madrid'}\n",
      "North America\n",
      "{'name': 'USA', 'continent': 'North America', 'capital': 'Wachington'}\n",
      "Oceania\n",
      "{'name': 'Australia', 'continent': 'Oceania', 'capital': 'Canberra'}\n"
     ]
    }
   ],
   "source": [
    "from collections import defaultdict\n",
    "\n",
    "countries_by_continent = defaultdict(list)\n",
    "for c in countries:\n",
    "    countries_by_continent[c['continent']].append(c)\n",
    "\n",
    "for key, value in countries_by_continent.items():\n",
    "    print(key)\n",
    "    for c in value:\n",
    "        print(c)"
   ]
  },
  {
   "cell_type": "code",
   "execution_count": null,
   "metadata": {
    "collapsed": true
   },
   "outputs": [],
   "source": []
  }
 ],
 "metadata": {
  "kernelspec": {
   "display_name": "Python 3",
   "language": "python",
   "name": "python3"
  },
  "language_info": {
   "codemirror_mode": {
    "name": "ipython",
    "version": 3
   },
   "file_extension": ".py",
   "mimetype": "text/x-python",
   "name": "python",
   "nbconvert_exporter": "python",
   "pygments_lexer": "ipython3",
   "version": "3.6.3"
  }
 },
 "nbformat": 4,
 "nbformat_minor": 2
}
