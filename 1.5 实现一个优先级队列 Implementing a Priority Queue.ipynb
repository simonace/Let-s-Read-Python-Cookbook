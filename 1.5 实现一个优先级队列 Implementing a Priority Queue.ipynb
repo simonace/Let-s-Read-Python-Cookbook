{
 "cells": [
  {
   "cell_type": "markdown",
   "metadata": {},
   "source": [
    "## docs and refs\n",
    "\n",
    "https://docs.python.org/3/library/heapq.html\n",
    "\n",
    "https://en.wikipedia.org/wiki/Priority_queue"
   ]
  },
  {
   "cell_type": "markdown",
   "metadata": {},
   "source": [
    "### copied from the cookbook (slightly modified)"
   ]
  },
  {
   "cell_type": "code",
   "execution_count": 5,
   "metadata": {},
   "outputs": [],
   "source": [
    "import heapq\n",
    "\n",
    "class PriorityQueue:\n",
    "    def __init__(self):\n",
    "        self._queue = []\n",
    "        self._index = 0\n",
    "\n",
    "    def push(self, item, priority):\n",
    "        heapq.heappush(self._queue, (-priority, self._index, item))\n",
    "        self._index += 1\n",
    "\n",
    "    def pop(self):\n",
    "        return heapq.heappop(self._queue)\n",
    "\n",
    "class Item:\n",
    "    def __init__(self, name):\n",
    "        self.name = name\n",
    "\n",
    "    def __repr__(self):\n",
    "        return self.name"
   ]
  },
  {
   "cell_type": "markdown",
   "metadata": {},
   "source": [
    "# Let's play with them now"
   ]
  },
  {
   "cell_type": "code",
   "execution_count": 4,
   "metadata": {},
   "outputs": [],
   "source": [
    "import random\n",
    "\n",
    "seq = \"abcdefghijk\"\n",
    "q = PriorityQueue()\n",
    "for i in range(100):\n",
    "    q.push(Item(random.choice(seq)), random.randrange(88))"
   ]
  },
  {
   "cell_type": "code",
   "execution_count": 6,
   "metadata": {},
   "outputs": [
    {
     "name": "stdout",
     "output_type": "stream",
     "text": [
      "(-87, 55, b)\n",
      "(-87, 58, a)\n",
      "(-86, 46, g)\n",
      "(-86, 99, a)\n",
      "(-85, 83, d)\n",
      "(-84, 94, b)\n",
      "(-82, 4, g)\n",
      "(-82, 60, a)\n",
      "(-81, 5, h)\n",
      "(-81, 44, k)\n"
     ]
    }
   ],
   "source": [
    "for i in range(10):\n",
    "    t = q.pop()\n",
    "    if i>0:\n",
    "        if lastP>t[0]:\n",
    "            raise Exception(\"Priority Queue doesn't work correctly!\")\n",
    "    print(t)\n",
    "    lastP = t[0]"
   ]
  },
  {
   "cell_type": "code",
   "execution_count": null,
   "metadata": {},
   "outputs": [],
   "source": []
  }
 ],
 "metadata": {
  "kernelspec": {
   "display_name": "Python 3",
   "language": "python",
   "name": "python3"
  },
  "language_info": {
   "codemirror_mode": {
    "name": "ipython",
    "version": 3
   },
   "file_extension": ".py",
   "mimetype": "text/x-python",
   "name": "python",
   "nbconvert_exporter": "python",
   "pygments_lexer": "ipython3",
   "version": "3.6.4"
  }
 },
 "nbformat": 4,
 "nbformat_minor": 2
}
