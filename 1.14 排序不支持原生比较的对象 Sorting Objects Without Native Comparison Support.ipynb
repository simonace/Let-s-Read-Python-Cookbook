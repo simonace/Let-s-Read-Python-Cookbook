{
 "cells": [
  {
   "cell_type": "markdown",
   "metadata": {},
   "source": [
    "### make a class and get some instances"
   ]
  },
  {
   "cell_type": "code",
   "execution_count": 1,
   "metadata": {
    "collapsed": true
   },
   "outputs": [],
   "source": [
    "class Country(object):\n",
    "    def __init__(self, name, continent, capital):\n",
    "        self.name = name\n",
    "        self.continent = continent\n",
    "        self.capital = capital\n",
    "\n",
    "    def __repr__(self):\n",
    "        return \"({}, {}, {})\".format(self.name, self.continent, self.capital)\n",
    "    \n",
    "    \n",
    "countries = [ Country('China', 'Asia', 'Beijing'),\n",
    "              Country('Germany', 'Europe', 'Berlin'),\n",
    "              Country('Australia', 'Oceania', 'Canberra'),\n",
    "              Country('Japan', 'Asia', 'Tokyo'),\n",
    "              Country('Thailand', 'Asia', 'Bangkok'),\n",
    "              Country('France', 'Europe', 'Paris'),\n",
    "              Country('Spain', 'Europe', 'Madrid'),\n",
    "              Country('USA', 'North America', 'Wachington')\n",
    "              ]"
   ]
  },
  {
   "cell_type": "markdown",
   "metadata": {},
   "source": [
    "[attrgetter doc](# https://docs.python.org/3/library/operator.html#operator.attrgetter)"
   ]
  },
  {
   "cell_type": "code",
   "execution_count": 2,
   "metadata": {},
   "outputs": [
    {
     "name": "stdout",
     "output_type": "stream",
     "text": [
      "[(Australia, Oceania, Canberra), (China, Asia, Beijing), (France, Europe, Paris), (Germany, Europe, Berlin), (Japan, Asia, Tokyo), (Spain, Europe, Madrid), (Thailand, Asia, Bangkok), (USA, North America, Wachington)]\n"
     ]
    }
   ],
   "source": [
    "from operator import attrgetter\n",
    "countries_by_name = sorted(countries, key=attrgetter('name'))\n",
    "print(countries_by_name)"
   ]
  },
  {
   "cell_type": "markdown",
   "metadata": {},
   "source": [
    "### is possible to have more than one parameter for attrgetter"
   ]
  },
  {
   "cell_type": "code",
   "execution_count": 3,
   "metadata": {},
   "outputs": [
    {
     "name": "stdout",
     "output_type": "stream",
     "text": [
      "[(China, Asia, Beijing), (Japan, Asia, Tokyo), (Thailand, Asia, Bangkok), (France, Europe, Paris), (Germany, Europe, Berlin), (Spain, Europe, Madrid), (USA, North America, Wachington), (Australia, Oceania, Canberra)]\n"
     ]
    }
   ],
   "source": [
    "countries_by_continent_and_name = sorted(countries, key=attrgetter('continent','name'))\n",
    "print(countries_by_continent_and_name)"
   ]
  },
  {
   "cell_type": "code",
   "execution_count": null,
   "metadata": {
    "collapsed": true
   },
   "outputs": [],
   "source": []
  }
 ],
 "metadata": {
  "kernelspec": {
   "display_name": "Python 3",
   "language": "python",
   "name": "python3"
  },
  "language_info": {
   "codemirror_mode": {
    "name": "ipython",
    "version": 3
   },
   "file_extension": ".py",
   "mimetype": "text/x-python",
   "name": "python",
   "nbconvert_exporter": "python",
   "pygments_lexer": "ipython3",
   "version": "3.6.3"
  }
 },
 "nbformat": 4,
 "nbformat_minor": 2
}
