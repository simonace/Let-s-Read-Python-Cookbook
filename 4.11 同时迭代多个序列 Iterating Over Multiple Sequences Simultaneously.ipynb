{
 "cells": [
  {
   "cell_type": "markdown",
   "metadata": {},
   "source": [
    "[zip() doc](https://docs.python.org/3/library/functions.html#zip)\n",
    "\n",
    "[zip_longest() doc](https://docs.python.org/3/library/itertools.html#itertools.zip_longest)\n",
    "\n",
    "> It’s important to emphasize that zip() creates an iterator as a result."
   ]
  },
  {
   "cell_type": "code",
   "execution_count": 1,
   "metadata": {},
   "outputs": [],
   "source": [
    "from itertools import zip_longest\n",
    "\n",
    "a = ['Beijing', 'Berlin', 'Wachington', 'Paris']\n",
    "b = ['Shanghai', 'Munich', 'L.A.' , 'Nice']\n",
    "c = ['Guangzhou', 'Frankfurt', 'Boston', 'Marseille']\n",
    "d = ['Chongqing', 'Essen', 'Seattle']"
   ]
  },
  {
   "cell_type": "markdown",
   "metadata": {},
   "source": [
    "#### zip() can pack 2 or more iterables"
   ]
  },
  {
   "cell_type": "code",
   "execution_count": 2,
   "metadata": {},
   "outputs": [
    {
     "name": "stdout",
     "output_type": "stream",
     "text": [
      "('Beijing', 'Shanghai', 'Guangzhou')\n",
      "('Berlin', 'Munich', 'Frankfurt')\n",
      "('Wachington', 'L.A.', 'Boston')\n",
      "('Paris', 'Nice', 'Marseille')\n"
     ]
    }
   ],
   "source": [
    "for cities in zip(a,b,c):\n",
    "    print(cities)"
   ]
  },
  {
   "cell_type": "markdown",
   "metadata": {},
   "source": [
    "> The length of the iteration is the same as the length of the shortest\n",
    "input.\n",
    "\n",
    "> If this behavior is not desired, use **itertools.zip_longest()** instead."
   ]
  },
  {
   "cell_type": "code",
   "execution_count": 3,
   "metadata": {},
   "outputs": [
    {
     "name": "stdout",
     "output_type": "stream",
     "text": [
      "('Beijing', 'Chongqing')\n",
      "('Berlin', 'Essen')\n",
      "('Wachington', 'Seattle')\n",
      "-------------------------------\n",
      "('Beijing', 'Chongqing')\n",
      "('Berlin', 'Essen')\n",
      "('Wachington', 'Seattle')\n",
      "('Paris', None)\n"
     ]
    }
   ],
   "source": [
    "for cc in zip(a,d):\n",
    "    print(cc)\n",
    "print(\"-------------------------------\")   \n",
    "for cc in zip_longest(a,d, fillvalue=None):\n",
    "    print(cc)"
   ]
  },
  {
   "cell_type": "code",
   "execution_count": null,
   "metadata": {},
   "outputs": [],
   "source": []
  }
 ],
 "metadata": {
  "kernelspec": {
   "display_name": "Python 3",
   "language": "python",
   "name": "python3"
  },
  "language_info": {
   "codemirror_mode": {
    "name": "ipython",
    "version": 3
   },
   "file_extension": ".py",
   "mimetype": "text/x-python",
   "name": "python",
   "nbconvert_exporter": "python",
   "pygments_lexer": "ipython3",
   "version": "3.6.4"
  }
 },
 "nbformat": 4,
 "nbformat_minor": 2
}
