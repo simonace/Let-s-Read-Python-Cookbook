{
 "cells": [
  {
   "cell_type": "markdown",
   "metadata": {},
   "source": [
    "#### concatenation by join()\n",
    "\n",
    "[str.join()](https://docs.python.org/3/library/stdtypes.html#str.join)"
   ]
  },
  {
   "cell_type": "code",
   "execution_count": 11,
   "metadata": {},
   "outputs": [
    {
     "name": "stdout",
     "output_type": "stream",
     "text": [
      "Simonissmart\n",
      "Simon is smart\n",
      "Simon,is,smart\n",
      "Simon,.;is,.;smart\n"
     ]
    }
   ],
   "source": [
    "simon_is_smart = ['Simon',\"is\",'smart']\n",
    "\n",
    "print(''.join(simon_is_smart))\n",
    "print(' '.join(simon_is_smart))\n",
    "print(','.join(simon_is_smart))\n",
    "print(',.;'.join(simon_is_smart))"
   ]
  },
  {
   "cell_type": "markdown",
   "metadata": {},
   "source": [
    "#### another way with format()\n",
    "\n",
    "[str.format()](https://docs.python.org/3/library/stdtypes.html#str.format)"
   ]
  },
  {
   "cell_type": "code",
   "execution_count": 9,
   "metadata": {},
   "outputs": [
    {
     "name": "stdout",
     "output_type": "stream",
     "text": [
      "Hello, World\n"
     ]
    }
   ],
   "source": [
    "hello = \"Hello\"\n",
    "world = 'World'\n",
    "\n",
    "print('{}, {}'.format(hello, world))"
   ]
  },
  {
   "cell_type": "markdown",
   "metadata": {},
   "source": [
    "##### for print(), there is a parameter 'sep'"
   ]
  },
  {
   "cell_type": "code",
   "execution_count": 10,
   "metadata": {},
   "outputs": [
    {
     "name": "stdout",
     "output_type": "stream",
     "text": [
      "Hello, World\n"
     ]
    }
   ],
   "source": [
    "print(hello, world, sep=\", \")"
   ]
  },
  {
   "cell_type": "code",
   "execution_count": null,
   "metadata": {},
   "outputs": [],
   "source": []
  }
 ],
 "metadata": {
  "kernelspec": {
   "display_name": "Python 3",
   "language": "python",
   "name": "python3"
  },
  "language_info": {
   "codemirror_mode": {
    "name": "ipython",
    "version": 3
   },
   "file_extension": ".py",
   "mimetype": "text/x-python",
   "name": "python",
   "nbconvert_exporter": "python",
   "pygments_lexer": "ipython3",
   "version": "3.6.4"
  }
 },
 "nbformat": 4,
 "nbformat_minor": 2
}
