{
 "cells": [
  {
   "cell_type": "markdown",
   "metadata": {},
   "source": [
    "> The ***readinto()*** method of files can be used to fill any preallocated array with data. This\n",
    "even includes arrays created from the **array** module or libraries such as **numpy**. Unlike\n",
    "the normal ***read()*** method, ***readinto()*** fills the contents of an existing buffer rather\n",
    "than allocating new objects and returning them. Thus, you might be able to use it to\n",
    "avoid making extra memory allocations.\n",
    "\n",
    "I used io.BytesIO (or io.StringIO) to simulate the real file.\n",
    "\n",
    "> One caution with using ***f.readinto()*** is that you must always make sure to check its\n",
    "return code, which is the number of bytes actually read."
   ]
  },
  {
   "cell_type": "code",
   "execution_count": 12,
   "metadata": {},
   "outputs": [
    {
     "name": "stdout",
     "output_type": "stream",
     "text": [
      "5\n",
      "bytearray(b'hello')\n"
     ]
    }
   ],
   "source": [
    "import io\n",
    "\n",
    "s = io.BytesIO()\n",
    "s.write(b\"hello world\")\n",
    "s.seek(0)\n",
    "\n",
    "\n",
    "buf = bytearray(5)\n",
    "# the return value of readinto() is the number of bytes it returns\n",
    "print(s.readinto(buf))\n",
    "\n",
    "print(buf)"
   ]
  },
  {
   "cell_type": "code",
   "execution_count": null,
   "metadata": {},
   "outputs": [],
   "source": []
  }
 ],
 "metadata": {
  "kernelspec": {
   "display_name": "Python 3",
   "language": "python",
   "name": "python3"
  },
  "language_info": {
   "codemirror_mode": {
    "name": "ipython",
    "version": 3
   },
   "file_extension": ".py",
   "mimetype": "text/x-python",
   "name": "python",
   "nbconvert_exporter": "python",
   "pygments_lexer": "ipython3",
   "version": "3.6.5"
  }
 },
 "nbformat": 4,
 "nbformat_minor": 2
}
