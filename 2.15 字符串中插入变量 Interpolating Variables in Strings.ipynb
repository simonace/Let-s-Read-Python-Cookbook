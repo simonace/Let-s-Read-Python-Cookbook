{
 "cells": [
  {
   "cell_type": "markdown",
   "metadata": {},
   "source": [
    "[vars() doc](https://docs.python.org/3/library/functions.html#vars)\n",
    "\n",
    "[str.format_map() doc](https://docs.python.org/3/library/stdtypes.html#str.format_map)\n",
    "\n",
    "> Without an argument, vars() acts like locals(). Note, the locals dictionary is only useful for reads since updates to the locals dictionary are ignored."
   ]
  },
  {
   "cell_type": "code",
   "execution_count": 7,
   "metadata": {},
   "outputs": [
    {
     "name": "stdout",
     "output_type": "stream",
     "text": [
      "{'__name__': '__main__', '__doc__': 'Automatically created module for IPython interactive environment', '__package__': None, '__loader__': None, '__spec__': None, '__builtin__': <module 'builtins' (built-in)>, '__builtins__': <module 'builtins' (built-in)>, '_ih': ['', 'simon = \"Simon\"\\ngets = \"gets\"\\nfull_mark = 100\\n\\nprint(vars())', 'simon = \"Simon\"\\ngets = \"gets\"\\nfull_mark = 100\\n\\nfill_the_blank = \"{simon} {gets} {full_mark}\"\\n\\nprint(vars())\\n\\nprint(fill_the_blank.format_map(vars()))', 'simon = \"Simon\"\\ngets = \"gets\"\\nfull_mark = 100\\n\\nfill_the_blank = \"{simon} {gets} {full_mark}\"\\n\\nprint(vars())\\n\\nprint(fill_the_blank.format(simon=simon, gets=gets, full_mark=full_mark))\\n\\nprint(fill_the_blank.format(simon=simon, gets=gets, full_mark=full_mark, exclamation=\"!\"))\\n\\nprint(fill_the_blank.format_map(vars()))', 'simon = \"Simon\"\\ngets = \"gets\"\\nfull_mark = 100\\n\\nfill_the_blank = \"{simon} {gets} {full_mark}\"\\n\\nprint(vars())\\n\\nprint(fill_the_blank.format(simon=simon, gets=gets, full_mark=full_mark))\\n\\n# given more parameters not in the string{} doesn\\'t work\\nprint(fill_the_blank.format(simon=simon, gets=gets, full_mark=full_mark, exclamation=\"!\"))\\n\\nprint(fill_the_blank.format_map(vars()))\\n\\nprint(fill_the_blank.format_map(simon=simon, gets=gets, full_mark=full_mark, exclamation=\"!\"))', 'simon = \"Simon\"\\ngets = \"gets\"\\nfull_mark = 100\\n\\nfill_the_blank = \"{simon} {gets} {full_mark}\"\\n\\nprint(vars())\\n\\nprint(fill_the_blank.format(simon=simon, gets=gets, full_mark=full_mark))\\n\\n# given more parameters not in the string{} doesn\\'t work\\nprint(fill_the_blank.format(simon=simon, gets=gets, full_mark=full_mark, exclamation=\"!\"))\\n\\nprint(fill_the_blank.format_map(vars()))\\nprint(fill_the_blank.format_map({\\'simon\\':\\'Simon\\'})', 'simon = \"Simon\"\\ngets = \"gets\"\\nfull_mark = 100\\n\\nfill_the_blank = \"{simon} {gets} {full_mark}\"\\n\\nprint(vars())\\n\\nprint(fill_the_blank.format(simon=simon, gets=gets, full_mark=full_mark))\\n\\n# given more parameters not in the string{} doesn\\'t work\\nprint(fill_the_blank.format(simon=simon, gets=gets, full_mark=full_mark, exclamation=\"!\"))\\n\\nprint(fill_the_blank.format_map(vars()))\\nprint(fill_the_blank.format_map({\\'simon\\':\\'Simon\\'}))', 'simon = \"Simon\"\\ngets = \"gets\"\\nfull_mark = 100\\n\\nfill_the_blank = \"{simon} {gets} {full_mark}\"\\n\\nprint(vars())\\n\\nprint(fill_the_blank.format(simon=simon, gets=gets, full_mark=full_mark))\\n\\n# given more parameters not in the string{} doesn\\'t work\\nprint(fill_the_blank.format(simon=simon, gets=gets, full_mark=full_mark, exclamation=\"!\"))\\n\\nprint(fill_the_blank.format_map(vars()))'], '_oh': {}, '_dh': ['/home/jovyan/binder'], 'In': ['', 'simon = \"Simon\"\\ngets = \"gets\"\\nfull_mark = 100\\n\\nprint(vars())', 'simon = \"Simon\"\\ngets = \"gets\"\\nfull_mark = 100\\n\\nfill_the_blank = \"{simon} {gets} {full_mark}\"\\n\\nprint(vars())\\n\\nprint(fill_the_blank.format_map(vars()))', 'simon = \"Simon\"\\ngets = \"gets\"\\nfull_mark = 100\\n\\nfill_the_blank = \"{simon} {gets} {full_mark}\"\\n\\nprint(vars())\\n\\nprint(fill_the_blank.format(simon=simon, gets=gets, full_mark=full_mark))\\n\\nprint(fill_the_blank.format(simon=simon, gets=gets, full_mark=full_mark, exclamation=\"!\"))\\n\\nprint(fill_the_blank.format_map(vars()))', 'simon = \"Simon\"\\ngets = \"gets\"\\nfull_mark = 100\\n\\nfill_the_blank = \"{simon} {gets} {full_mark}\"\\n\\nprint(vars())\\n\\nprint(fill_the_blank.format(simon=simon, gets=gets, full_mark=full_mark))\\n\\n# given more parameters not in the string{} doesn\\'t work\\nprint(fill_the_blank.format(simon=simon, gets=gets, full_mark=full_mark, exclamation=\"!\"))\\n\\nprint(fill_the_blank.format_map(vars()))\\n\\nprint(fill_the_blank.format_map(simon=simon, gets=gets, full_mark=full_mark, exclamation=\"!\"))', 'simon = \"Simon\"\\ngets = \"gets\"\\nfull_mark = 100\\n\\nfill_the_blank = \"{simon} {gets} {full_mark}\"\\n\\nprint(vars())\\n\\nprint(fill_the_blank.format(simon=simon, gets=gets, full_mark=full_mark))\\n\\n# given more parameters not in the string{} doesn\\'t work\\nprint(fill_the_blank.format(simon=simon, gets=gets, full_mark=full_mark, exclamation=\"!\"))\\n\\nprint(fill_the_blank.format_map(vars()))\\nprint(fill_the_blank.format_map({\\'simon\\':\\'Simon\\'})', 'simon = \"Simon\"\\ngets = \"gets\"\\nfull_mark = 100\\n\\nfill_the_blank = \"{simon} {gets} {full_mark}\"\\n\\nprint(vars())\\n\\nprint(fill_the_blank.format(simon=simon, gets=gets, full_mark=full_mark))\\n\\n# given more parameters not in the string{} doesn\\'t work\\nprint(fill_the_blank.format(simon=simon, gets=gets, full_mark=full_mark, exclamation=\"!\"))\\n\\nprint(fill_the_blank.format_map(vars()))\\nprint(fill_the_blank.format_map({\\'simon\\':\\'Simon\\'}))', 'simon = \"Simon\"\\ngets = \"gets\"\\nfull_mark = 100\\n\\nfill_the_blank = \"{simon} {gets} {full_mark}\"\\n\\nprint(vars())\\n\\nprint(fill_the_blank.format(simon=simon, gets=gets, full_mark=full_mark))\\n\\n# given more parameters not in the string{} doesn\\'t work\\nprint(fill_the_blank.format(simon=simon, gets=gets, full_mark=full_mark, exclamation=\"!\"))\\n\\nprint(fill_the_blank.format_map(vars()))'], 'Out': {}, 'get_ipython': <bound method InteractiveShell.get_ipython of <ipykernel.zmqshell.ZMQInteractiveShell object at 0x7f97797c0630>>, 'exit': <IPython.core.autocall.ZMQExitAutocall object at 0x7f977849d278>, 'quit': <IPython.core.autocall.ZMQExitAutocall object at 0x7f977849d278>, '_': '', '__': '', '___': '', '_i': 'simon = \"Simon\"\\ngets = \"gets\"\\nfull_mark = 100\\n\\nfill_the_blank = \"{simon} {gets} {full_mark}\"\\n\\nprint(vars())\\n\\nprint(fill_the_blank.format(simon=simon, gets=gets, full_mark=full_mark))\\n\\n# given more parameters not in the string{} doesn\\'t work\\nprint(fill_the_blank.format(simon=simon, gets=gets, full_mark=full_mark, exclamation=\"!\"))\\n\\nprint(fill_the_blank.format_map(vars()))\\nprint(fill_the_blank.format_map({\\'simon\\':\\'Simon\\'}))', '_ii': 'simon = \"Simon\"\\ngets = \"gets\"\\nfull_mark = 100\\n\\nfill_the_blank = \"{simon} {gets} {full_mark}\"\\n\\nprint(vars())\\n\\nprint(fill_the_blank.format(simon=simon, gets=gets, full_mark=full_mark))\\n\\n# given more parameters not in the string{} doesn\\'t work\\nprint(fill_the_blank.format(simon=simon, gets=gets, full_mark=full_mark, exclamation=\"!\"))\\n\\nprint(fill_the_blank.format_map(vars()))\\nprint(fill_the_blank.format_map({\\'simon\\':\\'Simon\\'})', '_iii': 'simon = \"Simon\"\\ngets = \"gets\"\\nfull_mark = 100\\n\\nfill_the_blank = \"{simon} {gets} {full_mark}\"\\n\\nprint(vars())\\n\\nprint(fill_the_blank.format(simon=simon, gets=gets, full_mark=full_mark))\\n\\n# given more parameters not in the string{} doesn\\'t work\\nprint(fill_the_blank.format(simon=simon, gets=gets, full_mark=full_mark, exclamation=\"!\"))\\n\\nprint(fill_the_blank.format_map(vars()))\\n\\nprint(fill_the_blank.format_map(simon=simon, gets=gets, full_mark=full_mark, exclamation=\"!\"))', '_i1': 'simon = \"Simon\"\\ngets = \"gets\"\\nfull_mark = 100\\n\\nprint(vars())', 'simon': 'Simon', 'gets': 'gets', 'full_mark': 100, '_i2': 'simon = \"Simon\"\\ngets = \"gets\"\\nfull_mark = 100\\n\\nfill_the_blank = \"{simon} {gets} {full_mark}\"\\n\\nprint(vars())\\n\\nprint(fill_the_blank.format_map(vars()))', 'fill_the_blank': '{simon} {gets} {full_mark}', '_i3': 'simon = \"Simon\"\\ngets = \"gets\"\\nfull_mark = 100\\n\\nfill_the_blank = \"{simon} {gets} {full_mark}\"\\n\\nprint(vars())\\n\\nprint(fill_the_blank.format(simon=simon, gets=gets, full_mark=full_mark))\\n\\nprint(fill_the_blank.format(simon=simon, gets=gets, full_mark=full_mark, exclamation=\"!\"))\\n\\nprint(fill_the_blank.format_map(vars()))', '_i4': 'simon = \"Simon\"\\ngets = \"gets\"\\nfull_mark = 100\\n\\nfill_the_blank = \"{simon} {gets} {full_mark}\"\\n\\nprint(vars())\\n\\nprint(fill_the_blank.format(simon=simon, gets=gets, full_mark=full_mark))\\n\\n# given more parameters not in the string{} doesn\\'t work\\nprint(fill_the_blank.format(simon=simon, gets=gets, full_mark=full_mark, exclamation=\"!\"))\\n\\nprint(fill_the_blank.format_map(vars()))\\n\\nprint(fill_the_blank.format_map(simon=simon, gets=gets, full_mark=full_mark, exclamation=\"!\"))', '_i5': 'simon = \"Simon\"\\ngets = \"gets\"\\nfull_mark = 100\\n\\nfill_the_blank = \"{simon} {gets} {full_mark}\"\\n\\nprint(vars())\\n\\nprint(fill_the_blank.format(simon=simon, gets=gets, full_mark=full_mark))\\n\\n# given more parameters not in the string{} doesn\\'t work\\nprint(fill_the_blank.format(simon=simon, gets=gets, full_mark=full_mark, exclamation=\"!\"))\\n\\nprint(fill_the_blank.format_map(vars()))\\nprint(fill_the_blank.format_map({\\'simon\\':\\'Simon\\'})', '_i6': 'simon = \"Simon\"\\ngets = \"gets\"\\nfull_mark = 100\\n\\nfill_the_blank = \"{simon} {gets} {full_mark}\"\\n\\nprint(vars())\\n\\nprint(fill_the_blank.format(simon=simon, gets=gets, full_mark=full_mark))\\n\\n# given more parameters not in the string{} doesn\\'t work\\nprint(fill_the_blank.format(simon=simon, gets=gets, full_mark=full_mark, exclamation=\"!\"))\\n\\nprint(fill_the_blank.format_map(vars()))\\nprint(fill_the_blank.format_map({\\'simon\\':\\'Simon\\'}))', '_i7': 'simon = \"Simon\"\\ngets = \"gets\"\\nfull_mark = 100\\n\\nfill_the_blank = \"{simon} {gets} {full_mark}\"\\n\\nprint(vars())\\n\\nprint(fill_the_blank.format(simon=simon, gets=gets, full_mark=full_mark))\\n\\n# given more parameters not in the string{} doesn\\'t work\\nprint(fill_the_blank.format(simon=simon, gets=gets, full_mark=full_mark, exclamation=\"!\"))\\n\\nprint(fill_the_blank.format_map(vars()))'}\n",
      "Simon gets 100\n",
      "Simon gets 100\n",
      "Simon gets 100\n"
     ]
    }
   ],
   "source": [
    "simon = \"Simon\"\n",
    "gets = \"gets\"\n",
    "full_mark = 100\n",
    "\n",
    "fill_the_blank = \"{simon} {gets} {full_mark}\"\n",
    "\n",
    "print(vars())\n",
    "\n",
    "print(fill_the_blank.format(simon=simon, gets=gets, full_mark=full_mark))\n",
    "\n",
    "# given more parameters not in the string{} doesn't work\n",
    "print(fill_the_blank.format(simon=simon, gets=gets, full_mark=full_mark, exclamation=\"!\"))\n",
    "\n",
    "print(fill_the_blank.format_map(vars()))"
   ]
  },
  {
   "cell_type": "markdown",
   "metadata": {},
   "source": [
    "> One downside of format() and format_map() is that they do not deal gracefully with\n",
    "missing values."
   ]
  },
  {
   "cell_type": "code",
   "execution_count": 8,
   "metadata": {},
   "outputs": [
    {
     "ename": "KeyError",
     "evalue": "'gets'",
     "output_type": "error",
     "traceback": [
      "\u001b[0;31m---------------------------------------------------------------------------\u001b[0m",
      "\u001b[0;31mKeyError\u001b[0m                                  Traceback (most recent call last)",
      "\u001b[0;32m<ipython-input-8-27be2aafb860>\u001b[0m in \u001b[0;36m<module>\u001b[0;34m()\u001b[0m\n\u001b[1;32m      1\u001b[0m \u001b[0;31m# Error: every key must exist\u001b[0m\u001b[0;34m\u001b[0m\u001b[0;34m\u001b[0m\u001b[0m\n\u001b[0;32m----> 2\u001b[0;31m \u001b[0mprint\u001b[0m\u001b[0;34m(\u001b[0m\u001b[0mfill_the_blank\u001b[0m\u001b[0;34m.\u001b[0m\u001b[0mformat_map\u001b[0m\u001b[0;34m(\u001b[0m\u001b[0;34m{\u001b[0m\u001b[0;34m'simon'\u001b[0m\u001b[0;34m:\u001b[0m\u001b[0;34m'Simon'\u001b[0m\u001b[0;34m}\u001b[0m\u001b[0;34m)\u001b[0m\u001b[0;34m)\u001b[0m\u001b[0;34m\u001b[0m\u001b[0m\n\u001b[0m",
      "\u001b[0;31mKeyError\u001b[0m: 'gets'"
     ]
    }
   ],
   "source": [
    "# Error: every key must exist\n",
    "print(fill_the_blank.format_map({'simon':'Simon'}))"
   ]
  },
  {
   "cell_type": "code",
   "execution_count": 9,
   "metadata": {},
   "outputs": [
    {
     "ename": "KeyError",
     "evalue": "'Peter'",
     "output_type": "error",
     "traceback": [
      "\u001b[0;31m---------------------------------------------------------------------------\u001b[0m",
      "\u001b[0;31mKeyError\u001b[0m                                  Traceback (most recent call last)",
      "\u001b[0;32m<ipython-input-9-f57b1d0db11c>\u001b[0m in \u001b[0;36m<module>\u001b[0;34m()\u001b[0m\n\u001b[1;32m      1\u001b[0m \u001b[0;31m# Error\u001b[0m\u001b[0;34m\u001b[0m\u001b[0;34m\u001b[0m\u001b[0m\n\u001b[0;32m----> 2\u001b[0;31m \u001b[0mprint\u001b[0m\u001b[0;34m(\u001b[0m\u001b[0;34m\"{Peter} {gets} {full_mark}\"\u001b[0m\u001b[0;34m.\u001b[0m\u001b[0mformat_map\u001b[0m\u001b[0;34m(\u001b[0m\u001b[0mvars\u001b[0m\u001b[0;34m(\u001b[0m\u001b[0;34m)\u001b[0m\u001b[0;34m)\u001b[0m\u001b[0;34m)\u001b[0m\u001b[0;34m\u001b[0m\u001b[0m\n\u001b[0m",
      "\u001b[0;31mKeyError\u001b[0m: 'Peter'"
     ]
    }
   ],
   "source": [
    "# Error\n",
    "print(\"{Peter} {gets} {full_mark}\".format_map(vars()))"
   ]
  },
  {
   "cell_type": "markdown",
   "metadata": {},
   "source": [
    "> One way to avoid this is to define an alternative dictionary class with a \\_\\_missing\\_\\_() method\n",
    "\n",
    "[\\_\\_missing\\_\\_() doc](https://docs.python.org/3/reference/datamodel.html#object.__missing__)\n",
    "\n",
    ">In the safesub class, this method has been defined to return\n",
    "missing values back as a placeholder. Instead of getting a KeyError exception, you\n",
    "would see the missing values appearing in the resulting string (potentially useful for\n",
    "debugging)."
   ]
  },
  {
   "cell_type": "code",
   "execution_count": 12,
   "metadata": {},
   "outputs": [
    {
     "name": "stdout",
     "output_type": "stream",
     "text": [
      "Peter gets 100\n"
     ]
    }
   ],
   "source": [
    "# safesub is child of dict\n",
    "class safesub(dict):\n",
    "    def __missing__(self, key):\n",
    "        return key\n",
    "    \n",
    "print(\"{Peter} {gets} {full_mark}\".format_map(safesub(vars())))"
   ]
  },
  {
   "cell_type": "code",
   "execution_count": null,
   "metadata": {},
   "outputs": [],
   "source": []
  }
 ],
 "metadata": {
  "kernelspec": {
   "display_name": "Python 3",
   "language": "python",
   "name": "python3"
  },
  "language_info": {
   "codemirror_mode": {
    "name": "ipython",
    "version": 3
   },
   "file_extension": ".py",
   "mimetype": "text/x-python",
   "name": "python",
   "nbconvert_exporter": "python",
   "pygments_lexer": "ipython3",
   "version": "3.6.4"
  }
 },
 "nbformat": 4,
 "nbformat_minor": 2
}
