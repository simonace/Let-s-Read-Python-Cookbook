{
 "cells": [
  {
   "cell_type": "markdown",
   "metadata": {},
   "source": [
    "[enumerate() doc](https://docs.python.org/3/library/functions.html#enumerate)"
   ]
  },
  {
   "cell_type": "code",
   "execution_count": 5,
   "metadata": {},
   "outputs": [
    {
     "name": "stdout",
     "output_type": "stream",
     "text": [
      "(0, 'Mickey')\n",
      "(1, 'Donald')\n",
      "(2, 'Goofy')\n",
      "-------------\n",
      "(1, 'Mickey')\n",
      "(2, 'Donald')\n",
      "(3, 'Goofy')\n"
     ]
    }
   ],
   "source": [
    "three_musketeers = [\"Mickey\", \"Donald\", \"Goofy\"]\n",
    "\n",
    "for index, name in enumerate(three_musketeers):\n",
    "    print((index, name))\n",
    "\n",
    "print(\"-------------\")\n",
    "\n",
    "for traditional_index, name in enumerate(three_musketeers, start=1):\n",
    "    print((traditional_index,name))"
   ]
  },
  {
   "cell_type": "markdown",
   "metadata": {},
   "source": [
    "> enumerate() can be handy for keeping track of the offset into a list for occurrences of\n",
    "certain values"
   ]
  },
  {
   "cell_type": "code",
   "execution_count": 8,
   "metadata": {},
   "outputs": [
    {
     "name": "stdout",
     "output_type": "stream",
     "text": [
      "7:\n",
      "    \"[permutations() doc](https://docs.python.org/3/library/itertools.html#itertools.permutations)\\n\",\n",
      "\n",
      "9:\n",
      "    \"[combinations() doc](https://docs.python.org/3/library/itertools.html#itertools.combinations)\\n\",\n",
      "\n",
      "11:\n",
      "    \"[combinations_with_replacement() doc](https://docs.python.org/3/library/itertools.html#itertools.combinations_with_replacement)\"\n",
      "\n",
      "20:\n",
      "    \"from itertools import permutations, combinations, combinations_with_replacement\\n\",\n",
      "\n",
      "22:\n",
      "    \"three_musketeers = [\\\"Mickey\\\", \\\"Donald\\\", \\\"Goofy\\\"]\"\n",
      "\n",
      "63:\n",
      "    \"for p in permutations(three_musketeers,2):\\n\",\n",
      "\n",
      "92:\n",
      "    \"for p in combinations(three_musketeers,3):\\n\",\n",
      "\n",
      "97:\n",
      "    \"for p in combinations(three_musketeers,2):\\n\",\n",
      "\n",
      "107:\n",
      "    \"> The itertools.combinations_with_replacement() allows the same item to be chosen more than once.\"\n",
      "\n",
      "140:\n",
      "    \"for p in combinations_with_replacement(three_musketeers,3):\\n\",\n",
      "\n",
      "145:\n",
      "    \"for p in combinations_with_replacement(three_musketeers,2):\\n\",\n",
      "\n"
     ]
    }
   ],
   "source": [
    "f = open(\"4.9 排列组合的迭代 Iterating Over All Possible Combinations or Permutations.ipynb\")\n",
    "lines = f.readlines()\n",
    "for line_num, line in enumerate(lines, 1):\n",
    "    if len(line)>50:\n",
    "        print(str(line_num)+\":\")\n",
    "        print(line)"
   ]
  },
  {
   "cell_type": "markdown",
   "metadata": {},
   "source": [
    "> Although a minor point, it’s worth mentioning that sometimes it is easy to get tripped\n",
    "up when applying **enumerate()** to a sequence of tuples that are also being unpacked."
   ]
  },
  {
   "cell_type": "code",
   "execution_count": 10,
   "metadata": {},
   "outputs": [
    {
     "name": "stdout",
     "output_type": "stream",
     "text": [
      "(0, (1, 2))\n",
      "(1, (3, 4))\n",
      "(2, (5, 6))\n",
      "----------------------------\n",
      "(0, 1, 2)\n",
      "(1, 3, 4)\n",
      "(2, 5, 6)\n"
     ]
    },
    {
     "ename": "ValueError",
     "evalue": "not enough values to unpack (expected 3, got 2)",
     "output_type": "error",
     "traceback": [
      "\u001b[0;31m---------------------------------------------------------------------------\u001b[0m",
      "\u001b[0;31mValueError\u001b[0m                                Traceback (most recent call last)",
      "\u001b[0;32m<ipython-input-10-d0430668e037>\u001b[0m in \u001b[0;36m<module>\u001b[0;34m()\u001b[0m\n\u001b[1;32m      8\u001b[0m     \u001b[0mprint\u001b[0m\u001b[0;34m(\u001b[0m\u001b[0;34m(\u001b[0m\u001b[0mi\u001b[0m\u001b[0;34m,\u001b[0m\u001b[0ma\u001b[0m\u001b[0;34m,\u001b[0m\u001b[0mb\u001b[0m\u001b[0;34m)\u001b[0m\u001b[0;34m)\u001b[0m\u001b[0;34m\u001b[0m\u001b[0m\n\u001b[1;32m      9\u001b[0m \u001b[0;31m# but this is wrong to unpack the tuples in the list\u001b[0m\u001b[0;34m\u001b[0m\u001b[0;34m\u001b[0m\u001b[0m\n\u001b[0;32m---> 10\u001b[0;31m \u001b[0;32mfor\u001b[0m \u001b[0mi\u001b[0m\u001b[0;34m,\u001b[0m\u001b[0ma\u001b[0m\u001b[0;34m,\u001b[0m\u001b[0mb\u001b[0m \u001b[0;32min\u001b[0m \u001b[0menumerate\u001b[0m\u001b[0;34m(\u001b[0m\u001b[0mt_list\u001b[0m\u001b[0;34m)\u001b[0m\u001b[0;34m:\u001b[0m\u001b[0;34m\u001b[0m\u001b[0m\n\u001b[0m\u001b[1;32m     11\u001b[0m     \u001b[0mprint\u001b[0m\u001b[0;34m(\u001b[0m\u001b[0;34m(\u001b[0m\u001b[0mi\u001b[0m\u001b[0;34m,\u001b[0m\u001b[0ma\u001b[0m\u001b[0;34m,\u001b[0m\u001b[0mb\u001b[0m\u001b[0;34m)\u001b[0m\u001b[0;34m)\u001b[0m\u001b[0;34m\u001b[0m\u001b[0m\n",
      "\u001b[0;31mValueError\u001b[0m: not enough values to unpack (expected 3, got 2)"
     ]
    }
   ],
   "source": [
    "t_list = [(1,2),(3,4),(5,6)]\n",
    "# it's ok to regard a tuple as one element\n",
    "for i,t in enumerate(t_list):\n",
    "    print((i,t))\n",
    "print(\"----------------------------\")\n",
    "# it's ok to verbosely write everything\n",
    "for i,(a,b) in enumerate(t_list):\n",
    "    print((i,a,b))\n",
    "# but this is wrong to unpack the tuples in the list\n",
    "for i,a,b in enumerate(t_list):\n",
    "    print((i,a,b))"
   ]
  },
  {
   "cell_type": "code",
   "execution_count": null,
   "metadata": {},
   "outputs": [],
   "source": []
  }
 ],
 "metadata": {
  "kernelspec": {
   "display_name": "Python 3",
   "language": "python",
   "name": "python3"
  },
  "language_info": {
   "codemirror_mode": {
    "name": "ipython",
    "version": 3
   },
   "file_extension": ".py",
   "mimetype": "text/x-python",
   "name": "python",
   "nbconvert_exporter": "python",
   "pygments_lexer": "ipython3",
   "version": "3.6.4"
  }
 },
 "nbformat": 4,
 "nbformat_minor": 2
}
