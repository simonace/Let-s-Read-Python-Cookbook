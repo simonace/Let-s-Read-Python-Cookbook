{
 "cells": [
  {
   "cell_type": "code",
   "execution_count": 1,
   "metadata": {},
   "outputs": [],
   "source": [
    "str1 = \"ioefanasdfjqwonv,djsaopfsdjfhqejv,jsdfjoqwiefhdnvnvqej,jfdafopqjpfjqwfapnf,sjdfpqoiejfqhnfdsfjq,\\\n",
    "        sdflkasdjfasdf,qpofjdvnncbjfgqwhoqa,jajfqpoijvnzmq,fmqkvnnfaf,jqpdsofmmznfvnqnqn,kzvkmqklm\""
   ]
  },
  {
   "cell_type": "code",
   "execution_count": 5,
   "metadata": {},
   "outputs": [
    {
     "name": "stdout",
     "output_type": "stream",
     "text": [
      "(3, 9)\n",
      "(6, 10)\n",
      "(3, 10)\n",
      "(1, 4, 10, 14, 18)\n",
      "(3, 10, 14, 17)\n",
      "(10, 17, 21)\n",
      "(3, 12)\n",
      "(3,)\n",
      "(0, 7, 9)\n",
      "(6, 11)\n",
      "()\n"
     ]
    }
   ],
   "source": [
    "def section_gen(full_string):\n",
    "    for section in full_string.split(','):\n",
    "        yield section\n",
    "        \n",
    "def find_gen(section, char):\n",
    "    i = 0\n",
    "    while True:\n",
    "        result = section.find(char, i)\n",
    "        if result >=0:\n",
    "            i = result+1\n",
    "            yield result\n",
    "        else:\n",
    "            break\n",
    "\n",
    "for sec in section_gen(str1):\n",
    "    print(tuple(find_gen(sec, 'f')))"
   ]
  },
  {
   "cell_type": "markdown",
   "metadata": {},
   "source": [
    "> Generator functions are a good way to implement processing pipelines.\n",
    "\n",
    "> Processing data in a pipelined manner works well for a wide variety of other problems,\n",
    "including parsing, reading from real-time data sources, periodic polling, and so on.\n",
    "\n",
    "> One nice feature of this approach is that each generator function tends to be small and\n",
    "self-contained.\n",
    "\n",
    "> The memory efficiency of this approach can also not be overstated. In fact, due to the iterative\n",
    "nature of the processing, very little memory would be used at all."
   ]
  },
  {
   "cell_type": "code",
   "execution_count": null,
   "metadata": {},
   "outputs": [],
   "source": []
  }
 ],
 "metadata": {
  "kernelspec": {
   "display_name": "Python 3",
   "language": "python",
   "name": "python3"
  },
  "language_info": {
   "codemirror_mode": {
    "name": "ipython",
    "version": 3
   },
   "file_extension": ".py",
   "mimetype": "text/x-python",
   "name": "python",
   "nbconvert_exporter": "python",
   "pygments_lexer": "ipython3",
   "version": "3.6.4"
  }
 },
 "nbformat": 4,
 "nbformat_minor": 2
}
