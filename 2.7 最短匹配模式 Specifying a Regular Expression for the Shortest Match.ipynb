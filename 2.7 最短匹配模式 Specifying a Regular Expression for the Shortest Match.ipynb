{
 "cells": [
  {
   "cell_type": "markdown",
   "metadata": {},
   "source": [
    "> Adding the ***?*** right after operators such as ***\\**** or ***+*** forces the matching algorithm to look for the shortest possible match instead."
   ]
  },
  {
   "cell_type": "code",
   "execution_count": 1,
   "metadata": {},
   "outputs": [
    {
     "name": "stdout",
     "output_type": "stream",
     "text": [
      "['no.\" Phone says \"yes.']\n",
      "['no.', 'yes.']\n"
     ]
    }
   ],
   "source": [
    "import re\n",
    "\n",
    "str_pat_greedy = re.compile(r'\"(.*)\"')\n",
    "str_pat_none_greedy = re.compile(r'\"(.*?)\"')\n",
    "text_from_cookbook = 'Computer says \"no.\" Phone says \"yes.\"'\n",
    "\n",
    "print(str_pat_greedy.findall(text_from_cookbook))\n",
    "print(str_pat_none_greedy.findall(text_from_cookbook))"
   ]
  },
  {
   "cell_type": "code",
   "execution_count": null,
   "metadata": {
    "collapsed": true
   },
   "outputs": [],
   "source": []
  }
 ],
 "metadata": {
  "kernelspec": {
   "display_name": "Python 3",
   "language": "python",
   "name": "python3"
  },
  "language_info": {
   "codemirror_mode": {
    "name": "ipython",
    "version": 3
   },
   "file_extension": ".py",
   "mimetype": "text/x-python",
   "name": "python",
   "nbconvert_exporter": "python",
   "pygments_lexer": "ipython3",
   "version": "3.6.3"
  }
 },
 "nbformat": 4,
 "nbformat_minor": 2
}
