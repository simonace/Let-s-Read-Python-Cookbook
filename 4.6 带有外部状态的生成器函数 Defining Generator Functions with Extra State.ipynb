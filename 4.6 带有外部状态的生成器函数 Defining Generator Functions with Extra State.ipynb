{
 "cells": [
  {
   "cell_type": "markdown",
   "metadata": {},
   "source": [
    "> You would like to define a generator function, but it involves extra state that you would\n",
    "like to expose to the user somehow."
   ]
  },
  {
   "cell_type": "code",
   "execution_count": 5,
   "metadata": {},
   "outputs": [],
   "source": [
    "class genEvenNum:\n",
    "    def __init__(self, until=30):\n",
    "        self.until = until\n",
    "        \n",
    "    def __iter__(self):\n",
    "        i=0\n",
    "        while i<=self.until:\n",
    "            yield i\n",
    "            i = i +2"
   ]
  },
  {
   "cell_type": "markdown",
   "metadata": {},
   "source": [
    "> To use this class, you would treat it like a normal generator function."
   ]
  },
  {
   "cell_type": "code",
   "execution_count": 7,
   "metadata": {},
   "outputs": [
    {
     "name": "stdout",
     "output_type": "stream",
     "text": [
      "0\n",
      "2\n",
      "4\n",
      "6\n",
      "8\n",
      "10\n",
      "12\n",
      "14\n",
      "16\n",
      "18\n",
      "20\n",
      "22\n",
      "24\n",
      "26\n",
      "28\n",
      "30\n"
     ]
    }
   ],
   "source": [
    "evenNumUntil30 = genEvenNum(30)\n",
    "for x in evenNumUntil30:\n",
    "    print(x)"
   ]
  },
  {
   "cell_type": "markdown",
   "metadata": {},
   "source": [
    "> One potential subtlety with the method shown is that it might require an extra step of\n",
    "calling **iter()** if you are going to drive iteration using a technique other than a **for**\n",
    "loop.\n",
    "\n",
    "Or using build-in func which accepts generator doesn't need extra **iter()** either."
   ]
  },
  {
   "cell_type": "code",
   "execution_count": 11,
   "metadata": {},
   "outputs": [
    {
     "name": "stdout",
     "output_type": "stream",
     "text": [
      "0\n",
      "2\n",
      "4\n",
      "6\n",
      "8\n",
      "10\n",
      "12\n"
     ]
    },
    {
     "data": {
      "text/plain": [
       "110"
      ]
     },
     "execution_count": 11,
     "metadata": {},
     "output_type": "execute_result"
    }
   ],
   "source": [
    "evenNumUntil21 = genEvenNum(21)\n",
    "iter21 = iter(evenNumUntil21)\n",
    "while True:\n",
    "    x = next(iter21)\n",
    "    print(x)\n",
    "    if x > 10:\n",
    "        break\n",
    "        \n",
    "sum(evenNumUntil21)"
   ]
  },
  {
   "cell_type": "code",
   "execution_count": null,
   "metadata": {},
   "outputs": [],
   "source": []
  }
 ],
 "metadata": {
  "kernelspec": {
   "display_name": "Python 3",
   "language": "python",
   "name": "python3"
  },
  "language_info": {
   "codemirror_mode": {
    "name": "ipython",
    "version": 3
   },
   "file_extension": ".py",
   "mimetype": "text/x-python",
   "name": "python",
   "nbconvert_exporter": "python",
   "pygments_lexer": "ipython3",
   "version": "3.6.4"
  }
 },
 "nbformat": 4,
 "nbformat_minor": 2
}
