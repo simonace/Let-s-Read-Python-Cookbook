{
 "cells": [
  {
   "cell_type": "markdown",
   "metadata": {},
   "source": [
    "> Some bored script kiddie has entered the text “pýtĥöñ” into a form on your web page\n",
    "and you’d like to clean it up somehow.\n",
    "\n",
    "我想说我也想当这kid可以吗\n",
    "\n",
    "[str.translate() doc](https://docs.python.org/3/library/stdtypes.html#str.translate)"
   ]
  },
  {
   "cell_type": "markdown",
   "metadata": {},
   "source": [
    "### use the os to create a map (to replace unicode with None, or to say to delete the unicode char)\n",
    "\n",
    "[dict.fromkeys()](https://docs.python.org/3/library/stdtypes.html#dict.fromkeys)\n",
    "\n",
    "> NFD(Normal Form Decomposition) is also known as canonical decomposition, and translates each character into its decomposed form.\n",
    "\n",
    "using NFD to normalize a unicode char makes the unicode char an ascii char followed by an unicode char of combining meaning"
   ]
  },
  {
   "cell_type": "code",
   "execution_count": 3,
   "metadata": {},
   "outputs": [
    {
     "name": "stdout",
     "output_type": "stream",
     "text": [
      "python is awesome\n"
     ]
    }
   ],
   "source": [
    "import unicodedata\n",
    "import sys\n",
    "\n",
    "cmb_chrs = dict.fromkeys(c for c in range(sys.maxunicode) if unicodedata.combining(chr(c)))\n",
    "\n",
    "a = 'pýtĥöñ is awesome'\n",
    "b = unicodedata.normalize('NFD', a)\n",
    "\n",
    "print(b.translate(cmb_chrs))"
   ]
  },
  {
   "cell_type": "code",
   "execution_count": null,
   "metadata": {},
   "outputs": [],
   "source": []
  }
 ],
 "metadata": {
  "kernelspec": {
   "display_name": "Python 3",
   "language": "python",
   "name": "python3"
  },
  "language_info": {
   "codemirror_mode": {
    "name": "ipython",
    "version": 3
   },
   "file_extension": ".py",
   "mimetype": "text/x-python",
   "name": "python",
   "nbconvert_exporter": "python",
   "pygments_lexer": "ipython3",
   "version": "3.6.4"
  }
 },
 "nbformat": 4,
 "nbformat_minor": 2
}
