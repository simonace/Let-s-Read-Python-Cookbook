{
 "cells": [
  {
   "cell_type": "markdown",
   "metadata": {},
   "source": [
    "### here is a tokenizer for boolean logic\n",
    "\n",
    "[a tokenizer example python re doc page](https://docs.python.org/3/library/re.html#writing-a-tokenizer)"
   ]
  },
  {
   "cell_type": "code",
   "execution_count": 6,
   "metadata": {
    "collapsed": true
   },
   "outputs": [],
   "source": [
    "import re\n",
    "\n",
    "AND = r'(?P<AND>[Aa][Nn][Dd])'\n",
    "OR = r'(?P<OR>[Oo][Rr])'\n",
    "NOT = r'(?P<NOT>[Nn][Oo][Tt])'\n",
    "VAR = r'(?P<VAR>[a-zA-Z_][a-zA-Z_0-9]*)'\n",
    "LP = r'(?P<LP>\\()'\n",
    "RP = r'(?P<RP>\\))'\n",
    "WS = r'(?P<WS>\\s+)'"
   ]
  },
  {
   "cell_type": "code",
   "execution_count": 7,
   "metadata": {
    "collapsed": true
   },
   "outputs": [],
   "source": [
    "logic1 = \"a and b or (not c)\""
   ]
  },
  {
   "cell_type": "code",
   "execution_count": 8,
   "metadata": {
    "collapsed": true
   },
   "outputs": [],
   "source": [
    "pat = re.compile('|'.join([AND,OR,NOT,VAR,LP,RP,WS]))"
   ]
  },
  {
   "cell_type": "code",
   "execution_count": 9,
   "metadata": {},
   "outputs": [
    {
     "name": "stdout",
     "output_type": "stream",
     "text": [
      "VAR : a\n"
     ]
    }
   ],
   "source": [
    "sc = pat.scanner(logic1)\n",
    "a = sc.match()\n",
    "while a:\n",
    "    print(a.lastgroup + \" : \" + a.group())\n",
    "    a=sc.match()"
   ]
  },
  {
   "cell_type": "markdown",
   "metadata": {},
   "source": [
    "### if without handling the whitespace\n",
    "\n",
    "> If any nonmatching text is found,\n",
    "scanning simply stops. This is why it was necessary to specify the whitespace (WS) token\n",
    "in the example."
   ]
  },
  {
   "cell_type": "code",
   "execution_count": 10,
   "metadata": {},
   "outputs": [
    {
     "name": "stdout",
     "output_type": "stream",
     "text": [
      "VAR : a\n"
     ]
    }
   ],
   "source": [
    "pat_without_ws = re.compile('|'.join([AND,OR,NOT,VAR,LP,RP]))\n",
    "sc2 = pat_without_ws.scanner(logic1)\n",
    "a = sc2.match()\n",
    "while a:\n",
    "    print(a.lastgroup + \" : \" + a.group())\n",
    "    a=sc2.match()"
   ]
  },
  {
   "cell_type": "markdown",
   "metadata": {},
   "source": [
    "> The order of tokens in the master regular expression also matters.\n",
    "\n",
    "In the example below, all logic op \"and\", \"or\" and \"not\" are recognized as variable(VAR)"
   ]
  },
  {
   "cell_type": "code",
   "execution_count": 12,
   "metadata": {},
   "outputs": [
    {
     "name": "stdout",
     "output_type": "stream",
     "text": [
      "VAR : a\n",
      "WS :  \n",
      "VAR : and\n",
      "WS :  \n",
      "VAR : b\n",
      "WS :  \n",
      "VAR : or\n",
      "WS :  \n",
      "LP : (\n",
      "VAR : not\n",
      "WS :  \n",
      "VAR : c\n",
      "RP : )\n"
     ]
    }
   ],
   "source": [
    "pat_order = re.compile('|'.join([VAR,AND,OR,NOT,LP,RP,WS]))\n",
    "sc3 = pat_order.scanner(logic1)\n",
    "a = sc3.match()\n",
    "while a:\n",
    "    print(a.lastgroup + \" : \" + a.group())\n",
    "    a=sc3.match()"
   ]
  },
  {
   "cell_type": "code",
   "execution_count": null,
   "metadata": {
    "collapsed": true
   },
   "outputs": [],
   "source": []
  }
 ],
 "metadata": {
  "kernelspec": {
   "display_name": "Python 3",
   "language": "python",
   "name": "python3"
  },
  "language_info": {
   "codemirror_mode": {
    "name": "ipython",
    "version": 3
   },
   "file_extension": ".py",
   "mimetype": "text/x-python",
   "name": "python",
   "nbconvert_exporter": "python",
   "pygments_lexer": "ipython3",
   "version": "3.6.3"
  }
 },
 "nbformat": 4,
 "nbformat_minor": 2
}
