{
 "cells": [
  {
   "cell_type": "markdown",
   "metadata": {},
   "source": [
    "# Heap\n",
    "\n",
    "https://docs.python.org/3/library/heapq.html\n",
    "\n",
    "https://en.wikipedia.org/wiki/Heap_(data_structure)"
   ]
  },
  {
   "cell_type": "markdown",
   "metadata": {},
   "source": [
    "## To study the data structure of \"heap\", I built a very simple \"max heap\" compare to python's heapq which is a min heap. My heap only is based on a function(an operation) called heapInsert, which does the job of adding a new element to a heap and keeping the rule of parent being larger than (or equal to) its children (binary heap one parent have 2 children at most)."
   ]
  },
  {
   "cell_type": "code",
   "execution_count": 1,
   "metadata": {
    "collapsed": true
   },
   "outputs": [],
   "source": [
    "def heapInsert(i, heap):\n",
    "    # not in-place\n",
    "    newHeap = heap\n",
    "    pos = len(heap)\n",
    "    if pos>0:\n",
    "        if pos%2 == 0: #pos is even\n",
    "            prt_pos = int((pos-2)/2)\n",
    "        else: #pos is odd\n",
    "            prt_pos = int((pos-1)/2)\n",
    "        prt = heap[prt_pos]\n",
    "        if i <= prt:\n",
    "            newHeap.append(i)\n",
    "        else:\n",
    "            newHeap = heapInsert(i, heap[:prt_pos])+heap[prt_pos+1:]\n",
    "            newHeap.append(prt)\n",
    "    else:\n",
    "       newHeap.append(i)\n",
    "\n",
    "    return newHeap\n",
    "\n",
    "def maxHeapify(l):\n",
    "    h = []\n",
    "    for i in range(len(l)):\n",
    "        h = heapInsert(l[i], h)\n",
    "    return h"
   ]
  },
  {
   "cell_type": "markdown",
   "metadata": {},
   "source": [
    "### def heapInsert(i, heap) add i to heap and return the new heap\n",
    "### def maxHeapify(l) transfer a list to a max heap(still as the form of a list, but sorted as a max heap)\n",
    "\n",
    "#### following changed a list of 0 to 9 (not in order) to a max heap"
   ]
  },
  {
   "cell_type": "code",
   "execution_count": 2,
   "metadata": {},
   "outputs": [
    {
     "name": "stdout",
     "output_type": "stream",
     "text": [
      "[7, 8, 6, 3, 4, 1, 5, 2, 9, 0]\n",
      "[9, 8, 6, 7, 4, 1, 5, 2, 3, 0]\n"
     ]
    }
   ],
   "source": [
    "import random\n",
    "l_10 = [i for i in range(10)]\n",
    "random.shuffle(l_10)\n",
    "print(l_10)\n",
    "mh = maxHeapify(l_10)\n",
    "print(mh)"
   ]
  },
  {
   "cell_type": "markdown",
   "metadata": {},
   "source": [
    "## There is also a sort algorithm called \"heap sort\" based on the data structure of heap and its basic operations\n",
    "\n",
    "https://en.wikipedia.org/wiki/Heapsort\n",
    "\n",
    "### I also made a function of heap sorting."
   ]
  },
  {
   "cell_type": "code",
   "execution_count": 3,
   "metadata": {
    "collapsed": true
   },
   "outputs": [],
   "source": [
    "def heapSort(l):\n",
    "    # parameter list l must have at least two elements\n",
    "    sortedL = []\n",
    "    h = maxHeapify(l)\n",
    "    while len(h)>2:\n",
    "        sortedL.append(h[0])\n",
    "        h = maxHeapify(h[1:])\n",
    "    sortedL = sortedL + h\n",
    "    return sortedL"
   ]
  },
  {
   "cell_type": "markdown",
   "metadata": {},
   "source": [
    "### following sorted a list of 0 to 99 using heap sort"
   ]
  },
  {
   "cell_type": "code",
   "execution_count": 5,
   "metadata": {},
   "outputs": [
    {
     "name": "stdout",
     "output_type": "stream",
     "text": [
      "[15, 40, 20, 74, 29, 7, 78, 88, 27, 23, 98, 8, 77, 37, 56, 91, 81, 51, 11, 57, 54, 48, 0, 5, 79, 45, 60, 85, 76, 14, 47, 69, 28, 9, 63, 93, 2, 13, 38, 3, 97, 4, 21, 22, 39, 64, 1, 71, 52, 10, 95, 24, 33, 46, 36, 6, 19, 55, 96, 32, 49, 58, 82, 75, 41, 90, 59, 50, 80, 44, 87, 18, 34, 70, 53, 94, 68, 12, 83, 89, 67, 17, 26, 86, 16, 92, 99, 25, 84, 62, 61, 42, 43, 66, 72, 30, 73, 31, 65, 35]\n"
     ]
    }
   ],
   "source": [
    "import random\n",
    "l_100 = [i for i in range(100)]\n",
    "random.shuffle(l_100)\n",
    "print(l_100)"
   ]
  },
  {
   "cell_type": "code",
   "execution_count": 6,
   "metadata": {},
   "outputs": [
    {
     "name": "stdout",
     "output_type": "stream",
     "text": [
      "[99, 98, 97, 96, 95, 94, 93, 92, 91, 90, 89, 88, 87, 86, 85, 84, 83, 82, 81, 80, 79, 78, 77, 76, 75, 74, 73, 72, 71, 70, 69, 68, 67, 66, 65, 64, 63, 62, 61, 60, 59, 58, 57, 56, 55, 54, 53, 52, 51, 50, 49, 48, 47, 46, 45, 44, 43, 42, 41, 40, 39, 38, 37, 36, 35, 34, 33, 32, 31, 30, 29, 28, 27, 26, 25, 24, 23, 22, 21, 20, 19, 18, 17, 16, 15, 14, 13, 12, 11, 10, 9, 8, 7, 6, 5, 4, 3, 2, 1, 0]\n"
     ]
    }
   ],
   "source": [
    "print(heapSort(l_100))"
   ]
  },
  {
   "cell_type": "code",
   "execution_count": null,
   "metadata": {
    "collapsed": true
   },
   "outputs": [],
   "source": []
  }
 ],
 "metadata": {
  "kernelspec": {
   "display_name": "Python 3",
   "language": "python",
   "name": "python3"
  },
  "language_info": {
   "codemirror_mode": {
    "name": "ipython",
    "version": 3
   },
   "file_extension": ".py",
   "mimetype": "text/x-python",
   "name": "python",
   "nbconvert_exporter": "python",
   "pygments_lexer": "ipython3",
   "version": "3.6.3"
  }
 },
 "nbformat": 4,
 "nbformat_minor": 2
}
