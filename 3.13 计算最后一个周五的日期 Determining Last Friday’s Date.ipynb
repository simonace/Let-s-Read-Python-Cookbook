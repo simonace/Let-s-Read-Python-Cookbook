{
 "cells": [
  {
   "cell_type": "markdown",
   "metadata": {},
   "source": [
    "[datetime doc](https://docs.python.org/3/library/datetime.html)\n",
    "\n",
    "### here is a small program to calculate days to birthday in this year"
   ]
  },
  {
   "cell_type": "code",
   "execution_count": 2,
   "metadata": {
    "collapsed": true
   },
   "outputs": [],
   "source": [
    "import datetime\n",
    "\n",
    "birthday_dict = {'cc':datetime.datetime(1989,11,13), 'lwy':datetime.datetime(1993,2,11),\n",
    "                 'zp':datetime.datetime(1989,1,3), 'zyj':datetime.datetime(1989,7,18)}"
   ]
  },
  {
   "cell_type": "code",
   "execution_count": 1,
   "metadata": {
    "collapsed": true
   },
   "outputs": [],
   "source": [
    "def daysToBirthday(who):\n",
    "    today = datetime.datetime.today()\n",
    "    if who in birthday_dict:\n",
    "        next_bd = datetime.datetime(year = today.year,\n",
    "                                         month = birthday_dict[who].month,\n",
    "                                         day = birthday_dict[who].day)\n",
    "        if (next_bd - today).days < 0:\n",
    "            next_bd = next_bd.replace(year=today.year+1)\n",
    "        return (next_bd - today).days\n",
    "    else:\n",
    "        raise Exception(\"name not in dict\")"
   ]
  },
  {
   "cell_type": "code",
   "execution_count": 3,
   "metadata": {},
   "outputs": [
    {
     "name": "stdout",
     "output_type": "stream",
     "text": [
      "114 day(s) to cc's birthday.\n",
      "204 day(s) to lwy's birthday.\n",
      "165 day(s) to zp's birthday.\n",
      "361 day(s) to zyj's birthday.\n"
     ]
    }
   ],
   "source": [
    "for name in birthday_dict.keys():\n",
    "    print(str(daysToBirthday(name)) + \" day(s) to \" + name + \"'s birthday.\")"
   ]
  },
  {
   "cell_type": "code",
   "execution_count": null,
   "metadata": {
    "collapsed": true
   },
   "outputs": [],
   "source": []
  }
 ],
 "metadata": {
  "kernelspec": {
   "display_name": "Python 3",
   "language": "python",
   "name": "python3"
  },
  "language_info": {
   "codemirror_mode": {
    "name": "ipython",
    "version": 3
   },
   "file_extension": ".py",
   "mimetype": "text/x-python",
   "name": "python",
   "nbconvert_exporter": "python",
   "pygments_lexer": "ipython3",
   "version": "3.6.3"
  }
 },
 "nbformat": 4,
 "nbformat_minor": 2
}
