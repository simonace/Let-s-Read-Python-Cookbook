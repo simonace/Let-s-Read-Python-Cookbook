{
 "cells": [
  {
   "cell_type": "markdown",
   "metadata": {},
   "source": [
    "[open() doc](https://docs.python.org/3/library/functions.html#open)\n",
    "\n",
    "> Use the ***open()*** function with mode **rb** or **wb** to read or write binary data."
   ]
  },
  {
   "cell_type": "markdown",
   "metadata": {},
   "source": [
    "> When reading binary data, the subtle semantic differences between byte strings and text\n",
    "strings pose a potential gotcha. In particular, be aware that indexing and iteration return\n",
    "integer byte values instead of byte strings."
   ]
  },
  {
   "cell_type": "code",
   "execution_count": 2,
   "metadata": {},
   "outputs": [
    {
     "name": "stdout",
     "output_type": "stream",
     "text": [
      "5\n",
      "s\n",
      "\n",
      "5\n",
      "115\n"
     ]
    }
   ],
   "source": [
    "s1 = \"simon\"\n",
    "b1 = b\"simon\"\n",
    "\n",
    "print(len(s1))\n",
    "print(s1[0])\n",
    "print()\n",
    "print(len(b1))\n",
    "print(b1[0])"
   ]
  },
  {
   "cell_type": "markdown",
   "metadata": {},
   "source": [
    "> A lesser-known aspect of binary I/O is that objects such as arrays and C structures can\n",
    "be used for writing ___without___ any kind of intermediate conversion to a bytes object.\n",
    "\n",
    "> This applies to any object that implements the so-called “buffer interface,” which directly\n",
    "exposes an underlying memory buffer to operations that can work with it. Writing\n",
    "binary data is one such operation.\n",
    "\n",
    "> However, great care should be taken when using this technique, as it is often platform\n",
    "specific and may depend on such things as the word size and byte ordering (i.e., big\n",
    "endian versus little endian)."
   ]
  },
  {
   "cell_type": "code",
   "execution_count": null,
   "metadata": {},
   "outputs": [],
   "source": []
  }
 ],
 "metadata": {
  "kernelspec": {
   "display_name": "Python 3",
   "language": "python",
   "name": "python3"
  },
  "language_info": {
   "codemirror_mode": {
    "name": "ipython",
    "version": 3
   },
   "file_extension": ".py",
   "mimetype": "text/x-python",
   "name": "python",
   "nbconvert_exporter": "python",
   "pygments_lexer": "ipython3",
   "version": "3.6.5"
  }
 },
 "nbformat": 4,
 "nbformat_minor": 2
}
