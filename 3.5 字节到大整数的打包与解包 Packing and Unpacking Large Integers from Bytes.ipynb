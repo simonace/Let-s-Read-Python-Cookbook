{
 "cells": [
  {
   "cell_type": "markdown",
   "metadata": {},
   "source": [
    "## use build-in type int to unpack\n",
    "\n",
    "[int.to_bytes()](https://docs.python.org/3/library/stdtypes.html#int.to_bytes)\n",
    "\n",
    "[int.from_bytes()](https://docs.python.org/3/library/stdtypes.html#int.from_bytes)\n",
    "\n",
    "[Endianness](https://en.wikipedia.org/wiki/Endianness)"
   ]
  },
  {
   "cell_type": "code",
   "execution_count": 1,
   "metadata": {
    "collapsed": true
   },
   "outputs": [],
   "source": [
    "data = b'\\x00\\x124V\\x00x\\x90\\xab\\x00\\xcd\\xef\\x01\\x00#\\x004'"
   ]
  },
  {
   "cell_type": "code",
   "execution_count": 2,
   "metadata": {},
   "outputs": [
    {
     "name": "stdout",
     "output_type": "stream",
     "text": [
      "94522842520747284487117727783387188\n",
      "69120565665751139577663547927094891008\n"
     ]
    }
   ],
   "source": [
    "int_data_b = int.from_bytes(data,'big')\n",
    "int_data_l = int.from_bytes(data,'little')\n",
    "print(int_data_b)\n",
    "print(int_data_l)"
   ]
  },
  {
   "cell_type": "markdown",
   "metadata": {},
   "source": [
    "## using struct to unpack\n",
    "\n",
    "[struct doc](https://docs.python.org/3/library/struct.html)\n",
    "\n",
    "[format 1](https://docs.python.org/3/library/struct.html#byte-order-size-and-alignment)\n",
    "\n",
    "[format 2](https://docs.python.org/3/library/struct.html#format-characters)\n",
    "\n",
    "'>QQ' means big endian and 2 unsign long long(8 bytes) (128bit)"
   ]
  },
  {
   "cell_type": "code",
   "execution_count": 3,
   "metadata": {},
   "outputs": [
    {
     "name": "stdout",
     "output_type": "stream",
     "text": [
      "94522842520747284487117727783387188\n",
      "True\n"
     ]
    }
   ],
   "source": [
    "import struct\n",
    "\n",
    "hi, lo = struct.unpack('>QQ', data)\n",
    "data_struct_unpack = (hi << 64) + lo\n",
    "print(data_struct_unpack)\n",
    "print(data_struct_unpack == int_data_b)"
   ]
  },
  {
   "cell_type": "code",
   "execution_count": 4,
   "metadata": {},
   "outputs": [
    {
     "name": "stdout",
     "output_type": "stream",
     "text": [
      "3560859255029470777615016290791057512390950892437504817798719269281230881835989508317862081\n"
     ]
    }
   ],
   "source": [
    "really_big = 77 ** 48\n",
    "print(really_big)"
   ]
  },
  {
   "cell_type": "code",
   "execution_count": 11,
   "metadata": {},
   "outputs": [
    {
     "ename": "OverflowError",
     "evalue": "int too big to convert",
     "output_type": "error",
     "traceback": [
      "\u001b[1;31m---------------------------------------------------------------------------\u001b[0m",
      "\u001b[1;31mOverflowError\u001b[0m                             Traceback (most recent call last)",
      "\u001b[1;32m<ipython-input-11-40d6e01b3bb8>\u001b[0m in \u001b[0;36m<module>\u001b[1;34m()\u001b[0m\n\u001b[0;32m      1\u001b[0m \u001b[1;31m# 16 bytes\u001b[0m\u001b[1;33m\u001b[0m\u001b[1;33m\u001b[0m\u001b[0m\n\u001b[1;32m----> 2\u001b[1;33m \u001b[0mreally_big\u001b[0m\u001b[1;33m.\u001b[0m\u001b[0mto_bytes\u001b[0m\u001b[1;33m(\u001b[0m\u001b[1;36m16\u001b[0m\u001b[1;33m,\u001b[0m \u001b[1;34m'little'\u001b[0m\u001b[1;33m)\u001b[0m\u001b[1;33m\u001b[0m\u001b[0m\n\u001b[0m",
      "\u001b[1;31mOverflowError\u001b[0m: int too big to convert"
     ]
    }
   ],
   "source": [
    "# 16 bytes\n",
    "really_big.to_bytes(16, 'little')"
   ]
  },
  {
   "cell_type": "code",
   "execution_count": 6,
   "metadata": {},
   "outputs": [
    {
     "name": "stdout",
     "output_type": "stream",
     "text": [
      "301\n"
     ]
    }
   ],
   "source": [
    "print(really_big.bit_length())"
   ]
  },
  {
   "cell_type": "code",
   "execution_count": 7,
   "metadata": {},
   "outputs": [
    {
     "name": "stdout",
     "output_type": "stream",
     "text": [
      "38\n"
     ]
    }
   ],
   "source": [
    "nbytes, rem = divmod(really_big.bit_length(), 8)\n",
    "if rem:\n",
    "    nbytes += 1\n",
    "    \n",
    "print(nbytes)"
   ]
  },
  {
   "cell_type": "code",
   "execution_count": 12,
   "metadata": {},
   "outputs": [
    {
     "data": {
      "text/plain": [
       "b'\\xc1X!\\xa3\\x0b9o\\xea\\x97m/\\x1e\\xee\\xf7X\\xd5.R5\\xc0\\x07\\xe36\\x9c\\xdd\\xc7-W\\xa5\\xb5\\x8e\\x8bj\\xee\\xce\\x0c\\xf8\\x1b'"
      ]
     },
     "execution_count": 12,
     "metadata": {},
     "output_type": "execute_result"
    }
   ],
   "source": [
    "really_big.to_bytes(nbytes, 'little')"
   ]
  },
  {
   "cell_type": "code",
   "execution_count": null,
   "metadata": {
    "collapsed": true
   },
   "outputs": [],
   "source": []
  }
 ],
 "metadata": {
  "kernelspec": {
   "display_name": "Python 3",
   "language": "python",
   "name": "python3"
  },
  "language_info": {
   "codemirror_mode": {
    "name": "ipython",
    "version": 3
   },
   "file_extension": ".py",
   "mimetype": "text/x-python",
   "name": "python",
   "nbconvert_exporter": "python",
   "pygments_lexer": "ipython3",
   "version": "3.6.3"
  }
 },
 "nbformat": 4,
 "nbformat_minor": 2
}
