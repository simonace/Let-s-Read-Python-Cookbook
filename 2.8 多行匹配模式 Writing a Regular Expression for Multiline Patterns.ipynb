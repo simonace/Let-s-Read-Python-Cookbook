{
 "cells": [
  {
   "cell_type": "markdown",
   "metadata": {},
   "source": [
    "### can use (?:.|\\n) or a flag as re.DOTALL to overcome the fact that dot(.) doesn’t match newlines\n",
    "\n",
    "[re.DOTALL](https://docs.python.org/3/library/re.html#re.DOTALL)"
   ]
  },
  {
   "cell_type": "code",
   "execution_count": 1,
   "metadata": {},
   "outputs": [
    {
     "name": "stdout",
     "output_type": "stream",
     "text": [
      "The computer says: \"hello,\n",
      "world!\"\n"
     ]
    }
   ],
   "source": [
    "text_with_new_lines = 'The computer says: \"hello,\\nworld!\"'\n",
    "print(text_with_new_lines)"
   ]
  },
  {
   "cell_type": "markdown",
   "metadata": {},
   "source": [
    "#### use (?:.|\\n)"
   ]
  },
  {
   "cell_type": "code",
   "execution_count": 3,
   "metadata": {},
   "outputs": [
    {
     "name": "stdout",
     "output_type": "stream",
     "text": [
      "[]\n",
      "['\"hello,\\nworld!\"']\n"
     ]
    }
   ],
   "source": [
    "import re\n",
    "\n",
    "# without handling the newlines\n",
    "quoted = re.compile(r'\".*\"')\n",
    "print(quoted.findall(text_with_new_lines))\n",
    "\n",
    "# with handling the newlines\n",
    "quoted_with_newlines = re.compile(r'\"(?:.|\\n)*\"')\n",
    "print(quoted_with_newlines.findall(text_with_new_lines))"
   ]
  },
  {
   "cell_type": "markdown",
   "metadata": {},
   "source": [
    "#### use re.DOTALL"
   ]
  },
  {
   "cell_type": "code",
   "execution_count": 4,
   "metadata": {},
   "outputs": [
    {
     "name": "stdout",
     "output_type": "stream",
     "text": [
      "['\"hello,\\nworld!\"']\n"
     ]
    }
   ],
   "source": [
    "quoted_dotall = re.compile(r'\".*\"', flags=re.DOTALL)\n",
    "print(quoted_dotall.findall(text_with_new_lines))"
   ]
  },
  {
   "cell_type": "code",
   "execution_count": null,
   "metadata": {},
   "outputs": [],
   "source": []
  }
 ],
 "metadata": {
  "kernelspec": {
   "display_name": "Python 3",
   "language": "python",
   "name": "python3"
  },
  "language_info": {
   "codemirror_mode": {
    "name": "ipython",
    "version": 3
   },
   "file_extension": ".py",
   "mimetype": "text/x-python",
   "name": "python",
   "nbconvert_exporter": "python",
   "pygments_lexer": "ipython3",
   "version": "3.6.4"
  }
 },
 "nbformat": 4,
 "nbformat_minor": 2
}
