{
 "cells": [
  {
   "cell_type": "code",
   "execution_count": 1,
   "metadata": {},
   "outputs": [
    {
     "name": "stdout",
     "output_type": "stream",
     "text": [
      "2018-04-17 00:00:00\n"
     ]
    }
   ],
   "source": [
    "import datetime\n",
    "\n",
    "date_string = \"17-04-2018\"\n",
    "\n",
    "d = datetime.datetime.strptime(date_string, \"%d-%m-%Y\")\n",
    "print(d)"
   ]
  },
  {
   "cell_type": "code",
   "execution_count": 2,
   "metadata": {
    "collapsed": true
   },
   "outputs": [],
   "source": [
    "def my_strptime(date_string):\n",
    "    day, month, year = date_string.split('-')\n",
    "    return datetime.datetime(int(year),int(month),int(day))"
   ]
  },
  {
   "cell_type": "code",
   "execution_count": 6,
   "metadata": {},
   "outputs": [
    {
     "name": "stdout",
     "output_type": "stream",
     "text": [
      "['28-5-2018', '29-5-2018', '30-5-2018', '31-5-2018', '1-6-2018', '2-6-2018', '3-6-2018', '4-6-2018', '5-6-2018', '6-6-2018', '7-6-2018', '8-6-2018', '9-6-2018', '10-6-2018', '11-6-2018', '12-6-2018', '13-6-2018', '14-6-2018', '15-6-2018', '16-6-2018', '17-6-2018', '18-6-2018', '19-6-2018', '20-6-2018', '21-6-2018', '22-6-2018', '23-6-2018', '24-6-2018', '25-6-2018', '26-6-2018', '27-6-2018', '28-6-2018', '29-6-2018', '30-6-2018', '1-7-2018']\n"
     ]
    }
   ],
   "source": [
    "import calendar\n",
    "c = calendar.Calendar()\n",
    "\n",
    "date_string_list = []\n",
    "for d in c.itermonthdates(2018,6):\n",
    "    date_string_list.append('-'.join([str(d.day),str(d.month),str(d.year)]))\n",
    "    \n",
    "print(date_string_list)"
   ]
  },
  {
   "cell_type": "markdown",
   "metadata": {},
   "source": [
    "> It’s worth noting that the performance of strptime() is often much worse than you\n",
    "might expect, due to the fact that it’s written in pure Python and it has to deal with all\n",
    "sorts of system locale settings.\n",
    "\n",
    "datetime.datetime.strptime() takes more time than a customized def"
   ]
  },
  {
   "cell_type": "code",
   "execution_count": 8,
   "metadata": {},
   "outputs": [
    {
     "name": "stdout",
     "output_type": "stream",
     "text": [
      "315 µs ± 21.4 µs per loop (mean ± std. dev. of 7 runs, 1000 loops each)\n"
     ]
    }
   ],
   "source": [
    "%%timeit\n",
    "\n",
    "for s in date_string_list:\n",
    "    d = datetime.datetime.strptime(s, \"%d-%m-%Y\")"
   ]
  },
  {
   "cell_type": "code",
   "execution_count": 9,
   "metadata": {},
   "outputs": [
    {
     "name": "stdout",
     "output_type": "stream",
     "text": [
      "43.6 µs ± 983 ns per loop (mean ± std. dev. of 7 runs, 10000 loops each)\n"
     ]
    }
   ],
   "source": [
    "%%timeit\n",
    "\n",
    "for s in date_string_list:\n",
    "    d = my_strptime(s)"
   ]
  },
  {
   "cell_type": "code",
   "execution_count": null,
   "metadata": {
    "collapsed": true
   },
   "outputs": [],
   "source": []
  }
 ],
 "metadata": {
  "kernelspec": {
   "display_name": "Python 3",
   "language": "python",
   "name": "python3"
  },
  "language_info": {
   "codemirror_mode": {
    "name": "ipython",
    "version": 3
   },
   "file_extension": ".py",
   "mimetype": "text/x-python",
   "name": "python",
   "nbconvert_exporter": "python",
   "pygments_lexer": "ipython3",
   "version": "3.6.3"
  }
 },
 "nbformat": 4,
 "nbformat_minor": 2
}
