{
 "cells": [
  {
   "cell_type": "code",
   "execution_count": 10,
   "metadata": {},
   "outputs": [
    {
     "name": "stdout",
     "output_type": "stream",
     "text": [
      "3.14\n",
      "3,141,592.65\n",
      "3.142e+05\n"
     ]
    }
   ],
   "source": [
    "import math\n",
    "\n",
    "print(format(math.pi, '.2f'))\n",
    "\n",
    "# Inclusion of thousands separator\n",
    "print(format(math.pi*1000000, ',.2f'))\n",
    "\n",
    "# exponential notation\n",
    "print(format(math.pi*100000, '.3e'))"
   ]
  },
  {
   "cell_type": "markdown",
   "metadata": {},
   "source": [
    "> The technique shown works\n",
    "for both floating-point numbers and Decimal numbers in the decimal module."
   ]
  },
  {
   "cell_type": "code",
   "execution_count": 13,
   "metadata": {},
   "outputs": [
    {
     "name": "stdout",
     "output_type": "stream",
     "text": [
      "3.14\n",
      "3,141,590.00\n",
      "3.142e+5\n"
     ]
    }
   ],
   "source": [
    "from decimal import Decimal\n",
    "\n",
    "f1 = Decimal('3.14159')\n",
    "\n",
    "print(format(f1,'.2f'))\n",
    "print(format(f1*1000000, ',.2f'))\n",
    "print(format(f1*100000, '.3e'))"
   ]
  },
  {
   "cell_type": "markdown",
   "metadata": {},
   "source": [
    "### a way to make german style numbers\n",
    "\n",
    "[str.translate()](https://docs.python.org/3/library/stdtypes.html#str.translate) takes a dict with key as unicode ordinal\n",
    "\n",
    "[ord()](https://docs.python.org/3/library/functions.html#ord) returns the unicode ordinal of this character"
   ]
  },
  {
   "cell_type": "code",
   "execution_count": 15,
   "metadata": {},
   "outputs": [
    {
     "name": "stdout",
     "output_type": "stream",
     "text": [
      "314.159,27\n"
     ]
    }
   ],
   "source": [
    "tran_dict = {ord(','):'.',ord('.'):','}\n",
    "print(format(math.pi*100000, ',.2f').translate(tran_dict))"
   ]
  },
  {
   "cell_type": "code",
   "execution_count": null,
   "metadata": {},
   "outputs": [],
   "source": []
  }
 ],
 "metadata": {
  "kernelspec": {
   "display_name": "Python 3",
   "language": "python",
   "name": "python3"
  },
  "language_info": {
   "codemirror_mode": {
    "name": "ipython",
    "version": 3
   },
   "file_extension": ".py",
   "mimetype": "text/x-python",
   "name": "python",
   "nbconvert_exporter": "python",
   "pygments_lexer": "ipython3",
   "version": "3.6.4"
  }
 },
 "nbformat": 4,
 "nbformat_minor": 2
}
