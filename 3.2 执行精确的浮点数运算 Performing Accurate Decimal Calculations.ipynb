{
 "cells": [
  {
   "cell_type": "markdown",
   "metadata": {},
   "source": [
    "> If you want more accuracy (and are willing to give up some performance), you can use\n",
    "the decimal module\n",
    "\n",
    "[decimal doc](https://docs.python.org/3/library/decimal.html)"
   ]
  },
  {
   "cell_type": "code",
   "execution_count": 4,
   "metadata": {},
   "outputs": [
    {
     "name": "stdout",
     "output_type": "stream",
     "text": [
      "1\n",
      "0.0\n"
     ]
    }
   ],
   "source": [
    "from decimal import Decimal\n",
    "\n",
    "a = Decimal('1.8e16')\n",
    "b = Decimal('-1.8e16')\n",
    "uno = Decimal('1')\n",
    "print(a+uno+b)\n",
    "\n",
    "aa = 1.8e16\n",
    "bb = -1.8e16\n",
    "uu = 1\n",
    "print(aa+uu+bb)"
   ]
  },
  {
   "cell_type": "markdown",
   "metadata": {},
   "source": [
    "[math.fsum() doc](https://docs.python.org/3/library/math.html#math.fsum)"
   ]
  },
  {
   "cell_type": "code",
   "execution_count": 8,
   "metadata": {},
   "outputs": [
    {
     "name": "stdout",
     "output_type": "stream",
     "text": [
      "0.0\n",
      "1.0\n"
     ]
    }
   ],
   "source": [
    "print(sum([aa,uu,bb]))\n",
    "\n",
    "import math\n",
    "\n",
    "print(math.fsum([aa,uu,bb]))"
   ]
  },
  {
   "cell_type": "code",
   "execution_count": null,
   "metadata": {},
   "outputs": [],
   "source": []
  }
 ],
 "metadata": {
  "kernelspec": {
   "display_name": "Python 3",
   "language": "python",
   "name": "python3"
  },
  "language_info": {
   "codemirror_mode": {
    "name": "ipython",
    "version": 3
   },
   "file_extension": ".py",
   "mimetype": "text/x-python",
   "name": "python",
   "nbconvert_exporter": "python",
   "pygments_lexer": "ipython3",
   "version": "3.6.4"
  }
 },
 "nbformat": 4,
 "nbformat_minor": 2
}
