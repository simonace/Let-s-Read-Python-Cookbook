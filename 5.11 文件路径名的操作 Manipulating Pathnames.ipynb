{
 "cells": [
  {
   "cell_type": "markdown",
   "metadata": {},
   "source": [
    ">For any manipulation of filenames, you should use the [os.path](https://docs.python.org/3/library/os.path.html) module instead of trying\n",
    "to cook up your own code using the standard string operations.\n",
    "\n",
    "> The ***os.path*** module knows about differences between Unix and Windows\n",
    "and can reliably deal with filenames such as Data/data.csv and Data\\data.csv. Second,\n",
    "you really shouldn’t spend your time **reinventing the wheel**."
   ]
  },
  {
   "cell_type": "code",
   "execution_count": 7,
   "metadata": {},
   "outputs": [
    {
     "name": "stdout",
     "output_type": "stream",
     "text": [
      "/home/jovyan/binder\n"
     ]
    }
   ],
   "source": [
    "import os\n",
    "\n",
    "print(os.getcwd())"
   ]
  },
  {
   "cell_type": "code",
   "execution_count": 13,
   "metadata": {},
   "outputs": [
    {
     "name": "stdout",
     "output_type": "stream",
     "text": [
      "c.txt\n",
      "a/b\n",
      "d/e/f.py\n"
     ]
    }
   ],
   "source": [
    "some_path=\"a/b/c.txt\"\n",
    "\n",
    "print(os.path.basename(some_path))\n",
    "\n",
    "print(os.path.dirname(some_path))\n",
    "\n",
    "print(os.path.join('d','e','f.py'))"
   ]
  },
  {
   "cell_type": "markdown",
   "metadata": {},
   "source": []
  }
 ],
 "metadata": {
  "kernelspec": {
   "display_name": "Python 3",
   "language": "python",
   "name": "python3"
  },
  "language_info": {
   "codemirror_mode": {
    "name": "ipython",
    "version": 3
   },
   "file_extension": ".py",
   "mimetype": "text/x-python",
   "name": "python",
   "nbconvert_exporter": "python",
   "pygments_lexer": "ipython3",
   "version": "3.6.5"
  }
 },
 "nbformat": 4,
 "nbformat_minor": 2
}
