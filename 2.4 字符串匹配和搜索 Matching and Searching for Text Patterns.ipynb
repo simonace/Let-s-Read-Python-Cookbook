{
 "cells": [
  {
   "cell_type": "markdown",
   "metadata": {},
   "source": [
    "[re.match() doc](https://docs.python.org/3/library/re.html#re.match)\n",
    "\n",
    "[str.find() doc](https://docs.python.org/3/library/stdtypes.html#str.find)"
   ]
  },
  {
   "cell_type": "code",
   "execution_count": 1,
   "metadata": {},
   "outputs": [],
   "source": [
    "stark = \"winter is coming\"\n",
    "targaryen = \"fire and blood\""
   ]
  },
  {
   "cell_type": "code",
   "execution_count": 2,
   "metadata": {},
   "outputs": [
    {
     "name": "stdout",
     "output_type": "stream",
     "text": [
      "True\n",
      "False\n",
      "7\n"
     ]
    }
   ],
   "source": [
    "print(stark.startswith(\"winter\"))\n",
    "print(targaryen.endswith(\"fire\"))\n",
    "print(stark.find(\"is\"))"
   ]
  },
  {
   "cell_type": "markdown",
   "metadata": {},
   "source": [
    "#### for more complicated pattern use re.match() to match"
   ]
  },
  {
   "cell_type": "code",
   "execution_count": 4,
   "metadata": {},
   "outputs": [
    {
     "name": "stdout",
     "output_type": "stream",
     "text": [
      "winter is coming\n"
     ]
    }
   ],
   "source": [
    "import re\n",
    "\n",
    "if re.match(r'\\w+\\sis\\s\\w+', stark):\n",
    "    print(stark)\n",
    "if re.match(r'\\w+\\sis\\s\\w+', targaryen):\n",
    "    print(targaryen)"
   ]
  },
  {
   "cell_type": "markdown",
   "metadata": {},
   "source": [
    "> If you’re going to perform a lot of matches using the same pattern, it usually pays to\n",
    "precompile the regular expression pattern into a pattern object first."
   ]
  },
  {
   "cell_type": "code",
   "execution_count": 7,
   "metadata": {},
   "outputs": [
    {
     "name": "stdout",
     "output_type": "stream",
     "text": [
      "Third person single:\n",
      "She is cute\n",
      "He is handsome\n",
      "I am clever. She is cute. He is handsome. You are funny.\n",
      "['She is cute', 'He is handsome']\n"
     ]
    }
   ],
   "source": [
    "my_match_pattern = re.compile(r'\\w+\\sis\\s\\w+')\n",
    "\n",
    "me = \"I am clever\"\n",
    "her = \"She is cute\"\n",
    "him = \"He is handsome\"\n",
    "you = \"You are funny\"\n",
    "\n",
    "# match() to check if match\n",
    "print(\"Third person single:\")\n",
    "for s in [me,her,him,you]:\n",
    "    if my_match_pattern.match(s):\n",
    "        print(s)\n",
    "        \n",
    "us = me + \". \" + her + \". \" + him + \". \" + you + '.'\n",
    "print(us)\n",
    "\n",
    "# findall() to find all matched strings\n",
    "print(my_match_pattern.findall(us))"
   ]
  },
  {
   "cell_type": "markdown",
   "metadata": {},
   "source": [
    "### match() doesn't return a bool result, but a class which has more methods (by using capture pattern)"
   ]
  },
  {
   "cell_type": "code",
   "execution_count": 14,
   "metadata": {},
   "outputs": [
    {
     "name": "stdout",
     "output_type": "stream",
     "text": [
      "<_sre.SRE_Match object; span=(0, 11), match='She is cute'>\n",
      "She is cute\n",
      "cute\n",
      "('handsome',)\n"
     ]
    }
   ],
   "source": [
    "how_pattern = re.compile(r'\\w+\\sis\\s(\\w+)')\n",
    "her_how = how_pattern.match(her)\n",
    "him_how = how_pattern.match(him)\n",
    "print(her_how)\n",
    "\n",
    "# group(0) return the whole matched string\n",
    "print(her_how.group(0))\n",
    "# group(1) return the first captured pattern string\n",
    "print(her_how.group(1))\n",
    "# groups() return a tuple of all captured strings\n",
    "print(him_how.groups())"
   ]
  },
  {
   "cell_type": "code",
   "execution_count": null,
   "metadata": {},
   "outputs": [],
   "source": []
  }
 ],
 "metadata": {
  "kernelspec": {
   "display_name": "Python 3",
   "language": "python",
   "name": "python3"
  },
  "language_info": {
   "codemirror_mode": {
    "name": "ipython",
    "version": 3
   },
   "file_extension": ".py",
   "mimetype": "text/x-python",
   "name": "python",
   "nbconvert_exporter": "python",
   "pygments_lexer": "ipython3",
   "version": "3.6.4"
  }
 },
 "nbformat": 4,
 "nbformat_minor": 2
}
